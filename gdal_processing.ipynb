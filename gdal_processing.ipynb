{
 "cells": [
  {
   "cell_type": "code",
   "execution_count": 1,
   "metadata": {},
   "outputs": [],
   "source": [
    "from osgeo import gdal, ogr\n",
    "from osgeo_utils.rgb2pct import *\n",
    "\n",
    "import os"
   ]
  },
  {
   "cell_type": "code",
   "execution_count": 18,
   "metadata": {},
   "outputs": [],
   "source": [
    "path_to_shp_file = \"shapefiles/only_bm_0_0.shp.zip\"\n",
    "file = ogr.Open(path_to_shp_file)\n",
    "assert file"
   ]
  },
  {
   "cell_type": "code",
   "execution_count": 22,
   "metadata": {},
   "outputs": [
    {
     "name": "stdout",
     "output_type": "stream",
     "text": [
      "{\"type\": \"Feature\", \"geometry\": {\"type\": \"Point\", \"coordinates\": [8.943549, 56.95384969]}, \"properties\": {\"bm_dens\": 0}, \"id\": 1}\n"
     ]
    }
   ],
   "source": [
    "shape = file.GetLayer(0)\n",
    "#first feature of the shapefile\n",
    "feature = shape.GetFeature(1)\n",
    "first = feature.ExportToJson()\n",
    "print(first) # (GeoJSON format)\n",
    "# {\"type\": \"Feature\", \"geometry\": {\"type\": \"Point\", \"coordinates\": [8.943549, 56.996942]}, \"properties\": {\"bm_dens\": 10, \"bm_size\": 58}, \"id\": 0}"
   ]
  },
  {
   "cell_type": "code",
   "execution_count": 32,
   "metadata": {},
   "outputs": [],
   "source": [
    "# idw = gdal.Grid(\"only_bm.tif\", path_to_shp_file, format=\"GTiff\", zfield=\"bm_dens\", algorithm=\"invdist:power=1:smoothing=0.0015:radius=1\", options=\"-ot Byte\")\n",
    "idw = gdal.Grid(\"only_bm_0_0-02.tif\", path_to_shp_file, format=\"GTiff\", zfield=\"bm_dens\", algorithm=\"invdist:power=1:smoothing=0.000:radius=0.1:max_points_per_quadrant=1\")\n",
    "                \n",
    "#  options=\"-ot Byte \n",
    "idw = None"
   ]
  },
  {
   "cell_type": "code",
   "execution_count": 9,
   "metadata": {},
   "outputs": [
    {
     "name": "stdout",
     "output_type": "stream",
     "text": [
      "Driver: GTiff/GeoTIFF\n",
      "Files: ./only_bm_zero_zero.tif\n",
      "Size is 256, 256\n",
      "Origin = (8.943549000000001,56.943096810000000)\n",
      "Pixel Size = (0.000455029121094,0.000210332773437)\n",
      "Image Structure Metadata:\n",
      "  INTERLEAVE=BAND\n",
      "Corner Coordinates:\n",
      "Upper Left  (   8.9435490,  56.9430968) \n",
      "Lower Left  (   8.9435490,  56.9969420) \n",
      "Upper Right (   9.0600365,  56.9430968) \n",
      "Lower Right (   9.0600365,  56.9969420) \n",
      "Center      (   9.0017927,  56.9700194) \n",
      "Band 1 Block=256x4 Type=Float64, ColorInterp=Gray\n",
      "\n"
     ]
    }
   ],
   "source": [
    "### Metadata\n",
    "metadata = os.popen('gdalinfo ./only_bm_zero_zero.tif').read()\n",
    "print(metadata)"
   ]
  },
  {
   "cell_type": "code",
   "execution_count": 34,
   "metadata": {},
   "outputs": [
    {
     "name": "stdout",
     "output_type": "stream",
     "text": [
      "Driver: GTiff/GeoTIFF\n",
      "Files: ./ours.tiff\n",
      "Size is 256, 256\n",
      "Coordinate System is:\n",
      "GEOGCRS[\"WGS 84\",\n",
      "    DATUM[\"World Geodetic System 1984\",\n",
      "        ELLIPSOID[\"WGS 84\",6378137,298.257223563,\n",
      "            LENGTHUNIT[\"metre\",1]]],\n",
      "    PRIMEM[\"Greenwich\",0,\n",
      "        ANGLEUNIT[\"degree\",0.0174532925199433]],\n",
      "    CS[ellipsoidal,2],\n",
      "        AXIS[\"geodetic latitude (Lat)\",north,\n",
      "            ORDER[1],\n",
      "            ANGLEUNIT[\"degree\",0.0174532925199433]],\n",
      "        AXIS[\"geodetic longitude (Lon)\",east,\n",
      "            ORDER[2],\n",
      "            ANGLEUNIT[\"degree\",0.0174532925199433]],\n",
      "    ID[\"EPSG\",4326]]\n",
      "Data axis to CRS axis mapping: 2,1\n",
      "Origin = (8.943549000000001,56.943096810000000)\n",
      "Pixel Size = (0.000455029121094,0.000210332773437)\n",
      "Metadata:\n",
      "  AREA_OR_POINT=Area\n",
      "Image Structure Metadata:\n",
      "  INTERLEAVE=BAND\n",
      "Corner Coordinates:\n",
      "Upper Left  (   8.9435490,  56.9430968) (  8d56'36.78\"E, 56d56'35.15\"N)\n",
      "Lower Left  (   8.9435490,  56.9969420) (  8d56'36.78\"E, 56d59'48.99\"N)\n",
      "Upper Right (   9.0600365,  56.9430968) (  9d 3'36.13\"E, 56d56'35.15\"N)\n",
      "Lower Right (   9.0600365,  56.9969420) (  9d 3'36.13\"E, 56d59'48.99\"N)\n",
      "Center      (   9.0017927,  56.9700194) (  9d 0' 6.45\"E, 56d58'12.07\"N)\n",
      "Band 1 Block=256x4 Type=Float64, ColorInterp=Gray\n",
      "\n"
     ]
    }
   ],
   "source": [
    "metadata = os.popen('gdalinfo ./ours.tiff').read()\n",
    "print(metadata)\n",
    "metadata = None"
   ]
  },
  {
   "cell_type": "code",
   "execution_count": null,
   "metadata": {},
   "outputs": [],
   "source": [
    "# # Reduce colour palette down to 3 colours\n",
    "# input = \"output.tif\"\n",
    "# number_of_colour = 3\n",
    "# output = input+\"_pct_\"+str(number_of_colour)\n",
    "# pct = rgb2pct(input, None, output, 3)\n",
    "\n",
    "# # Run Grid again.\n",
    "# ds = gdal.Open('sample_pct_3.tif')\n",
    "# idw = gdal.Grid(\"sample_pct_3_grid.tif\", ds, format=\"GTiff\", zfield=\"Blue musse\", algorithm=\"invdist:power=3:smoothing=0.0015:radius=1\")\n",
    "# idw = None\n",
    "\n",
    "# # Translate Type=... to Type = Byte\n",
    "# ds = gdal.Open('ours.tiff')\n",
    "# ds = gdal.Translate('output.tif', ds, options = \"-ot Byte -expand gray\")\n",
    "\n",
    "\n"
   ]
  }
 ],
 "metadata": {
  "kernelspec": {
   "display_name": "venv",
   "language": "python",
   "name": "python3"
  },
  "language_info": {
   "codemirror_mode": {
    "name": "ipython",
    "version": 3
   },
   "file_extension": ".py",
   "mimetype": "text/x-python",
   "name": "python",
   "nbconvert_exporter": "python",
   "pygments_lexer": "ipython3",
   "version": "3.10.10"
  },
  "orig_nbformat": 4
 },
 "nbformat": 4,
 "nbformat_minor": 2
}
