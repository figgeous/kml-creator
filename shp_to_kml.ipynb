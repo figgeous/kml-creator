{
 "cells": [
  {
   "cell_type": "code",
   "execution_count": 85,
   "metadata": {},
   "outputs": [],
   "source": [
    "import numpy as np\n",
    "\n",
    "from constants import *\n",
    "from scripts.scripts import *\n",
    "from scripts.gdal_scripts import *"
   ]
  },
  {
   "cell_type": "code",
   "execution_count": 86,
   "metadata": {},
   "outputs": [
    {
     "name": "stdout",
     "output_type": "stream",
     "text": [
      "Driver: GTiff/GeoTIFF\n",
      "Files: tif_files/test_grid02.tif\n",
      "Size is 256, 256\n",
      "Origin = (9.065843041000001,56.834808879999997)\n",
      "Pixel Size = (0.000002829859375,0.000001506484375)\n",
      "Image Structure Metadata:\n",
      "  INTERLEAVE=BAND\n",
      "Corner Coordinates:\n",
      "Upper Left  (   9.0658430,  56.8348089) \n",
      "Lower Left  (   9.0658430,  56.8351945) \n",
      "Upper Right (   9.0665675,  56.8348089) \n",
      "Lower Right (   9.0665675,  56.8351945) \n",
      "Center      (   9.0662053,  56.8350017) \n",
      "Band 1 Block=256x16 Type=Int16, ColorInterp=Gray\n",
      "\n"
     ]
    }
   ],
   "source": [
    "main_name = \"test_grid02\"\n",
    "gdal_print_metadata(tif_name=main_name)"
   ]
  },
  {
   "cell_type": "code",
   "execution_count": 87,
   "metadata": {
    "collapsed": false
   },
   "outputs": [],
   "source": [
    "df = get_pandas_from_csv(csv_name=main_name+\"_coor\")"
   ]
  },
  {
   "cell_type": "code",
   "execution_count": 90,
   "metadata": {
    "collapsed": false
   },
   "outputs": [
    {
     "data": {
      "text/html": [
       "<div>\n",
       "<style scoped>\n",
       "    .dataframe tbody tr th:only-of-type {\n",
       "        vertical-align: middle;\n",
       "    }\n",
       "\n",
       "    .dataframe tbody tr th {\n",
       "        vertical-align: top;\n",
       "    }\n",
       "\n",
       "    .dataframe thead th {\n",
       "        text-align: right;\n",
       "    }\n",
       "</style>\n",
       "<table border=\"1\" class=\"dataframe\">\n",
       "  <thead>\n",
       "    <tr style=\"text-align: right;\">\n",
       "      <th></th>\n",
       "      <th>Unnamed: 0</th>\n",
       "      <th>lat</th>\n",
       "      <th>lon</th>\n",
       "      <th>value</th>\n",
       "      <th>simp_value</th>\n",
       "    </tr>\n",
       "  </thead>\n",
       "  <tbody>\n",
       "    <tr>\n",
       "      <th>0</th>\n",
       "      <td>0</td>\n",
       "      <td>56.835195</td>\n",
       "      <td>9.065843</td>\n",
       "      <td>100</td>\n",
       "      <td>75</td>\n",
       "    </tr>\n",
       "    <tr>\n",
       "      <th>1</th>\n",
       "      <td>1</td>\n",
       "      <td>56.835185</td>\n",
       "      <td>9.065843</td>\n",
       "      <td>100</td>\n",
       "      <td>75</td>\n",
       "    </tr>\n",
       "    <tr>\n",
       "      <th>2</th>\n",
       "      <td>2</td>\n",
       "      <td>56.835176</td>\n",
       "      <td>9.065843</td>\n",
       "      <td>80</td>\n",
       "      <td>75</td>\n",
       "    </tr>\n",
       "    <tr>\n",
       "      <th>3</th>\n",
       "      <td>3</td>\n",
       "      <td>56.835167</td>\n",
       "      <td>9.065843</td>\n",
       "      <td>80</td>\n",
       "      <td>75</td>\n",
       "    </tr>\n",
       "    <tr>\n",
       "      <th>4</th>\n",
       "      <td>4</td>\n",
       "      <td>56.835158</td>\n",
       "      <td>9.065843</td>\n",
       "      <td>80</td>\n",
       "      <td>75</td>\n",
       "    </tr>\n",
       "    <tr>\n",
       "      <th>...</th>\n",
       "      <td>...</td>\n",
       "      <td>...</td>\n",
       "      <td>...</td>\n",
       "      <td>...</td>\n",
       "      <td>...</td>\n",
       "    </tr>\n",
       "    <tr>\n",
       "      <th>425</th>\n",
       "      <td>425</td>\n",
       "      <td>56.834846</td>\n",
       "      <td>9.066567</td>\n",
       "      <td>0</td>\n",
       "      <td>25</td>\n",
       "    </tr>\n",
       "    <tr>\n",
       "      <th>426</th>\n",
       "      <td>426</td>\n",
       "      <td>56.834836</td>\n",
       "      <td>9.066567</td>\n",
       "      <td>0</td>\n",
       "      <td>25</td>\n",
       "    </tr>\n",
       "    <tr>\n",
       "      <th>427</th>\n",
       "      <td>427</td>\n",
       "      <td>56.834827</td>\n",
       "      <td>9.066567</td>\n",
       "      <td>0</td>\n",
       "      <td>25</td>\n",
       "    </tr>\n",
       "    <tr>\n",
       "      <th>428</th>\n",
       "      <td>428</td>\n",
       "      <td>56.834818</td>\n",
       "      <td>9.066567</td>\n",
       "      <td>0</td>\n",
       "      <td>25</td>\n",
       "    </tr>\n",
       "    <tr>\n",
       "      <th>429</th>\n",
       "      <td>429</td>\n",
       "      <td>56.834809</td>\n",
       "      <td>9.066567</td>\n",
       "      <td>0</td>\n",
       "      <td>25</td>\n",
       "    </tr>\n",
       "  </tbody>\n",
       "</table>\n",
       "<p>430 rows × 5 columns</p>\n",
       "</div>"
      ],
      "text/plain": [
       "     Unnamed: 0        lat       lon  value  simp_value\n",
       "0             0  56.835195  9.065843    100          75\n",
       "1             1  56.835185  9.065843    100          75\n",
       "2             2  56.835176  9.065843     80          75\n",
       "3             3  56.835167  9.065843     80          75\n",
       "4             4  56.835158  9.065843     80          75\n",
       "..          ...        ...       ...    ...         ...\n",
       "425         425  56.834846  9.066567      0          25\n",
       "426         426  56.834836  9.066567      0          25\n",
       "427         427  56.834827  9.066567      0          25\n",
       "428         428  56.834818  9.066567      0          25\n",
       "429         429  56.834809  9.066567      0          25\n",
       "\n",
       "[430 rows x 5 columns]"
      ]
     },
     "execution_count": 90,
     "metadata": {},
     "output_type": "execute_result"
    }
   ],
   "source": [
    "import numpy as np\n",
    "df[df[\"value\"] >= 50]\n",
    "\n",
    "PE_Conditions = [\n",
    "    (df['value'] < 50),\n",
    "    (df['value'] >= 50),]\n",
    "PE_Categories = [25, 75]\n",
    "df['simp_value'] = np.select(PE_Conditions, PE_Categories)\n",
    "df"
   ]
  },
  {
   "cell_type": "code",
   "execution_count": 92,
   "metadata": {
    "collapsed": false
   },
   "outputs": [],
   "source": [
    "geo_df = dataframe_to_shp(input_df=df)"
   ]
  },
  {
   "cell_type": "code",
   "execution_count": 93,
   "metadata": {
    "collapsed": false
   },
   "outputs": [
    {
     "data": {
      "text/html": [
       "<div>\n",
       "<style scoped>\n",
       "    .dataframe tbody tr th:only-of-type {\n",
       "        vertical-align: middle;\n",
       "    }\n",
       "\n",
       "    .dataframe tbody tr th {\n",
       "        vertical-align: top;\n",
       "    }\n",
       "\n",
       "    .dataframe thead th {\n",
       "        text-align: right;\n",
       "    }\n",
       "</style>\n",
       "<table border=\"1\" class=\"dataframe\">\n",
       "  <thead>\n",
       "    <tr style=\"text-align: right;\">\n",
       "      <th></th>\n",
       "      <th>Unnamed: 0</th>\n",
       "      <th>lat</th>\n",
       "      <th>lon</th>\n",
       "      <th>value</th>\n",
       "      <th>simp_value</th>\n",
       "      <th>geometry</th>\n",
       "    </tr>\n",
       "  </thead>\n",
       "  <tbody>\n",
       "    <tr>\n",
       "      <th>0</th>\n",
       "      <td>0</td>\n",
       "      <td>56.835195</td>\n",
       "      <td>9.065843</td>\n",
       "      <td>100</td>\n",
       "      <td>75</td>\n",
       "      <td>POINT (9.06584 56.83519)</td>\n",
       "    </tr>\n",
       "    <tr>\n",
       "      <th>1</th>\n",
       "      <td>1</td>\n",
       "      <td>56.835185</td>\n",
       "      <td>9.065843</td>\n",
       "      <td>100</td>\n",
       "      <td>75</td>\n",
       "      <td>POINT (9.06584 56.83519)</td>\n",
       "    </tr>\n",
       "    <tr>\n",
       "      <th>2</th>\n",
       "      <td>2</td>\n",
       "      <td>56.835176</td>\n",
       "      <td>9.065843</td>\n",
       "      <td>80</td>\n",
       "      <td>75</td>\n",
       "      <td>POINT (9.06584 56.83518)</td>\n",
       "    </tr>\n",
       "    <tr>\n",
       "      <th>3</th>\n",
       "      <td>3</td>\n",
       "      <td>56.835167</td>\n",
       "      <td>9.065843</td>\n",
       "      <td>80</td>\n",
       "      <td>75</td>\n",
       "      <td>POINT (9.06584 56.83517)</td>\n",
       "    </tr>\n",
       "    <tr>\n",
       "      <th>4</th>\n",
       "      <td>4</td>\n",
       "      <td>56.835158</td>\n",
       "      <td>9.065843</td>\n",
       "      <td>80</td>\n",
       "      <td>75</td>\n",
       "      <td>POINT (9.06584 56.83516)</td>\n",
       "    </tr>\n",
       "    <tr>\n",
       "      <th>...</th>\n",
       "      <td>...</td>\n",
       "      <td>...</td>\n",
       "      <td>...</td>\n",
       "      <td>...</td>\n",
       "      <td>...</td>\n",
       "      <td>...</td>\n",
       "    </tr>\n",
       "    <tr>\n",
       "      <th>425</th>\n",
       "      <td>425</td>\n",
       "      <td>56.834846</td>\n",
       "      <td>9.066567</td>\n",
       "      <td>0</td>\n",
       "      <td>25</td>\n",
       "      <td>POINT (9.06657 56.83485)</td>\n",
       "    </tr>\n",
       "    <tr>\n",
       "      <th>426</th>\n",
       "      <td>426</td>\n",
       "      <td>56.834836</td>\n",
       "      <td>9.066567</td>\n",
       "      <td>0</td>\n",
       "      <td>25</td>\n",
       "      <td>POINT (9.06657 56.83484)</td>\n",
       "    </tr>\n",
       "    <tr>\n",
       "      <th>427</th>\n",
       "      <td>427</td>\n",
       "      <td>56.834827</td>\n",
       "      <td>9.066567</td>\n",
       "      <td>0</td>\n",
       "      <td>25</td>\n",
       "      <td>POINT (9.06657 56.83483)</td>\n",
       "    </tr>\n",
       "    <tr>\n",
       "      <th>428</th>\n",
       "      <td>428</td>\n",
       "      <td>56.834818</td>\n",
       "      <td>9.066567</td>\n",
       "      <td>0</td>\n",
       "      <td>25</td>\n",
       "      <td>POINT (9.06657 56.83482)</td>\n",
       "    </tr>\n",
       "    <tr>\n",
       "      <th>429</th>\n",
       "      <td>429</td>\n",
       "      <td>56.834809</td>\n",
       "      <td>9.066567</td>\n",
       "      <td>0</td>\n",
       "      <td>25</td>\n",
       "      <td>POINT (9.06657 56.83481)</td>\n",
       "    </tr>\n",
       "  </tbody>\n",
       "</table>\n",
       "<p>430 rows × 6 columns</p>\n",
       "</div>"
      ],
      "text/plain": [
       "     Unnamed: 0        lat       lon  value  simp_value  \\\n",
       "0             0  56.835195  9.065843    100          75   \n",
       "1             1  56.835185  9.065843    100          75   \n",
       "2             2  56.835176  9.065843     80          75   \n",
       "3             3  56.835167  9.065843     80          75   \n",
       "4             4  56.835158  9.065843     80          75   \n",
       "..          ...        ...       ...    ...         ...   \n",
       "425         425  56.834846  9.066567      0          25   \n",
       "426         426  56.834836  9.066567      0          25   \n",
       "427         427  56.834827  9.066567      0          25   \n",
       "428         428  56.834818  9.066567      0          25   \n",
       "429         429  56.834809  9.066567      0          25   \n",
       "\n",
       "                     geometry  \n",
       "0    POINT (9.06584 56.83519)  \n",
       "1    POINT (9.06584 56.83519)  \n",
       "2    POINT (9.06584 56.83518)  \n",
       "3    POINT (9.06584 56.83517)  \n",
       "4    POINT (9.06584 56.83516)  \n",
       "..                        ...  \n",
       "425  POINT (9.06657 56.83485)  \n",
       "426  POINT (9.06657 56.83484)  \n",
       "427  POINT (9.06657 56.83483)  \n",
       "428  POINT (9.06657 56.83482)  \n",
       "429  POINT (9.06657 56.83481)  \n",
       "\n",
       "[430 rows x 6 columns]"
      ]
     },
     "execution_count": 93,
     "metadata": {},
     "output_type": "execute_result"
    }
   ],
   "source": [
    "geo_df"
   ]
  },
  {
   "cell_type": "code",
   "execution_count": 94,
   "metadata": {
    "collapsed": false
   },
   "outputs": [],
   "source": [
    "geo_df = geo_df.drop(columns=['Unnamed: 0','value','lat','lon'])"
   ]
  },
  {
   "cell_type": "code",
   "execution_count": 118,
   "metadata": {
    "collapsed": false
   },
   "outputs": [
    {
     "data": {
      "text/html": [
       "<div>\n",
       "<style scoped>\n",
       "    .dataframe tbody tr th:only-of-type {\n",
       "        vertical-align: middle;\n",
       "    }\n",
       "\n",
       "    .dataframe tbody tr th {\n",
       "        vertical-align: top;\n",
       "    }\n",
       "\n",
       "    .dataframe thead th {\n",
       "        text-align: right;\n",
       "    }\n",
       "</style>\n",
       "<table border=\"1\" class=\"dataframe\">\n",
       "  <thead>\n",
       "    <tr style=\"text-align: right;\">\n",
       "      <th></th>\n",
       "      <th>simp_value</th>\n",
       "      <th>geometry</th>\n",
       "    </tr>\n",
       "  </thead>\n",
       "  <tbody>\n",
       "    <tr>\n",
       "      <th>0</th>\n",
       "      <td>75</td>\n",
       "      <td>POINT (9.06584 56.83519)</td>\n",
       "    </tr>\n",
       "    <tr>\n",
       "      <th>1</th>\n",
       "      <td>75</td>\n",
       "      <td>POINT (9.06584 56.83519)</td>\n",
       "    </tr>\n",
       "    <tr>\n",
       "      <th>2</th>\n",
       "      <td>75</td>\n",
       "      <td>POINT (9.06584 56.83518)</td>\n",
       "    </tr>\n",
       "    <tr>\n",
       "      <th>3</th>\n",
       "      <td>75</td>\n",
       "      <td>POINT (9.06584 56.83517)</td>\n",
       "    </tr>\n",
       "    <tr>\n",
       "      <th>4</th>\n",
       "      <td>75</td>\n",
       "      <td>POINT (9.06584 56.83516)</td>\n",
       "    </tr>\n",
       "    <tr>\n",
       "      <th>...</th>\n",
       "      <td>...</td>\n",
       "      <td>...</td>\n",
       "    </tr>\n",
       "    <tr>\n",
       "      <th>425</th>\n",
       "      <td>25</td>\n",
       "      <td>POINT (9.06657 56.83485)</td>\n",
       "    </tr>\n",
       "    <tr>\n",
       "      <th>426</th>\n",
       "      <td>25</td>\n",
       "      <td>POINT (9.06657 56.83484)</td>\n",
       "    </tr>\n",
       "    <tr>\n",
       "      <th>427</th>\n",
       "      <td>25</td>\n",
       "      <td>POINT (9.06657 56.83483)</td>\n",
       "    </tr>\n",
       "    <tr>\n",
       "      <th>428</th>\n",
       "      <td>25</td>\n",
       "      <td>POINT (9.06657 56.83482)</td>\n",
       "    </tr>\n",
       "    <tr>\n",
       "      <th>429</th>\n",
       "      <td>25</td>\n",
       "      <td>POINT (9.06657 56.83481)</td>\n",
       "    </tr>\n",
       "  </tbody>\n",
       "</table>\n",
       "<p>430 rows × 2 columns</p>\n",
       "</div>"
      ],
      "text/plain": [
       "     simp_value                  geometry\n",
       "0            75  POINT (9.06584 56.83519)\n",
       "1            75  POINT (9.06584 56.83519)\n",
       "2            75  POINT (9.06584 56.83518)\n",
       "3            75  POINT (9.06584 56.83517)\n",
       "4            75  POINT (9.06584 56.83516)\n",
       "..          ...                       ...\n",
       "425          25  POINT (9.06657 56.83485)\n",
       "426          25  POINT (9.06657 56.83484)\n",
       "427          25  POINT (9.06657 56.83483)\n",
       "428          25  POINT (9.06657 56.83482)\n",
       "429          25  POINT (9.06657 56.83481)\n",
       "\n",
       "[430 rows x 2 columns]"
      ]
     },
     "execution_count": 118,
     "metadata": {},
     "output_type": "execute_result"
    }
   ],
   "source": [
    "geo_df"
   ]
  },
  {
   "cell_type": "code",
   "execution_count": 121,
   "metadata": {
    "collapsed": false
   },
   "outputs": [],
   "source": [
    "tif_name = \"test_grid02_full_spread\"\n",
    "geo_df.to_file(filename=SHP_PATH+tif_name+'.shp.zip', driver='ESRI Shapefile', crs='EPSG:4326')"
   ]
  },
  {
   "cell_type": "code",
   "execution_count": 122,
   "metadata": {
    "collapsed": false
   },
   "outputs": [
    {
     "name": "stdout",
     "output_type": "stream",
     "text": [
      "Options:  ['-of', 'Gtiff', '-ot', 'Byte', '-outsize', '64', '64', '-a', 'nearest:power=1:radius1=6e-05:radius2=3e-05:', '-zfield', 'simp_value']\n",
      "Running interpolation on: shapefiles/test_grid02_full_spread.shp.zip\n",
      "Saving to: tif_files/test_grid02_full_spread-nearest-1-None-6e-05-3e-05-None-0-0.tif\n"
     ]
    }
   ],
   "source": [
    "tif_name_full = gdal_run_interpolation(\n",
    "    input_shp_name=tif_name,\n",
    "    target_column=\"simp_value\",\n",
    "    output_tif_name=tif_name,\n",
    "    algorithm=\"nearest\",\n",
    "    radius1=0.00006,\n",
    "    radius2=0.00003,\n",
    "    width=64,\n",
    "    height=64,\n",
    ")"
   ]
  },
  {
   "cell_type": "code",
   "execution_count": 123,
   "metadata": {
    "collapsed": false
   },
   "outputs": [
    {
     "name": "stdout",
     "output_type": "stream",
     "text": [
      "Driver: GTiff/GeoTIFF\n",
      "Files: tif_files/test_grid02_full_spread-nearest-1-None-6e-05-3e-05-None-0-0.tif\n",
      "Size is 64, 64\n",
      "Coordinate System is:\n",
      "GEOGCRS[\"WGS 84\",\n",
      "    DATUM[\"World Geodetic System 1984\",\n",
      "        ELLIPSOID[\"WGS 84\",6378137,298.257223563,\n",
      "            LENGTHUNIT[\"metre\",1]]],\n",
      "    PRIMEM[\"Greenwich\",0,\n",
      "        ANGLEUNIT[\"degree\",0.0174532925199433]],\n",
      "    CS[ellipsoidal,2],\n",
      "        AXIS[\"geodetic latitude (Lat)\",north,\n",
      "            ORDER[1],\n",
      "            ANGLEUNIT[\"degree\",0.0174532925199433]],\n",
      "        AXIS[\"geodetic longitude (Lon)\",east,\n",
      "            ORDER[2],\n",
      "            ANGLEUNIT[\"degree\",0.0174532925199433]],\n",
      "    ID[\"EPSG\",4326]]\n",
      "Data axis to CRS axis mapping: 2,1\n",
      "Origin = (9.065843041000001,56.834808879999997)\n",
      "Pixel Size = (0.000011319437500,0.000006025937500)\n",
      "Metadata:\n",
      "  AREA_OR_POINT=Area\n",
      "Image Structure Metadata:\n",
      "  INTERLEAVE=BAND\n",
      "Corner Coordinates:\n",
      "Upper Left  (   9.0658430,  56.8348089) (  9d 3'57.03\"E, 56d50' 5.31\"N)\n",
      "Lower Left  (   9.0658430,  56.8351945) (  9d 3'57.03\"E, 56d50' 6.70\"N)\n",
      "Upper Right (   9.0665675,  56.8348089) (  9d 3'59.64\"E, 56d50' 5.31\"N)\n",
      "Lower Right (   9.0665675,  56.8351945) (  9d 3'59.64\"E, 56d50' 6.70\"N)\n",
      "Center      (   9.0662053,  56.8350017) (  9d 3'58.34\"E, 56d50' 6.01\"N)\n",
      "Band 1 Block=64x64 Type=Byte, ColorInterp=Gray\n",
      "\n"
     ]
    }
   ],
   "source": [
    "gdal_print_metadata(tif_name=tif_name_full)"
   ]
  },
  {
   "cell_type": "code",
   "execution_count": 125,
   "metadata": {
    "collapsed": false
   },
   "outputs": [
    {
     "data": {
      "image/png": "[encoded data removed]",
      "text/plain": [
       "<Figure size 640x480 with 2 Axes>"
      ]
     },
     "metadata": {},
     "output_type": "display_data"
    }
   ],
   "source": [
    "plot_raster(tif_name=tif_name_full)"
   ]
  },
  {
   "cell_type": "code",
   "execution_count": 126,
   "metadata": {
    "collapsed": false
   },
   "outputs": [
    {
     "data": {
      "text/plain": [
       "'test_grid02_full_spread-nearest-1-None-6e-05-3e-05-None-0-0'"
      ]
     },
     "execution_count": 126,
     "metadata": {},
     "output_type": "execute_result"
    }
   ],
   "source": [
    "tif_name_full"
   ]
  },
  {
   "cell_type": "code",
   "execution_count": 146,
   "metadata": {
    "collapsed": false
   },
   "outputs": [],
   "source": [
    "make_polygons(\n",
    "    input_tif=tif_name_full,\n",
    "    mask='none',\n",
    "    options=[\"-mask\",tif_name_full]\n",
    ")"
   ]
  },
  {
   "cell_type": "code",
   "execution_count": 147,
   "metadata": {
    "collapsed": false
   },
   "outputs": [],
   "source": [
    "shp = gdal_open_shp(shp_name=tif_name_full)"
   ]
  },
  {
   "cell_type": "code",
   "execution_count": 147,
   "metadata": {
    "collapsed": false
   },
   "outputs": [],
   "source": []
  },
  {
   "cell_type": "code",
   "execution_count": 148,
   "metadata": {
    "collapsed": false
   },
   "outputs": [],
   "source": [
    "import geopandas as gp\n"
   ]
  },
  {
   "cell_type": "code",
   "execution_count": 149,
   "metadata": {
    "collapsed": false
   },
   "outputs": [
    {
     "data": {
      "text/plain": [
       "'test_grid02_full_spread-nearest-1-None-6e-05-3e-05-None-0-0'"
      ]
     },
     "execution_count": 149,
     "metadata": {},
     "output_type": "execute_result"
    }
   ],
   "source": [
    "tif_name_full"
   ]
  },
  {
   "cell_type": "code",
   "execution_count": 163,
   "metadata": {
    "collapsed": false
   },
   "outputs": [
    {
     "data": {
      "text/html": [
       "<div>\n",
       "<style scoped>\n",
       "    .dataframe tbody tr th:only-of-type {\n",
       "        vertical-align: middle;\n",
       "    }\n",
       "\n",
       "    .dataframe tbody tr th {\n",
       "        vertical-align: top;\n",
       "    }\n",
       "\n",
       "    .dataframe thead th {\n",
       "        text-align: right;\n",
       "    }\n",
       "</style>\n",
       "<table border=\"1\" class=\"dataframe\">\n",
       "  <thead>\n",
       "    <tr style=\"text-align: right;\">\n",
       "      <th></th>\n",
       "      <th>DN</th>\n",
       "      <th>geometry</th>\n",
       "    </tr>\n",
       "  </thead>\n",
       "  <tbody>\n",
       "    <tr>\n",
       "      <th>0</th>\n",
       "      <td>25.0</td>\n",
       "      <td>POLYGON ((9.06597 56.83481, 9.06597 56.83481, ...</td>\n",
       "    </tr>\n",
       "    <tr>\n",
       "      <th>3</th>\n",
       "      <td>25.0</td>\n",
       "      <td>POLYGON ((9.06597 56.83482, 9.06597 56.83483, ...</td>\n",
       "    </tr>\n",
       "    <tr>\n",
       "      <th>6</th>\n",
       "      <td>25.0</td>\n",
       "      <td>POLYGON ((9.06597 56.83484, 9.06597 56.83485, ...</td>\n",
       "    </tr>\n",
       "    <tr>\n",
       "      <th>8</th>\n",
       "      <td>25.0</td>\n",
       "      <td>POLYGON ((9.06613 56.83481, 9.06613 56.83481, ...</td>\n",
       "    </tr>\n",
       "    <tr>\n",
       "      <th>9</th>\n",
       "      <td>25.0</td>\n",
       "      <td>POLYGON ((9.06597 56.83486, 9.06597 56.83487, ...</td>\n",
       "    </tr>\n",
       "    <tr>\n",
       "      <th>11</th>\n",
       "      <td>25.0</td>\n",
       "      <td>POLYGON ((9.06605 56.83487, 9.06605 56.83488, ...</td>\n",
       "    </tr>\n",
       "    <tr>\n",
       "      <th>12</th>\n",
       "      <td>25.0</td>\n",
       "      <td>POLYGON ((9.06644 56.83488, 9.06644 56.83489, ...</td>\n",
       "    </tr>\n",
       "    <tr>\n",
       "      <th>13</th>\n",
       "      <td>25.0</td>\n",
       "      <td>POLYGON ((9.06584 56.83487, 9.06584 56.83492, ...</td>\n",
       "    </tr>\n",
       "    <tr>\n",
       "      <th>14</th>\n",
       "      <td>25.0</td>\n",
       "      <td>POLYGON ((9.06636 56.83489, 9.06636 56.83489, ...</td>\n",
       "    </tr>\n",
       "    <tr>\n",
       "      <th>15</th>\n",
       "      <td>25.0</td>\n",
       "      <td>POLYGON ((9.06628 56.83489, 9.06628 56.83491, ...</td>\n",
       "    </tr>\n",
       "    <tr>\n",
       "      <th>16</th>\n",
       "      <td>25.0</td>\n",
       "      <td>POLYGON ((9.06621 56.83491, 9.06621 56.83492, ...</td>\n",
       "    </tr>\n",
       "    <tr>\n",
       "      <th>17</th>\n",
       "      <td>25.0</td>\n",
       "      <td>POLYGON ((9.06613 56.83492, 9.06613 56.83492, ...</td>\n",
       "    </tr>\n",
       "    <tr>\n",
       "      <th>18</th>\n",
       "      <td>25.0</td>\n",
       "      <td>POLYGON ((9.06652 56.83492, 9.06652 56.83494, ...</td>\n",
       "    </tr>\n",
       "    <tr>\n",
       "      <th>19</th>\n",
       "      <td>25.0</td>\n",
       "      <td>POLYGON ((9.06644 56.83494, 9.06644 56.83494, ...</td>\n",
       "    </tr>\n",
       "    <tr>\n",
       "      <th>20</th>\n",
       "      <td>25.0</td>\n",
       "      <td>POLYGON ((9.06636 56.83494, 9.06636 56.83495, ...</td>\n",
       "    </tr>\n",
       "    <tr>\n",
       "      <th>21</th>\n",
       "      <td>25.0</td>\n",
       "      <td>POLYGON ((9.06628 56.83495, 9.06628 56.83496, ...</td>\n",
       "    </tr>\n",
       "    <tr>\n",
       "      <th>22</th>\n",
       "      <td>25.0</td>\n",
       "      <td>POLYGON ((9.06621 56.83496, 9.06621 56.83497, ...</td>\n",
       "    </tr>\n",
       "    <tr>\n",
       "      <th>24</th>\n",
       "      <td>25.0</td>\n",
       "      <td>POLYGON ((9.06584 56.83496, 9.06584 56.83501, ...</td>\n",
       "    </tr>\n",
       "    <tr>\n",
       "      <th>25</th>\n",
       "      <td>25.0</td>\n",
       "      <td>POLYGON ((9.06613 56.83497, 9.06613 56.83508, ...</td>\n",
       "    </tr>\n",
       "    <tr>\n",
       "      <th>35</th>\n",
       "      <td>25.0</td>\n",
       "      <td>POLYGON ((9.06652 56.83504, 9.06652 56.83505, ...</td>\n",
       "    </tr>\n",
       "    <tr>\n",
       "      <th>38</th>\n",
       "      <td>25.0</td>\n",
       "      <td>POLYGON ((9.06652 56.83515, 9.06652 56.83516, ...</td>\n",
       "    </tr>\n",
       "  </tbody>\n",
       "</table>\n",
       "</div>"
      ],
      "text/plain": [
       "      DN                                           geometry\n",
       "0   25.0  POLYGON ((9.06597 56.83481, 9.06597 56.83481, ...\n",
       "3   25.0  POLYGON ((9.06597 56.83482, 9.06597 56.83483, ...\n",
       "6   25.0  POLYGON ((9.06597 56.83484, 9.06597 56.83485, ...\n",
       "8   25.0  POLYGON ((9.06613 56.83481, 9.06613 56.83481, ...\n",
       "9   25.0  POLYGON ((9.06597 56.83486, 9.06597 56.83487, ...\n",
       "11  25.0  POLYGON ((9.06605 56.83487, 9.06605 56.83488, ...\n",
       "12  25.0  POLYGON ((9.06644 56.83488, 9.06644 56.83489, ...\n",
       "13  25.0  POLYGON ((9.06584 56.83487, 9.06584 56.83492, ...\n",
       "14  25.0  POLYGON ((9.06636 56.83489, 9.06636 56.83489, ...\n",
       "15  25.0  POLYGON ((9.06628 56.83489, 9.06628 56.83491, ...\n",
       "16  25.0  POLYGON ((9.06621 56.83491, 9.06621 56.83492, ...\n",
       "17  25.0  POLYGON ((9.06613 56.83492, 9.06613 56.83492, ...\n",
       "18  25.0  POLYGON ((9.06652 56.83492, 9.06652 56.83494, ...\n",
       "19  25.0  POLYGON ((9.06644 56.83494, 9.06644 56.83494, ...\n",
       "20  25.0  POLYGON ((9.06636 56.83494, 9.06636 56.83495, ...\n",
       "21  25.0  POLYGON ((9.06628 56.83495, 9.06628 56.83496, ...\n",
       "22  25.0  POLYGON ((9.06621 56.83496, 9.06621 56.83497, ...\n",
       "24  25.0  POLYGON ((9.06584 56.83496, 9.06584 56.83501, ...\n",
       "25  25.0  POLYGON ((9.06613 56.83497, 9.06613 56.83508, ...\n",
       "35  25.0  POLYGON ((9.06652 56.83504, 9.06652 56.83505, ...\n",
       "38  25.0  POLYGON ((9.06652 56.83515, 9.06652 56.83516, ..."
      ]
     },
     "execution_count": 163,
     "metadata": {},
     "output_type": "execute_result"
    }
   ],
   "source": [
    "file"
   ]
  },
  {
   "cell_type": "code",
   "execution_count": 158,
   "metadata": {
    "collapsed": false
   },
   "outputs": [],
   "source": [
    "file = gp.read_file(SHP_PATH+tif_name_full+'.shp.zip')"
   ]
  },
  {
   "cell_type": "code",
   "execution_count": 159,
   "metadata": {
    "collapsed": false
   },
   "outputs": [
    {
     "data": {
      "text/plain": [
       "<Axes: >"
      ]
     },
     "execution_count": 159,
     "metadata": {},
     "output_type": "execute_result"
    },
    {
     "data": {
      "image/png": "[encoded data removed]",
      "text/plain": [
       "<Figure size 640x480 with 1 Axes>"
      ]
     },
     "metadata": {},
     "output_type": "display_data"
    }
   ],
   "source": [
    "file.plot()"
   ]
  },
  {
   "cell_type": "code",
   "execution_count": 160,
   "metadata": {
    "collapsed": false
   },
   "outputs": [],
   "source": [
    "file = file[file['DN']==25.0]"
   ]
  },
  {
   "cell_type": "code",
   "execution_count": 161,
   "metadata": {
    "collapsed": false
   },
   "outputs": [
    {
     "data": {
      "text/plain": [
       "<Axes: >"
      ]
     },
     "execution_count": 161,
     "metadata": {},
     "output_type": "execute_result"
    },
    {
     "data": {
      "image/png": "[encoded data removed]",
      "text/plain": [
       "<Figure size 640x480 with 1 Axes>"
      ]
     },
     "metadata": {},
     "output_type": "display_data"
    }
   ],
   "source": [
    "file.plot()"
   ]
  },
  {
   "cell_type": "code",
   "execution_count": 162,
   "metadata": {
    "collapsed": false
   },
   "outputs": [],
   "source": [
    "file.to_file(SHP_PATH+\"new25\"+'.shp.zip', driver='ESRI Shapefile')"
   ]
  },
  {
   "cell_type": "code",
   "execution_count": 59,
   "metadata": {
    "collapsed": false
   },
   "outputs": [],
   "source": [
    "file = gp.read_file(SHP_PATH+tif_name_full+'.shp.zip')"
   ]
  },
  {
   "cell_type": "code",
   "execution_count": 165,
   "metadata": {
    "collapsed": false
   },
   "outputs": [],
   "source": [
    "from osgeo_utils.samples import ogr2ogr\n",
    "def main():\n",
    "  #note: main is expecting sys.argv, where the first argument is the script name\n",
    "  #so, the argument indices in the array need to be offset by 1\n",
    "  ogr2ogr.main([\"\",\"-f\", \"KML\", \"out75.kml\", SHP_PATH+\"new75.shp.zip\",\"-nlt\",\"PROMOTE_TO_MULTI\", \"-simplify\", \"0.000001\"])\n",
    "main()"
   ]
  }
 ],
 "metadata": {
  "kernelspec": {
   "display_name": "venv",
   "language": "python",
   "name": "python3"
  },
  "language_info": {
   "codemirror_mode": {
    "name": "ipython",
    "version": 3
   },
   "file_extension": ".py",
   "mimetype": "text/x-python",
   "name": "python",
   "nbconvert_exporter": "python",
   "pygments_lexer": "ipython3",
   "version": "3.10.10"
  },
  "orig_nbformat": 4
 },
 "nbformat": 4,
 "nbformat_minor": 2
}
