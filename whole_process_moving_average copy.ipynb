{
 "cells": [
  {
   "cell_type": "code",
   "execution_count": 1,
   "metadata": {},
   "outputs": [],
   "source": [
    "from scripts.scripts import *"
   ]
  },
  {
   "cell_type": "code",
   "execution_count": 2,
   "metadata": {},
   "outputs": [
    {
     "name": "stdout",
     "output_type": "stream",
     "text": [
      "Opened csv from csv_files/test_grid03.csv. Shape: (100, 3)\n"
     ]
    }
   ],
   "source": [
    "df = open_csv_as_dataframe(file_name=\"test_grid03\",sep=\",\",index_col=0)\n",
    "df = grid_to_coordinate(grid_df=df,target_column=\"bm_dens\")\n",
    "save_dataframe_to_csv(df=df,file_name=\"test_grid03_coor\")"
   ]
  },
  {
   "cell_type": "code",
   "execution_count": 3,
   "metadata": {
    "collapsed": false
   },
   "outputs": [
    {
     "name": "stdout",
     "output_type": "stream",
     "text": [
      "Opened csv from csv_files/test_grid03_coor.csv. Shape: (300, 3)\n",
      "Saved geo_df to shapefiles/test_grid03_coor.shp.zip\n",
      "geo_df is 200 m in width and 101 m in height\n"
     ]
    }
   ],
   "source": [
    "bm_dens_col_name = \"bm_dens\"\n",
    "bm_dens_bins = (\n",
    "    Bin(bm_dens_col_name, 1,\"First bin\", 0, 20, simplekml.Color.orange),\n",
    "    Bin(bm_dens_col_name, 2,\"Second bin\", 20, 40, simplekml.Color.tomato),\n",
    "    Bin(bm_dens_col_name, 3,\"Third bin\", 40,60, simplekml.Color.red),\n",
    "    )\n",
    "\n",
    "# Specify file name\n",
    "main_name = \"test_grid03_coor\"\n",
    "df = open_csv_as_dataframe(file_name=main_name,sep=\",\",index_col=0)\n",
    "df = add_bin_enum_to_df(df=df,bins=bm_dens_bins,column=bm_dens_col_name)\n",
    "\n",
    "geo_df = dataframe_to_shp(input_df=df)\n",
    "\n",
    "save_geodataframe_to_shp(\n",
    "    geo_df=geo_df,\n",
    "    file_name=main_name,\n",
    ")\n",
    "width, height = get_geodf_dimensions(geo_df=geo_df)\n",
    "\n"
   ]
  },
  {
   "cell_type": "code",
   "execution_count": 4,
   "metadata": {},
   "outputs": [],
   "source": [
    "geo_df = geo_df[geo_df[\"bm_dens\"] > 0]"
   ]
  },
  {
   "cell_type": "code",
   "execution_count": 5,
   "metadata": {},
   "outputs": [
    {
     "name": "stdout",
     "output_type": "stream",
     "text": [
      "Saved geo_df to shapefiles/test_grid03_coor.shp.zip\n"
     ]
    }
   ],
   "source": [
    "save_geodataframe_to_shp(geo_df=geo_df,file_name=main_name)"
   ]
  },
  {
   "cell_type": "code",
   "execution_count": 6,
   "metadata": {},
   "outputs": [
    {
     "name": "stdout",
     "output_type": "stream",
     "text": [
      "Options:  ['-of', 'Gtiff', '-ot', 'Byte', '-outsize', '399', '202', '-a', 'average:radius1=0.001:radius2=1e-05:max_points=1:', '-zfield', 'bm_dens', '-z_increase', '0', '-z_increase', '5']\n",
      "Running interpolation on: shapefiles/test_grid03_coor.shp.zip\n",
      "Saving to: tif_files/test_grid03_coor-bm_dens--average-0.001-1e-05.tif\n"
     ]
    }
   ],
   "source": [
    "pixels_per_sqr_metre = 0.5\n",
    "target_column = bm_dens_col_name\n",
    "new_main_name = main_name+\"-\"+target_column+\"-\"\n",
    "new_main_name_full = run_interpolation(\n",
    "    input_shp_name=main_name,\n",
    "    target_column=target_column,\n",
    "    output_tif_name=new_main_name,\n",
    "    algorithm=\"average\",\n",
    "    radius1=0.001,\n",
    "    radius2=0.00001,\n",
    "    width=int(width/pixels_per_sqr_metre),\n",
    "    height=int(height/pixels_per_sqr_metre),\n",
    "    z_multiply=5,\n",
    "    max_points=1,\n",
    "    # # min_points=1,\n",
    "    # max_points_per_quadrant=1,\n",
    "    # min_points_per_quadrant=1,\n",
    ")\n",
    "\n",
    "# pixel_size = 0.5\n",
    "# target_column = bm_dens_col_name\n",
    "# new_main_name = main_name+\"-\"+target_column+\"-\"\n",
    "# new_main_name_full = run_interpolation(\n",
    "#     input_shp_name=main_name,\n",
    "#     target_column=target_column,\n",
    "#     output_tif_name=new_main_name,\n",
    "#     algorithm=\"nearest\",\n",
    "#     radius1=0.0001,\n",
    "#     radius2=0.0001,\n",
    "#     width=int(width/pixel_size),\n",
    "#     height=int(height/pixel_size),\n",
    "# )\n",
    "\n",
    "# pixel_size = 0.5\n",
    "# target_column = bm_dens_col_name\n",
    "# new_main_name = main_name+\"-\"+target_column+\"-\"\n",
    "# new_main_name_full = run_interpolation(\n",
    "#     input_shp_name=main_name,\n",
    "#     target_column=target_column,\n",
    "#     output_tif_name=new_main_name,\n",
    "#     algorithm=\"linear\",\n",
    "#     radius=0.0001,\n",
    "# )"
   ]
  },
  {
   "cell_type": "code",
   "execution_count": 7,
   "metadata": {
    "collapsed": false
   },
   "outputs": [
    {
     "name": "stdout",
     "output_type": "stream",
     "text": [
      "Opened tif file from tif_files/test_grid03_coor-bm_dens--average-0.001-1e-05.tif. Run plot_raster() to view\n"
     ]
    },
    {
     "data": {
      "image/png": "[encoded data removed]",
      "text/plain": [
       "<Figure size 700x600 with 2 Axes>"
      ]
     },
     "metadata": {},
     "output_type": "display_data"
    }
   ],
   "source": [
    "#gdal_print_metadata(tif_name=new_main_name_full)\n",
    "plot_raster(tif_name=new_main_name_full, fig_size=(7,6))"
   ]
  },
  {
   "cell_type": "code",
   "execution_count": 62,
   "metadata": {
    "collapsed": false
   },
   "outputs": [
    {
     "name": "stdout",
     "output_type": "stream",
     "text": [
      "Opened shapefile from shapefiles/test_grid03_coor-bm_dens--nearest-0.0001-0.0001.shp.zip. Shape: (20, 2)\n",
      "Converted shapefile to binned polygon dictionary\n"
     ]
    }
   ],
   "source": [
    "run_polygonize(\n",
    "    input_tif=new_main_name_full,\n",
    "    mask='none',\n",
    "    options=[\"-mask\",new_main_name_full])\n",
    "\n",
    "polygon_dict = shp_of_polygons_to_binned_dict(shp_file_name=new_main_name_full,bins=bm_dens_bins)"
   ]
  },
  {
   "cell_type": "code",
   "execution_count": 10,
   "metadata": {},
   "outputs": [
    {
     "data": {
      "text/html": [
       "<div>\n",
       "<style scoped>\n",
       "    .dataframe tbody tr th:only-of-type {\n",
       "        vertical-align: middle;\n",
       "    }\n",
       "\n",
       "    .dataframe tbody tr th {\n",
       "        vertical-align: top;\n",
       "    }\n",
       "\n",
       "    .dataframe thead th {\n",
       "        text-align: right;\n",
       "    }\n",
       "</style>\n",
       "<table border=\"1\" class=\"dataframe\">\n",
       "  <thead>\n",
       "    <tr style=\"text-align: right;\">\n",
       "      <th></th>\n",
       "      <th>bm_dens</th>\n",
       "      <th>bm_dens_s</th>\n",
       "      <th>geometry</th>\n",
       "    </tr>\n",
       "  </thead>\n",
       "  <tbody>\n",
       "    <tr>\n",
       "      <th>48</th>\n",
       "      <td>100</td>\n",
       "      <td>0</td>\n",
       "      <td>POINT (9.06584 56.83475)</td>\n",
       "    </tr>\n",
       "    <tr>\n",
       "      <th>99</th>\n",
       "      <td>100</td>\n",
       "      <td>0</td>\n",
       "      <td>POINT (9.06584 56.83429)</td>\n",
       "    </tr>\n",
       "    <tr>\n",
       "      <th>147</th>\n",
       "      <td>10</td>\n",
       "      <td>1</td>\n",
       "      <td>POINT (9.06748 56.83476)</td>\n",
       "    </tr>\n",
       "    <tr>\n",
       "      <th>148</th>\n",
       "      <td>100</td>\n",
       "      <td>0</td>\n",
       "      <td>POINT (9.06748 56.83475)</td>\n",
       "    </tr>\n",
       "    <tr>\n",
       "      <th>149</th>\n",
       "      <td>10</td>\n",
       "      <td>1</td>\n",
       "      <td>POINT (9.06748 56.83474)</td>\n",
       "    </tr>\n",
       "    <tr>\n",
       "      <th>173</th>\n",
       "      <td>100</td>\n",
       "      <td>0</td>\n",
       "      <td>POINT (9.06748 56.83452)</td>\n",
       "    </tr>\n",
       "    <tr>\n",
       "      <th>200</th>\n",
       "      <td>100</td>\n",
       "      <td>0</td>\n",
       "      <td>POINT (9.06912 56.83519)</td>\n",
       "    </tr>\n",
       "    <tr>\n",
       "      <th>210</th>\n",
       "      <td>100</td>\n",
       "      <td>0</td>\n",
       "      <td>POINT (9.06912 56.83510)</td>\n",
       "    </tr>\n",
       "    <tr>\n",
       "      <th>215</th>\n",
       "      <td>100</td>\n",
       "      <td>0</td>\n",
       "      <td>POINT (9.06912 56.83506)</td>\n",
       "    </tr>\n",
       "    <tr>\n",
       "      <th>248</th>\n",
       "      <td>100</td>\n",
       "      <td>0</td>\n",
       "      <td>POINT (9.06912 56.83475)</td>\n",
       "    </tr>\n",
       "    <tr>\n",
       "      <th>299</th>\n",
       "      <td>100</td>\n",
       "      <td>0</td>\n",
       "      <td>POINT (9.06912 56.83429)</td>\n",
       "    </tr>\n",
       "  </tbody>\n",
       "</table>\n",
       "</div>"
      ],
      "text/plain": [
       "     bm_dens  bm_dens_s                  geometry\n",
       "48       100          0  POINT (9.06584 56.83475)\n",
       "99       100          0  POINT (9.06584 56.83429)\n",
       "147       10          1  POINT (9.06748 56.83476)\n",
       "148      100          0  POINT (9.06748 56.83475)\n",
       "149       10          1  POINT (9.06748 56.83474)\n",
       "173      100          0  POINT (9.06748 56.83452)\n",
       "200      100          0  POINT (9.06912 56.83519)\n",
       "210      100          0  POINT (9.06912 56.83510)\n",
       "215      100          0  POINT (9.06912 56.83506)\n",
       "248      100          0  POINT (9.06912 56.83475)\n",
       "299      100          0  POINT (9.06912 56.83429)"
      ]
     },
     "execution_count": 10,
     "metadata": {},
     "output_type": "execute_result"
    }
   ],
   "source": [
    "geo_df"
   ]
  },
  {
   "cell_type": "code",
   "execution_count": 12,
   "metadata": {
    "collapsed": false
   },
   "outputs": [],
   "source": [
    "polygon_df = add_square_buffer_to_geo_df(geo_df=geo_df)"
   ]
  },
  {
   "cell_type": "code",
   "execution_count": 21,
   "metadata": {},
   "outputs": [
    {
     "data": {
      "text/html": [
       "<div>\n",
       "<style scoped>\n",
       "    .dataframe tbody tr th:only-of-type {\n",
       "        vertical-align: middle;\n",
       "    }\n",
       "\n",
       "    .dataframe tbody tr th {\n",
       "        vertical-align: top;\n",
       "    }\n",
       "\n",
       "    .dataframe thead th {\n",
       "        text-align: right;\n",
       "    }\n",
       "</style>\n",
       "<table border=\"1\" class=\"dataframe\">\n",
       "  <thead>\n",
       "    <tr style=\"text-align: right;\">\n",
       "      <th></th>\n",
       "      <th>bm_dens</th>\n",
       "      <th>bm_dens_s</th>\n",
       "      <th>geometry</th>\n",
       "      <th>buffer</th>\n",
       "    </tr>\n",
       "  </thead>\n",
       "  <tbody>\n",
       "    <tr>\n",
       "      <th>48</th>\n",
       "      <td>100</td>\n",
       "      <td>0</td>\n",
       "      <td>POINT (9.06584 56.83475)</td>\n",
       "      <td>POLYGON ((9.06589 56.83480, 9.06589 56.83470, ...</td>\n",
       "    </tr>\n",
       "    <tr>\n",
       "      <th>99</th>\n",
       "      <td>100</td>\n",
       "      <td>0</td>\n",
       "      <td>POINT (9.06584 56.83429)</td>\n",
       "      <td>POLYGON ((9.06589 56.83434, 9.06589 56.83424, ...</td>\n",
       "    </tr>\n",
       "    <tr>\n",
       "      <th>147</th>\n",
       "      <td>10</td>\n",
       "      <td>1</td>\n",
       "      <td>POINT (9.06748 56.83476)</td>\n",
       "      <td>POLYGON ((9.06753 56.83481, 9.06753 56.83471, ...</td>\n",
       "    </tr>\n",
       "    <tr>\n",
       "      <th>148</th>\n",
       "      <td>100</td>\n",
       "      <td>0</td>\n",
       "      <td>POINT (9.06748 56.83475)</td>\n",
       "      <td>POLYGON ((9.06753 56.83480, 9.06753 56.83470, ...</td>\n",
       "    </tr>\n",
       "    <tr>\n",
       "      <th>149</th>\n",
       "      <td>10</td>\n",
       "      <td>1</td>\n",
       "      <td>POINT (9.06748 56.83474)</td>\n",
       "      <td>POLYGON ((9.06753 56.83479, 9.06753 56.83469, ...</td>\n",
       "    </tr>\n",
       "    <tr>\n",
       "      <th>173</th>\n",
       "      <td>100</td>\n",
       "      <td>0</td>\n",
       "      <td>POINT (9.06748 56.83452)</td>\n",
       "      <td>POLYGON ((9.06753 56.83457, 9.06753 56.83447, ...</td>\n",
       "    </tr>\n",
       "    <tr>\n",
       "      <th>200</th>\n",
       "      <td>100</td>\n",
       "      <td>0</td>\n",
       "      <td>POINT (9.06912 56.83519)</td>\n",
       "      <td>POLYGON ((9.06917 56.83524, 9.06917 56.83514, ...</td>\n",
       "    </tr>\n",
       "    <tr>\n",
       "      <th>210</th>\n",
       "      <td>100</td>\n",
       "      <td>0</td>\n",
       "      <td>POINT (9.06912 56.83510)</td>\n",
       "      <td>POLYGON ((9.06917 56.83515, 9.06917 56.83505, ...</td>\n",
       "    </tr>\n",
       "    <tr>\n",
       "      <th>215</th>\n",
       "      <td>100</td>\n",
       "      <td>0</td>\n",
       "      <td>POINT (9.06912 56.83506)</td>\n",
       "      <td>POLYGON ((9.06917 56.83511, 9.06917 56.83501, ...</td>\n",
       "    </tr>\n",
       "    <tr>\n",
       "      <th>248</th>\n",
       "      <td>100</td>\n",
       "      <td>0</td>\n",
       "      <td>POINT (9.06912 56.83475)</td>\n",
       "      <td>POLYGON ((9.06917 56.83480, 9.06917 56.83470, ...</td>\n",
       "    </tr>\n",
       "    <tr>\n",
       "      <th>299</th>\n",
       "      <td>100</td>\n",
       "      <td>0</td>\n",
       "      <td>POINT (9.06912 56.83429)</td>\n",
       "      <td>POLYGON ((9.06917 56.83434, 9.06917 56.83424, ...</td>\n",
       "    </tr>\n",
       "  </tbody>\n",
       "</table>\n",
       "</div>"
      ],
      "text/plain": [
       "     bm_dens  bm_dens_s                  geometry  \\\n",
       "48       100          0  POINT (9.06584 56.83475)   \n",
       "99       100          0  POINT (9.06584 56.83429)   \n",
       "147       10          1  POINT (9.06748 56.83476)   \n",
       "148      100          0  POINT (9.06748 56.83475)   \n",
       "149       10          1  POINT (9.06748 56.83474)   \n",
       "173      100          0  POINT (9.06748 56.83452)   \n",
       "200      100          0  POINT (9.06912 56.83519)   \n",
       "210      100          0  POINT (9.06912 56.83510)   \n",
       "215      100          0  POINT (9.06912 56.83506)   \n",
       "248      100          0  POINT (9.06912 56.83475)   \n",
       "299      100          0  POINT (9.06912 56.83429)   \n",
       "\n",
       "                                                buffer  \n",
       "48   POLYGON ((9.06589 56.83480, 9.06589 56.83470, ...  \n",
       "99   POLYGON ((9.06589 56.83434, 9.06589 56.83424, ...  \n",
       "147  POLYGON ((9.06753 56.83481, 9.06753 56.83471, ...  \n",
       "148  POLYGON ((9.06753 56.83480, 9.06753 56.83470, ...  \n",
       "149  POLYGON ((9.06753 56.83479, 9.06753 56.83469, ...  \n",
       "173  POLYGON ((9.06753 56.83457, 9.06753 56.83447, ...  \n",
       "200  POLYGON ((9.06917 56.83524, 9.06917 56.83514, ...  \n",
       "210  POLYGON ((9.06917 56.83515, 9.06917 56.83505, ...  \n",
       "215  POLYGON ((9.06917 56.83511, 9.06917 56.83501, ...  \n",
       "248  POLYGON ((9.06917 56.83480, 9.06917 56.83470, ...  \n",
       "299  POLYGON ((9.06917 56.83434, 9.06917 56.83424, ...  "
      ]
     },
     "execution_count": 21,
     "metadata": {},
     "output_type": "execute_result"
    }
   ],
   "source": [
    "polygon_df"
   ]
  }
 ],
 "metadata": {
  "kernelspec": {
   "display_name": "venv",
   "language": "python",
   "name": "python3"
  },
  "language_info": {
   "codemirror_mode": {
    "name": "ipython",
    "version": 3
   },
   "file_extension": ".py",
   "mimetype": "text/x-python",
   "name": "python",
   "nbconvert_exporter": "python",
   "pygments_lexer": "ipython3",
   "version": "3.10.10"
  },
  "orig_nbformat": 4
 },
 "nbformat": 4,
 "nbformat_minor": 2
}
