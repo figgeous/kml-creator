{
 "cells": [
  {
   "cell_type": "code",
   "execution_count": 51,
   "metadata": {},
   "outputs": [],
   "source": [
    "import numpy as np\n",
    "from constants import *\n",
    "from scripts.scripts import *\n",
    "from scripts.gdal_scripts import *\n",
    "import geopandas as gp\n",
    "from classes import *\n",
    "import simplekml\n",
    "\n",
    "import shapely as sp\n"
   ]
  },
  {
   "cell_type": "code",
   "execution_count": 58,
   "metadata": {},
   "outputs": [],
   "source": [
    "def binify_df(df:pd.DataFrame, bins:tuple[Bin], column:str) -> pd.DataFrame:\n",
    "    conditions, categories = [], []\n",
    "    for bin in bins:\n",
    "        conditions.append((df[column] >= bin.lower_bound) & (df[column] < bin.upper_bound))\n",
    "        categories.append(bin.enum)\n",
    "    df[column+\"_s\"] = np.select(conditions, categories)\n",
    "    return df\n",
    "\n",
    "def get_distance(\n",
    "        coords:tuple[int,int,int,int]) -> float:\n",
    "    \"\"\"\n",
    "    Must be (lat_1, lon_1, lat_2, lon_2)\n",
    "    \"\"\"\n",
    "    import geopy.distance\n",
    "    distance = geopy.distance.geodesic((coords[0], coords[1]), (coords[2], coords[3])).m\n",
    "    return distance\n",
    "\n",
    "def save_geodataframe(geo_df:gp.GeoDataFrame, file_name:str) -> None:\n",
    "    file_path = SHP_PATH+file_name+'.shp.zip'\n",
    "    geo_df.to_file(filename=file_path, driver='ESRI Shapefile', crs='EPSG:4326')\n",
    "    print(f\"Saved geo_df to {file_path}\")\n",
    "\n",
    "def open_shapefile(*, file_name:str):\n",
    "    file_path = SHP_PATH+file_name+'.shp.zip'\n",
    "    print(f\"Opened {file_path}\")\n",
    "    return gp.read_file(file_path)\n",
    "\n",
    "def shp_of_polygons_to_dict_of_bins(*, bins:tuple[Bin], shp:object=None, shp_file_name:str=None) -> dict:\n",
    "    \"\"\"\n",
    "    Use shp or shp_file_name\n",
    "    \"\"\"\n",
    "    if shp_file_name:\n",
    "        shp = open_shapefile(file_name=shp_file_name)\n",
    "    polygon_dict = {}\n",
    "    for bin in bins:\n",
    "        polygon_dict[bin.enum] = shp[shp['DN'] == bin.enum][\"geometry\"].to_dict()\n",
    "    print(\"Converted shapefile to polygon dictionary\")\n",
    "    return polygon_dict"
   ]
  },
  {
   "cell_type": "code",
   "execution_count": 9,
   "metadata": {
    "collapsed": false
   },
   "outputs": [
    {
     "name": "stdout",
     "output_type": "stream",
     "text": [
      "Saved geo_df to shapefiles/only_bm_seg.shp.zip\n",
      "geo_df is 7084 m in width and 1198 m in height\n"
     ]
    }
   ],
   "source": [
    "bm_dens_col_name = \"bm_dens\"\n",
    "bm_dens_bins = (\n",
    "    Bin(bm_dens_col_name, 1,\"First bin\", 0, 20, simplekml.Color.orange),\n",
    "    Bin(bm_dens_col_name, 2,\"Second bin\", 20, 40, simplekml.Color.tomato),\n",
    "    Bin(bm_dens_col_name, 3,\"Third bin\", 40,60, simplekml.Color.red),\n",
    "    )\n",
    "\n",
    "main_name = \"only_bm_seg\"\n",
    "df = get_pandas_from_csv(csv_name=main_name,sep=\",\",index_col=0)\n",
    "df = binify_df(df=df,bins=bm_dens_bins,column=bm_dens_col_name)\n",
    "\n",
    "geo_df = dataframe_to_shp(input_df=df)\n",
    "geo_df = geo_df.reset_index()\n",
    "geo_df = geo_df.drop(columns=['index'])\n",
    "save_geodataframe(\n",
    "    geo_df=geo_df,\n",
    "    file_name=main_name,\n",
    ")\n",
    "\n",
    "min_lon, min_lat, max_lon, max_lat = geo_df.total_bounds[0], geo_df.total_bounds[1], geo_df.total_bounds[2], geo_df.total_bounds[3]\n",
    "width = get_distance(coords_1=(min_lat, min_lon), coords_2=(min_lat, max_lon))\n",
    "height = get_distance(coords_1=(min_lat, min_lon), coords_2=(max_lat, min_lon))\n",
    "print(f\"geo_df is {round(width)} m in width and {round(height)} m in height\")\n"
   ]
  },
  {
   "cell_type": "code",
   "execution_count": 7,
   "metadata": {},
   "outputs": [
    {
     "name": "stdout",
     "output_type": "stream",
     "text": [
      "Options:  ['-of', 'Gtiff', '-ot', 'Byte', '-outsize', '708', '119', '-a', 'nearest:power=1:radius1=0.007:radius2=0.0005:', '-zfield', 'bm_dens_s']\n",
      "Running interpolation on: shapefiles/only_bm_seg.shp.zip\n",
      "Saving to: tif_files/only_bm_seg-bm_dens_s--nearest-0.007-0.0005.tif\n"
     ]
    }
   ],
   "source": [
    "target_column = \"bm_dens_s\"\n",
    "new_main_name = main_name+\"-\"+target_column+\"-\"\n",
    "new_main_name_full = gdal_run_interpolation(\n",
    "    input_shp_name=main_name,\n",
    "    target_column=target_column,\n",
    "    output_tif_name=new_main_name,\n",
    "    algorithm=\"nearest\",\n",
    "    radius1=0.007,\n",
    "    radius2=0.0005,\n",
    "    width=int(width/10),\n",
    "    height=int(height/10),\n",
    ")"
   ]
  },
  {
   "cell_type": "code",
   "execution_count": 45,
   "metadata": {
    "collapsed": false
   },
   "outputs": [
    {
     "data": {
      "image/png": "[encoded data removed]",
      "text/plain": [
       "<Figure size 640x480 with 2 Axes>"
      ]
     },
     "metadata": {},
     "output_type": "display_data"
    }
   ],
   "source": [
    "#gdal_print_metadata(tif_name=new_main_name_full)\n",
    "plot_raster(tif_name=new_main_name_full)"
   ]
  },
  {
   "cell_type": "code",
   "execution_count": 8,
   "metadata": {
    "collapsed": false
   },
   "outputs": [
    {
     "name": "stdout",
     "output_type": "stream",
     "text": [
      "Opened shapefiles/only_bm_seg-bm_dens_s--nearest-0.007-0.0005.shp.zip\n"
     ]
    }
   ],
   "source": [
    "make_polygons(\n",
    "    input_tif=new_main_name_full,\n",
    "    mask='none',\n",
    "    options=[\"-mask\",new_main_name_full])\n",
    "# polygon_df = open_shapefile(file_name=new_main_name_full)\n",
    "polygon_dict = shp_of_polygons_to_dict_of_bins(shp_file_name=new_main_name_full,bins=bm_dens_bins)"
   ]
  },
  {
   "cell_type": "code",
   "execution_count": 4,
   "metadata": {
    "collapsed": false
   },
   "outputs": [],
   "source": [
    "def make_kml(file_name:str, polygon_dict:dict, bins:tuple[Bin]) -> None:\n",
    "    assert \".kml\" not in file_name\n",
    "    kml = simplekml.Kml()\n",
    "    for bin in bins:\n",
    "        multipolodd = kml.newmultigeometry(name=\"MultiPoly\")\n",
    "        for polygon in polygon_dict.values():\n",
    "            pol = multipolodd.newpolygon(\n",
    "                name=\"polygon\",\n",
    "                outerboundaryis=list(polygon.exterior.coords),\n",
    "            )\n",
    "            pol.style.polystyle.color = bin.colour\n",
    "            pol.style.polystyle.outline = 0\n",
    "    kml.save(file_name+\".kml\")\n",
    "#simplekml.Color.tomato"
   ]
  },
  {
   "cell_type": "code",
   "execution_count": 2,
   "metadata": {
    "collapsed": false
   },
   "outputs": [
    {
     "ename": "NameError",
     "evalue": "name 'make_kml' is not defined",
     "output_type": "error",
     "traceback": [
      "\u001b[1;31m---------------------------------------------------------------------------\u001b[0m",
      "\u001b[1;31mNameError\u001b[0m                                 Traceback (most recent call last)",
      "Cell \u001b[1;32mIn[2], line 1\u001b[0m\n\u001b[1;32m----> 1\u001b[0m make_kml(\n\u001b[0;32m      2\u001b[0m     file_name\u001b[39m=\u001b[39m\u001b[39m\"\u001b[39m\u001b[39mkml_file_2\u001b[39m\u001b[39m\"\u001b[39m,\n\u001b[0;32m      3\u001b[0m     polygon_dict\u001b[39m=\u001b[39mpolygon_dict[\u001b[39m2\u001b[39m],\n\u001b[0;32m      4\u001b[0m     bins\u001b[39m=\u001b[39mbm_dens_bins,\n\u001b[0;32m      5\u001b[0m )\n",
      "\u001b[1;31mNameError\u001b[0m: name 'make_kml' is not defined"
     ]
    }
   ],
   "source": [
    "make_kml(\n",
    "    file_name=\"kml_file_2\",\n",
    "    polygon_dict=polygon_dict[2],\n",
    "    bins=bm_dens_bins,\n",
    ")"
   ]
  },
  {
   "cell_type": "code",
   "execution_count": null,
   "metadata": {},
   "outputs": [],
   "source": [
    "# z_field = \"bm_dens\"\n",
    "# new_main_name = tif_name+\"-\"+z_field+\"-\"\n",
    "# new_main_name_full = gdal_run_interpolation(\n",
    "#     input_shp_name=tif_name,\n",
    "#     target_column=z_field,\n",
    "#     output_tif_name=new_main_name,\n",
    "#     algorithm=\"average\",\n",
    "#     radius1=0.001,\n",
    "#     radius2=0.0005,\n",
    "#     width=int(width/10),\n",
    "#     height=int(height/10),\n",
    "#     # max_points=4,\n",
    "#     # min_points=1,\n",
    "#     max_points_per_quadrant=2,\n",
    "#     min_points_per_quadrant=1,\n",
    "# )\n",
    "# from osgeo_utils.samples import ogr2ogr\n",
    "# def main():\n",
    "#   ogr2ogr.main([\"\",\"-f\", \"KML\", \"out75.kml\", SHP_PATH+\"new75.shp.zip\",\"-simplify\", \"0.0001\"])\n",
    "# main()"
   ]
  },
  {
   "cell_type": "code",
   "execution_count": 5,
   "metadata": {},
   "outputs": [
    {
     "name": "stdout",
     "output_type": "stream",
     "text": [
      "Opened shapefiles/only_bm_seg.shp.zip\n"
     ]
    }
   ],
   "source": [
    "main_name = \"only_bm_seg\"\n",
    "shp = open_shapefile(file_name=main_name)"
   ]
  },
  {
   "cell_type": "code",
   "execution_count": 10,
   "metadata": {},
   "outputs": [
    {
     "name": "stderr",
     "output_type": "stream",
     "text": [
      "C:\\Users\\thoma\\AppData\\Local\\Temp\\ipykernel_14884\\3689846920.py:4: UserWarning: Geometry is in a geographic CRS. Results from 'buffer' are likely incorrect. Use 'GeoSeries.to_crs()' to re-project geometries to a projected CRS before this operation.\n",
      "\n",
      "  geo_df[\"buffer\"] = shp[\"geometry\"].buffer(0.00005, cap_style = 3)\n"
     ]
    }
   ],
   "source": [
    "# Buffer the points using a square cap style\n",
    "#https://gis.stackexchange.com/questions/314949/creating-square-buffers-around-points-using-shapely\n",
    "# Note cap_style: round = 1, flat = 2, square = 3\n",
    "geo_df[\"buffer\"] = shp[\"geometry\"].buffer(0.00005, cap_style = 3)"
   ]
  },
  {
   "cell_type": "code",
   "execution_count": 19,
   "metadata": {},
   "outputs": [],
   "source": [
    "def make_kml_from_df(file_name:str, geo_df:gp.GeoDataFrame, bins:tuple[Bin], grouping_col:str) -> None:\n",
    "    assert \".kml\" not in file_name\n",
    "    kml = simplekml.Kml()\n",
    "    for bin in bins:\n",
    "        multipolodd = kml.newmultigeometry(name=\"MultiPoly\")\n",
    "        for polygon in geo_df[geo_df[grouping_col] == bin.enum][\"buffer\"]:\n",
    "            pol = multipolodd.newpolygon(\n",
    "                name=\"polygon\",\n",
    "                outerboundaryis=list(polygon.exterior.coords),\n",
    "            )\n",
    "            pol.style.polystyle.color = bin.colour\n",
    "            pol.style.polystyle.outline = 0\n",
    "    kml.save(file_name+\".kml\")"
   ]
  },
  {
   "cell_type": "code",
   "execution_count": 20,
   "metadata": {},
   "outputs": [],
   "source": [
    "make_kml_from_df(file_name=\"attempt1\", geo_df=geo_df, bins=bm_dens_bins, grouping_col=\"bm_dens_s\")"
   ]
  },
  {
   "cell_type": "code",
   "execution_count": 67,
   "metadata": {},
   "outputs": [],
   "source": [
    "def make_kml_from_multipolygon(file_name:str, multi_poly:sp.MultiPolygon, bin:Bin) -> None:\n",
    "    assert \".kml\" not in file_name\n",
    "    kml = simplekml.Kml()\n",
    "    multipolodd = kml.newmultigeometry(name=\"MultiPoly\")\n",
    "    for polygon in multi_poly.geoms:\n",
    "        pol = multipolodd.newpolygon(\n",
    "            name=\"polygon\",\n",
    "            outerboundaryis=list(polygon.exterior.coords),\n",
    "        )\n",
    "        pol.style.polystyle.color = bin.colour\n",
    "        pol.style.polystyle.outline = 0\n",
    "    kml.save(file_name+\".kml\")\n"
   ]
  },
  {
   "cell_type": "code",
   "execution_count": 71,
   "metadata": {},
   "outputs": [],
   "source": [
    "# from shapely.ops import unary_union\n",
    "bin_1_union = sp.ops.unary_union(geo_df[geo_df[\"bm_dens_s\"] == 1][\"buffer\"])"
   ]
  },
  {
   "cell_type": "code",
   "execution_count": 75,
   "metadata": {},
   "outputs": [],
   "source": [
    "make_kml_from_multipolygon(file_name=\"attempt3\", multi_poly=bin_1_union, bin=bm_dens_bins[0])"
   ]
  },
  {
   "cell_type": "code",
   "execution_count": 91,
   "metadata": {},
   "outputs": [],
   "source": [
    "def unite_polygons(*, geo_df:gp.GeoDataFrame, grouping_col:str, bins:tuple[Bin]) -> dict[str,sp.MultiPolygon]:\n",
    "    multipolygon_dict = dict()\n",
    "    for bin in bins:\n",
    "        key = \"bin_\"+str(bin.enum)+\"_multipolygon\"\n",
    "        column = geo_df[geo_df[grouping_col] == bin.enum][\"buffer\"]\n",
    "        multipolygon_dict[key] = sp.ops.unary_union(geo_df[geo_df[grouping_col] == bin.enum][\"buffer\"])\n",
    "        print(\"Bin {}: uniting {} polygons to {} polygons\".format(bin.enum, len(column), len(multipolygon_dict[key].geoms)))\n",
    "    return multipolygon_dict"
   ]
  },
  {
   "cell_type": "code",
   "execution_count": 92,
   "metadata": {},
   "outputs": [
    {
     "name": "stdout",
     "output_type": "stream",
     "text": [
      "Bin 1 Uniting 73264 polygons to 414 polygons\n",
      "Bin 2 Uniting 5485 polygons to 514 polygons\n",
      "Bin 3 Uniting 2851 polygons to 292 polygons\n"
     ]
    }
   ],
   "source": [
    "multipolygon_dict = unite_polygons(geo_df=geo_df, grouping_col=\"bm_dens_s\",bins=bm_dens_bins)"
   ]
  },
  {
   "cell_type": "code",
   "execution_count": 96,
   "metadata": {},
   "outputs": [
    {
     "data": {
      "text/plain": [
       "['Bin',\n",
       " 'CSV_PATH',\n",
       " 'In',\n",
       " 'Out',\n",
       " 'Point',\n",
       " 'ROOT_DIR',\n",
       " 'SHP_PATH',\n",
       " 'TIF_PATH',\n",
       " '_',\n",
       " '_11',\n",
       " '_13',\n",
       " '_14',\n",
       " '_15',\n",
       " '_17',\n",
       " '_21',\n",
       " '_22',\n",
       " '_24',\n",
       " '_25',\n",
       " '_26',\n",
       " '_28',\n",
       " '_31',\n",
       " '_32',\n",
       " '_34',\n",
       " '_35',\n",
       " '_36',\n",
       " '_37',\n",
       " '_38',\n",
       " '_39',\n",
       " '_42',\n",
       " '_43',\n",
       " '_44',\n",
       " '_46',\n",
       " '_50',\n",
       " '_52',\n",
       " '_53',\n",
       " '_54',\n",
       " '_59',\n",
       " '_60',\n",
       " '_61',\n",
       " '_62',\n",
       " '_65',\n",
       " '_72',\n",
       " '_88',\n",
       " '_93',\n",
       " '_94',\n",
       " '__',\n",
       " '___',\n",
       " '__builtin__',\n",
       " '__builtins__',\n",
       " '__doc__',\n",
       " '__loader__',\n",
       " '__name__',\n",
       " '__package__',\n",
       " '__spec__',\n",
       " '__vsc_ipynb_file__',\n",
       " '_dh',\n",
       " '_i',\n",
       " '_i1',\n",
       " '_i10',\n",
       " '_i11',\n",
       " '_i12',\n",
       " '_i13',\n",
       " '_i14',\n",
       " '_i15',\n",
       " '_i16',\n",
       " '_i17',\n",
       " '_i18',\n",
       " '_i19',\n",
       " '_i2',\n",
       " '_i20',\n",
       " '_i21',\n",
       " '_i22',\n",
       " '_i23',\n",
       " '_i24',\n",
       " '_i25',\n",
       " '_i26',\n",
       " '_i27',\n",
       " '_i28',\n",
       " '_i29',\n",
       " '_i3',\n",
       " '_i30',\n",
       " '_i31',\n",
       " '_i32',\n",
       " '_i33',\n",
       " '_i34',\n",
       " '_i35',\n",
       " '_i36',\n",
       " '_i37',\n",
       " '_i38',\n",
       " '_i39',\n",
       " '_i4',\n",
       " '_i40',\n",
       " '_i41',\n",
       " '_i42',\n",
       " '_i43',\n",
       " '_i44',\n",
       " '_i45',\n",
       " '_i46',\n",
       " '_i47',\n",
       " '_i48',\n",
       " '_i49',\n",
       " '_i5',\n",
       " '_i50',\n",
       " '_i51',\n",
       " '_i52',\n",
       " '_i53',\n",
       " '_i54',\n",
       " '_i55',\n",
       " '_i56',\n",
       " '_i57',\n",
       " '_i58',\n",
       " '_i59',\n",
       " '_i6',\n",
       " '_i60',\n",
       " '_i61',\n",
       " '_i62',\n",
       " '_i63',\n",
       " '_i64',\n",
       " '_i65',\n",
       " '_i66',\n",
       " '_i67',\n",
       " '_i68',\n",
       " '_i69',\n",
       " '_i7',\n",
       " '_i70',\n",
       " '_i71',\n",
       " '_i72',\n",
       " '_i73',\n",
       " '_i74',\n",
       " '_i75',\n",
       " '_i76',\n",
       " '_i77',\n",
       " '_i78',\n",
       " '_i79',\n",
       " '_i8',\n",
       " '_i80',\n",
       " '_i81',\n",
       " '_i82',\n",
       " '_i83',\n",
       " '_i84',\n",
       " '_i85',\n",
       " '_i86',\n",
       " '_i87',\n",
       " '_i88',\n",
       " '_i89',\n",
       " '_i9',\n",
       " '_i90',\n",
       " '_i91',\n",
       " '_i92',\n",
       " '_i93',\n",
       " '_i94',\n",
       " '_i95',\n",
       " '_i96',\n",
       " '_ih',\n",
       " '_ii',\n",
       " '_iii',\n",
       " '_oh',\n",
       " 'bin_1_union',\n",
       " 'bin_2_union',\n",
       " 'bin_3_union',\n",
       " 'binify_df',\n",
       " 'bm_dens_bins',\n",
       " 'bm_dens_col_name',\n",
       " 'dataclass',\n",
       " 'dataframe_to_shp',\n",
       " 'df',\n",
       " 'exit',\n",
       " 'gdal',\n",
       " 'gdal_array',\n",
       " 'gdal_open_shp',\n",
       " 'gdal_open_tif',\n",
       " 'gdal_print_first_feature',\n",
       " 'gdal_print_metadata',\n",
       " 'gdal_run_interpolation',\n",
       " 'gdalconst',\n",
       " 'geo_df',\n",
       " 'get_distance',\n",
       " 'get_ipython',\n",
       " 'get_pandas_from_csv',\n",
       " 'gp',\n",
       " 'grid_to_coordinate',\n",
       " 'height',\n",
       " 'main_name',\n",
       " 'make_kml',\n",
       " 'make_kml_from_multipolygon',\n",
       " 'make_polygons',\n",
       " 'max_lat',\n",
       " 'max_lon',\n",
       " 'min_lat',\n",
       " 'min_lon',\n",
       " 'multipolygon_dict',\n",
       " 'np',\n",
       " 'ogr',\n",
       " 'open',\n",
       " 'open_shapefile',\n",
       " 'open_shp',\n",
       " 'os',\n",
       " 'pandas_to_csv',\n",
       " 'pd',\n",
       " 'plot_raster',\n",
       " 'plt',\n",
       " 'polygon',\n",
       " 'quit',\n",
       " 'row',\n",
       " 'save_geodataframe',\n",
       " 'shapely',\n",
       " 'shp',\n",
       " 'shp_of_polygons_to_dict_of_bins',\n",
       " 'simplekml',\n",
       " 'sp',\n",
       " 'unary_union',\n",
       " 'unite_polygons',\n",
       " 'width']"
      ]
     },
     "execution_count": 96,
     "metadata": {},
     "output_type": "execute_result"
    }
   ],
   "source": [
    "dir()"
   ]
  },
  {
   "cell_type": "code",
   "execution_count": 62,
   "metadata": {},
   "outputs": [
    {
     "data": {
      "text/plain": [
       "21.04669954354165"
      ]
     },
     "execution_count": 62,
     "metadata": {},
     "output_type": "execute_result"
    }
   ],
   "source": [
    "get_distance(coords=bin_3_union.geoms[4].bounds)"
   ]
  }
 ],
 "metadata": {
  "kernelspec": {
   "display_name": "venv",
   "language": "python",
   "name": "python3"
  },
  "language_info": {
   "codemirror_mode": {
    "name": "ipython",
    "version": 3
   },
   "file_extension": ".py",
   "mimetype": "text/x-python",
   "name": "python",
   "nbconvert_exporter": "python",
   "pygments_lexer": "ipython3",
   "version": "3.10.10"
  },
  "orig_nbformat": 4
 },
 "nbformat": 4,
 "nbformat_minor": 2
}
