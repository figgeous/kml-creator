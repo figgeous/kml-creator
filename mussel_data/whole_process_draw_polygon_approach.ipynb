{
 "cells": [
  {
   "cell_type": "code",
   "execution_count": 1,
   "metadata": {},
   "outputs": [],
   "source": [
    "# import shapely as sp\n",
    "import simplekml\n",
    "\n",
    "from scripts.scripts import *\n"
   ]
  },
  {
   "cell_type": "code",
   "execution_count": 2,
   "metadata": {
    "collapsed": false
   },
   "outputs": [
    {
     "name": "stdout",
     "output_type": "stream",
     "text": [
      "Opened csv from csv_files/only_bm_seg.csv. Shape: (81600, 5)\n",
      "Saved geo_df to shapefiles/only_bm_seg.shp.zip\n",
      "The dataset covers an area of 1198 m in width and 7084 m in height\n",
      "1.0 m metre of longitude at the bottom left is 0.9997 m at the top left.\n",
      "1.0 m metre of latitude at the bottom left is 1.0 m at the bottom right.\n"
     ]
    }
   ],
   "source": [
    "bm_dens_col_name = \"bm_dens\"\n",
    "bm_dens_bins = (\n",
    "    Bin(bm_dens_col_name, 1,\"First bin\", 0, 20, simplekml.Color.orange),\n",
    "    Bin(bm_dens_col_name, 2,\"Second bin\", 20, 40, simplekml.Color.tomato),\n",
    "    Bin(bm_dens_col_name, 3,\"Third bin\", 40,60, simplekml.Color.red),\n",
    "    )\n",
    "\n",
    "main_name = \"only_bm_seg\"\n",
    "df = open_csv_as_dataframe(file_name=main_name,sep=\",\",index_col=0)\n",
    "df = add_bin_enum_to_df(df=df,bins=bm_dens_bins,column=bm_dens_col_name)\n",
    "\n",
    "geo_df = dataframe_to_shp(input_df=df)\n",
    "\n",
    "save_geodataframe_to_shp(\n",
    "    geo_df=geo_df,\n",
    "    file_name=main_name,\n",
    ")\n",
    "width, height = get_geodf_dimensions(geo_df=geo_df)\n",
    "\n"
   ]
  },
  {
   "cell_type": "code",
   "execution_count": 3,
   "metadata": {
    "collapsed": false
   },
   "outputs": [],
   "source": [
    "target_column = \"bm_dens_s\"\n",
    "new_main_name = main_name+\"-\"+target_column+\"-\"\n"
   ]
  },
  {
   "cell_type": "code",
   "execution_count": 4,
   "metadata": {
    "collapsed": false
   },
   "outputs": [
    {
     "name": "stdout",
     "output_type": "stream",
     "text": [
      "Bin 1: uniting 73264 polygons to 66 polygons\n",
      "Bin 2: uniting 5485 polygons to 250 polygons\n",
      "Bin 3: uniting 2851 polygons to 190 polygons\n",
      "Saved kml file to kml_files/Trial_30__bin_2.kml\n",
      "Saved kml file to kml_files/Trial_30__bin_3.kml\n"
     ]
    }
   ],
   "source": [
    "geo_df = add_square_buffer_to_geo_df(geo_df=geo_df, size=0.00030)\n",
    "binned_multipolygon_dict = unite_polygons_to_binned_multipolygon_dict(\n",
    "    geo_df=geo_df,\n",
    "    grouping_col=\"bm_dens_s\",\n",
    "    bins=bm_dens_bins,\n",
    ")\n",
    "make_kml_from_binned_multipolygon_dict(\n",
    "    binned_multipolygon_dict=binned_multipolygon_dict,\n",
    "    file_name=\"Trial_30_\",\n",
    "    bins=bm_dens_bins,\n",
    "    ignore_bin=[1],\n",
    "    one_file_per_bin=True,\n",
    ")"
   ]
  },
  {
   "cell_type": "code",
   "execution_count": 11,
   "metadata": {},
   "outputs": [
    {
     "name": "stdout",
     "output_type": "stream",
     "text": [
      "Saved kml file to kml_files/Trial_wo_combine.kml\n"
     ]
    }
   ],
   "source": [
    "make_kml_from_geo_df(file_name=\"Trial_wo_combine\", bins= [bm_dens_bins[2]], geo_df=geo_df,grouping_col=\"bm_dens_s\")"
   ]
  }
 ],
 "metadata": {
  "kernelspec": {
   "display_name": "venv",
   "language": "python",
   "name": "python3"
  },
  "language_info": {
   "codemirror_mode": {
    "name": "ipython",
    "version": 3
   },
   "file_extension": ".py",
   "mimetype": "text/x-python",
   "name": "python",
   "nbconvert_exporter": "python",
   "pygments_lexer": "ipython3",
   "version": "3.10.10"
  },
  "orig_nbformat": 4
 },
 "nbformat": 4,
 "nbformat_minor": 2
}
