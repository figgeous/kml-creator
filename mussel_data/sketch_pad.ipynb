{
 "cells": [
  {
   "cell_type": "code",
   "execution_count": 1,
   "metadata": {},
   "outputs": [],
   "source": [
    "from helpers import *\n",
    "bm_dens_col_name = \"bm_dens\"\n",
    "bm_dens_bins = (\n",
    "    Bin(bm_dens_col_name, 1, \"First bin\", 0, 20, simplekml.Color.yellow),\n",
    "    Bin(bm_dens_col_name, 2, \"Second bin\", 20, 40, simplekml.Color.hex(\"5CFF21\")),\n",
    "    Bin(bm_dens_col_name, 3, \"Third bin\", 40, 60, simplekml.Color.hex(\"3B9C17\"), \"[]\"),\n",
    ")"
   ]
  },
  {
   "cell_type": "code",
   "execution_count": 4,
   "metadata": {},
   "outputs": [],
   "source": [
    "# Open shapefile with geopandas\n",
    "shape_folder = \"shp_files/\"\n",
    "file_name = shape_folder+\"only_bm_seg-bm_dens-bin_2_polygons.shp.zip\"\n",
    "geo_df = gp.read_file(file_name)\n",
    "geo_df = geo_df[geo_df[\"DN\"] != 0]\n",
    "united: sp.MultiPolygon\n",
    "united = sp.unary_union(geo_df[\"geometry\"])"
   ]
  },
  {
   "cell_type": "code",
   "execution_count": 5,
   "metadata": {},
   "outputs": [],
   "source": [
    "sample = united.simplify(tolerance=0.0001)\n",
    "assert sample != united"
   ]
  },
  {
   "cell_type": "code",
   "execution_count": 24,
   "metadata": {},
   "outputs": [
    {
     "data": {
      "text/plain": [
       "(8.945341115, 56.97588502, 9.054660111, 56.985698570211866)"
      ]
     },
     "execution_count": 24,
     "metadata": {},
     "output_type": "execute_result"
    }
   ],
   "source": [
    "sample.bounds"
   ]
  },
  {
   "cell_type": "code",
   "execution_count": 21,
   "metadata": {},
   "outputs": [
    {
     "data": {
      "text/plain": [
       "9.999999999963928"
      ]
     },
     "execution_count": 21,
     "metadata": {},
     "output_type": "execute_result"
    }
   ],
   "source": [
    "x2, _ = get_coordinate_a_distance_away(start_coord=(x1, y1), distance_in_metres=10)\n"
   ]
  },
  {
   "cell_type": "code",
   "execution_count": 22,
   "metadata": {},
   "outputs": [
    {
     "data": {
      "text/plain": [
       "-0.000164442612845761"
      ]
     },
     "execution_count": 22,
     "metadata": {},
     "output_type": "execute_result"
    }
   ],
   "source": [
    "x1-x2"
   ]
  },
  {
   "cell_type": "code",
   "execution_count": 8,
   "metadata": {},
   "outputs": [
    {
     "data": {
      "image/png": "[encoded data removed]",
      "text/plain": [
       "<Figure size 640x480 with 1 Axes>"
      ]
     },
     "metadata": {},
     "output_type": "display_data"
    }
   ],
   "source": [
    "import matplotlib.pyplot as plt\n",
    "# Plot polygons from multipolygon\n",
    "for polygon in sample.geoms:\n",
    "    plt.plot(*polygon.exterior.xy)\n",
    "# plt.plot(*sample.exterior.xy)"
   ]
  },
  {
   "cell_type": "code",
   "execution_count": 32,
   "metadata": {},
   "outputs": [
    {
     "data": {
      "text/plain": [
       "'Bin_2_multi'"
      ]
     },
     "execution_count": 32,
     "metadata": {},
     "output_type": "execute_result"
    }
   ],
   "source": [
    "def make_kml_from_one_polygon(\n",
    "    file_name: str, polygon: sp.Polygon | sp.MultiPolygon, bin: Bin\n",
    ") -> str:\n",
    "    kml = simplekml.Kml()\n",
    "    multipolodd = kml.newmultigeometry(name=\"MultiPoly\")\n",
    "\n",
    "    if isinstance(polygon, sp.Polygon):\n",
    "        polygon = multipolodd.newpolygon(\n",
    "            name=\"polygon\",\n",
    "            outerboundaryis=list(polygon.exterior.coords),\n",
    "        )\n",
    "        polygon.style.polystyle.color = bin.colour\n",
    "        polygon.style.polystyle.outline = 0\n",
    "    elif isinstance(polygon, sp.MultiPolygon):\n",
    "        for polygon in polygon.geoms:\n",
    "            pol = multipolodd.newpolygon(\n",
    "                name=\"polygon\",\n",
    "                outerboundaryis=list(polygon.exterior.coords),\n",
    "            )\n",
    "            pol.style.polystyle.color = bin.colour\n",
    "            pol.style.polystyle.outline = 0\n",
    "    else:\n",
    "        raise TypeError(\"Polygon must be a shapely Polygon or MultiPolygon\")\n",
    "    file_path = \"kml_files/\"+file_name + \".kml\"\n",
    "    kml.save(file_path)\n",
    "    logging.info(\"Saved kml file to \" + file_path)\n",
    "    return file_name\n",
    "\n",
    "\n",
    "make_kml_from_one_polygon(file_name=\"Bin_2_multi\", polygon=sample, bin= bm_dens_bins[2])"
   ]
  },
  {
   "cell_type": "code",
   "execution_count": 19,
   "metadata": {},
   "outputs": [
    {
     "data": {
      "text/plain": [
       "(2461, 2)"
      ]
     },
     "execution_count": 19,
     "metadata": {},
     "output_type": "execute_result"
    }
   ],
   "source": [
    "geo_df.shape"
   ]
  },
  {
   "cell_type": "code",
   "execution_count": 18,
   "metadata": {},
   "outputs": [
    {
     "data": {
      "text/plain": [
       "8"
      ]
     },
     "execution_count": 18,
     "metadata": {},
     "output_type": "execute_result"
    }
   ],
   "source": [
    "len(united.geoms)"
   ]
  },
  {
   "cell_type": "code",
   "execution_count": 20,
   "metadata": {},
   "outputs": [],
   "source": [
    "dissolved_df = geo_df = geo_df.dissolve(by=\"DN\")"
   ]
  },
  {
   "cell_type": "code",
   "execution_count": 29,
   "metadata": {},
   "outputs": [
    {
     "name": "stdout",
     "output_type": "stream",
     "text": [
      "2461\n"
     ]
    }
   ],
   "source": [
    "# count number of polygons in dissolved_df\n",
    "count = 0\n",
    "for m in dissolved_df[\"geometry\"]:\n",
    "    for p in m.geoms:\n",
    "        count += 1\n",
    "        # print(p)\n",
    "print(count)"
   ]
  }
 ],
 "metadata": {
  "kernelspec": {
   "display_name": "venv",
   "language": "python",
   "name": "python3"
  },
  "language_info": {
   "codemirror_mode": {
    "name": "ipython",
    "version": 3
   },
   "file_extension": ".py",
   "mimetype": "text/x-python",
   "name": "python",
   "nbconvert_exporter": "python",
   "pygments_lexer": "ipython3",
   "version": "3.10.10"
  },
  "orig_nbformat": 4
 },
 "nbformat": 4,
 "nbformat_minor": 2
}
