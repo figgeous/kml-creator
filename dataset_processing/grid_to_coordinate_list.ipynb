{
 "cells": [
  {
   "cell_type": "code",
   "execution_count": 75,
   "metadata": {},
   "outputs": [
    {
     "data": {
      "text/plain": [
       "Index(['lon', '9.065843041', '9.065923535', '9.066007064', '9.066084523',\n",
       "       '9.066165016', '9.06624551', '9.066326004', '9.066406498',\n",
       "       '9.066486991', '9.066567485'],\n",
       "      dtype='object')"
      ]
     },
     "execution_count": 75,
     "metadata": {},
     "output_type": "execute_result"
    }
   ],
   "source": [
    "import pandas as pd\n",
    "import matplotlib.pyplot as plt\n",
    "\n",
    "df = pd.read_csv(\"../test_grid.csv\", sep=\",\")\n",
    "df = df.rename(columns={'Unnamed: 0':'lat'})\n",
    "\n",
    "df.columns # should be [\"lat\"] followed by longitudes"
   ]
  },
  {
   "cell_type": "code",
   "execution_count": 72,
   "metadata": {},
   "outputs": [],
   "source": [
    "melt = df.melt(id_vars=[\"lon\"], var_name=df.columns[1], value_name=\"value\")\n",
    "melt = melt.rename(columns={melt.columns[1]:'lat'})\n",
    "melt[[\"lat\"]] = melt[[\"lat\"]].apply(pd.to_numeric)"
   ]
  },
  {
   "cell_type": "code",
   "execution_count": 74,
   "metadata": {},
   "outputs": [],
   "source": [
    "melt.to_csv('test_grid_coor_01.csv',sep=';')"
   ]
  }
 ],
 "metadata": {
  "kernelspec": {
   "display_name": "venv",
   "language": "python",
   "name": "python3"
  },
  "language_info": {
   "codemirror_mode": {
    "name": "ipython",
    "version": 3
   },
   "file_extension": ".py",
   "mimetype": "text/x-python",
   "name": "python",
   "nbconvert_exporter": "python",
   "pygments_lexer": "ipython3",
   "version": "3.10.10"
  },
  "orig_nbformat": 4
 },
 "nbformat": 4,
 "nbformat_minor": 2
}
