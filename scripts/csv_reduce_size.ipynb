{
 "cells": [
  {
   "cell_type": "code",
   "execution_count": 1,
   "metadata": {},
   "outputs": [],
   "source": [
    "import pandas as pd\n",
    "import matplotlib.pyplot as plt\n",
    "\n",
    "df = pd.read_csv(filepath_or_buffer=\"../csv_files/only_bm.csv\", sep=\",\", index_col=0)"
   ]
  },
  {
   "cell_type": "code",
   "execution_count": 2,
   "metadata": {},
   "outputs": [
    {
     "data": {
      "text/html": [
       "<div>\n",
       "<style scoped>\n",
       "    .dataframe tbody tr th:only-of-type {\n",
       "        vertical-align: middle;\n",
       "    }\n",
       "\n",
       "    .dataframe tbody tr th {\n",
       "        vertical-align: top;\n",
       "    }\n",
       "\n",
       "    .dataframe thead th {\n",
       "        text-align: right;\n",
       "    }\n",
       "</style>\n",
       "<table border=\"1\" class=\"dataframe\">\n",
       "  <thead>\n",
       "    <tr style=\"text-align: right;\">\n",
       "      <th></th>\n",
       "      <th>lat</th>\n",
       "      <th>lon</th>\n",
       "      <th>bm_dens</th>\n",
       "      <th>bm_size</th>\n",
       "      <th>bm_dead</th>\n",
       "    </tr>\n",
       "  </thead>\n",
       "  <tbody>\n",
       "    <tr>\n",
       "      <th>0</th>\n",
       "      <td>56.996942</td>\n",
       "      <td>8.943549</td>\n",
       "      <td>10</td>\n",
       "      <td>58</td>\n",
       "      <td>14</td>\n",
       "    </tr>\n",
       "    <tr>\n",
       "      <th>1</th>\n",
       "      <td>56.996933</td>\n",
       "      <td>8.943549</td>\n",
       "      <td>10</td>\n",
       "      <td>58</td>\n",
       "      <td>14</td>\n",
       "    </tr>\n",
       "    <tr>\n",
       "      <th>2</th>\n",
       "      <td>56.996924</td>\n",
       "      <td>8.943549</td>\n",
       "      <td>10</td>\n",
       "      <td>58</td>\n",
       "      <td>14</td>\n",
       "    </tr>\n",
       "    <tr>\n",
       "      <th>3</th>\n",
       "      <td>56.996915</td>\n",
       "      <td>8.943549</td>\n",
       "      <td>10</td>\n",
       "      <td>58</td>\n",
       "      <td>14</td>\n",
       "    </tr>\n",
       "    <tr>\n",
       "      <th>4</th>\n",
       "      <td>56.996906</td>\n",
       "      <td>8.943549</td>\n",
       "      <td>10</td>\n",
       "      <td>58</td>\n",
       "      <td>14</td>\n",
       "    </tr>\n",
       "    <tr>\n",
       "      <th>...</th>\n",
       "      <td>...</td>\n",
       "      <td>...</td>\n",
       "      <td>...</td>\n",
       "      <td>...</td>\n",
       "      <td>...</td>\n",
       "    </tr>\n",
       "    <tr>\n",
       "      <th>407995</th>\n",
       "      <td>56.943133</td>\n",
       "      <td>9.060036</td>\n",
       "      <td>0</td>\n",
       "      <td>0</td>\n",
       "      <td>0</td>\n",
       "    </tr>\n",
       "    <tr>\n",
       "      <th>407996</th>\n",
       "      <td>56.943124</td>\n",
       "      <td>9.060036</td>\n",
       "      <td>0</td>\n",
       "      <td>0</td>\n",
       "      <td>0</td>\n",
       "    </tr>\n",
       "    <tr>\n",
       "      <th>407997</th>\n",
       "      <td>56.943115</td>\n",
       "      <td>9.060036</td>\n",
       "      <td>0</td>\n",
       "      <td>0</td>\n",
       "      <td>0</td>\n",
       "    </tr>\n",
       "    <tr>\n",
       "      <th>407998</th>\n",
       "      <td>56.943106</td>\n",
       "      <td>9.060036</td>\n",
       "      <td>0</td>\n",
       "      <td>0</td>\n",
       "      <td>0</td>\n",
       "    </tr>\n",
       "    <tr>\n",
       "      <th>407999</th>\n",
       "      <td>56.943097</td>\n",
       "      <td>9.060036</td>\n",
       "      <td>0</td>\n",
       "      <td>0</td>\n",
       "      <td>0</td>\n",
       "    </tr>\n",
       "  </tbody>\n",
       "</table>\n",
       "<p>408000 rows × 5 columns</p>\n",
       "</div>"
      ],
      "text/plain": [
       "              lat       lon  bm_dens  bm_size  bm_dead\n",
       "0       56.996942  8.943549       10       58       14\n",
       "1       56.996933  8.943549       10       58       14\n",
       "2       56.996924  8.943549       10       58       14\n",
       "3       56.996915  8.943549       10       58       14\n",
       "4       56.996906  8.943549       10       58       14\n",
       "...           ...       ...      ...      ...      ...\n",
       "407995  56.943133  9.060036        0        0        0\n",
       "407996  56.943124  9.060036        0        0        0\n",
       "407997  56.943115  9.060036        0        0        0\n",
       "407998  56.943106  9.060036        0        0        0\n",
       "407999  56.943097  9.060036        0        0        0\n",
       "\n",
       "[408000 rows x 5 columns]"
      ]
     },
     "execution_count": 2,
     "metadata": {},
     "output_type": "execute_result"
    }
   ],
   "source": [
    "df"
   ]
  },
  {
   "cell_type": "code",
   "execution_count": 3,
   "metadata": {},
   "outputs": [
    {
     "name": "stdout",
     "output_type": "stream",
     "text": [
      "56.94309681 56.996942 8.943549 9.060036455\n"
     ]
    }
   ],
   "source": [
    "lat_min = df['lat'].min()\n",
    "lat_max = df['lat'].max()\n",
    "lon_min = df['lon'].min()\n",
    "lon_max = df['lon'].max()\n",
    "print(lat_min,lat_max,lon_min,lon_max)"
   ]
  },
  {
   "cell_type": "code",
   "execution_count": 4,
   "metadata": {},
   "outputs": [
    {
     "name": "stdout",
     "output_type": "stream",
     "text": [
      "0.05384518999999699 0.11648745499999968\n"
     ]
    }
   ],
   "source": [
    "lat_diff = lat_max-lat_min\n",
    "lon_diff = lon_max-lon_min\n",
    "print(lat_diff,lon_diff)"
   ]
  },
  {
   "cell_type": "code",
   "execution_count": 18,
   "metadata": {},
   "outputs": [
    {
     "name": "stdout",
     "output_type": "stream",
     "text": [
      "56.975403924 56.986172962 9.013441473 9.036738964000001\n"
     ]
    }
   ],
   "source": [
    "div = 5 # division factor\n",
    "lon_over_lat = lon_diff/lat_diff\n",
    "seg = (3,3) # choose which segment. 0 =< seg < div\n",
    "assert ((seg[0]>=0) & (seg[0]<div)) & ((seg[1]>=0) & (seg[1]<div))\n",
    "lat_diff_div = lat_diff/div\n",
    "lon_diff_div = lon_diff/div\n",
    "lat_lw_t = lat_min + (lat_diff_div*(seg[0]))\n",
    "lat_up_t = lat_min + (lat_diff_div*(seg[0]+1))\n",
    "lon_lw_t = lon_min + (lon_diff_div*(seg[1]))\n",
    "lon_up_t = lon_min + (lon_diff_div*(seg[1]+1))\n",
    "print(lat_lw_t,lat_up_t,lon_lw_t,lon_up_t)"
   ]
  },
  {
   "cell_type": "code",
   "execution_count": 15,
   "metadata": {},
   "outputs": [
    {
     "data": {
      "text/plain": [
       "(1415.3461176072055, 2594.4159747171693)"
      ]
     },
     "execution_count": 15,
     "metadata": {},
     "output_type": "execute_result"
    }
   ],
   "source": [
    "import geopy.distance\n",
    "coords_1 = (lat_lw_t, lon_lw_t) # lat it y, lon is x\n",
    "coords_2 = (lat_lw_t, lon_up_t)\n",
    "width = geopy.distance.geodesic(coords_1, coords_2).m\n",
    "coords_1 = (lat_lw_t, lon_lw_t) # lat it y, lon is x\n",
    "coords_2 = (lat_up_t, lon_lw_t)\n",
    "height = geopy.distance.geodesic(coords_1, coords_2).m\n",
    "(width, height)"
   ]
  },
  {
   "cell_type": "code",
   "execution_count": 16,
   "metadata": {},
   "outputs": [
    {
     "ename": "KeyError",
     "evalue": "True",
     "output_type": "error",
     "traceback": [
      "\u001b[1;31m---------------------------------------------------------------------------\u001b[0m",
      "\u001b[1;31mKeyError\u001b[0m                                  Traceback (most recent call last)",
      "File \u001b[1;32mc:\\Users\\thoma\\Documents\\RUC CS project\\venv\\lib\\site-packages\\pandas\\core\\indexes\\base.py:3802\u001b[0m, in \u001b[0;36mIndex.get_loc\u001b[1;34m(self, key, method, tolerance)\u001b[0m\n\u001b[0;32m   3801\u001b[0m \u001b[39mtry\u001b[39;00m:\n\u001b[1;32m-> 3802\u001b[0m     \u001b[39mreturn\u001b[39;00m \u001b[39mself\u001b[39;49m\u001b[39m.\u001b[39;49m_engine\u001b[39m.\u001b[39;49mget_loc(casted_key)\n\u001b[0;32m   3803\u001b[0m \u001b[39mexcept\u001b[39;00m \u001b[39mKeyError\u001b[39;00m \u001b[39mas\u001b[39;00m err:\n",
      "File \u001b[1;32mc:\\Users\\thoma\\Documents\\RUC CS project\\venv\\lib\\site-packages\\pandas\\_libs\\index.pyx:138\u001b[0m, in \u001b[0;36mpandas._libs.index.IndexEngine.get_loc\u001b[1;34m()\u001b[0m\n",
      "File \u001b[1;32mc:\\Users\\thoma\\Documents\\RUC CS project\\venv\\lib\\site-packages\\pandas\\_libs\\index.pyx:165\u001b[0m, in \u001b[0;36mpandas._libs.index.IndexEngine.get_loc\u001b[1;34m()\u001b[0m\n",
      "File \u001b[1;32mpandas\\_libs\\hashtable_class_helper.pxi:4726\u001b[0m, in \u001b[0;36mpandas._libs.hashtable.UInt8HashTable.get_item\u001b[1;34m()\u001b[0m\n",
      "File \u001b[1;32mpandas\\_libs\\hashtable_class_helper.pxi:4736\u001b[0m, in \u001b[0;36mpandas._libs.hashtable.UInt8HashTable.get_item\u001b[1;34m()\u001b[0m\n",
      "\u001b[1;31mKeyError\u001b[0m: 1",
      "\nThe above exception was the direct cause of the following exception:\n",
      "\u001b[1;31mKeyError\u001b[0m                                  Traceback (most recent call last)",
      "Cell \u001b[1;32mIn[16], line 3\u001b[0m\n\u001b[0;32m      1\u001b[0m reduced_lat \u001b[39m=\u001b[39m (df[\u001b[39m'\u001b[39m\u001b[39mlat\u001b[39m\u001b[39m'\u001b[39m]\u001b[39m>\u001b[39mlat_lw_t) \u001b[39m&\u001b[39m (df[\u001b[39m'\u001b[39m\u001b[39mlat\u001b[39m\u001b[39m'\u001b[39m]\u001b[39m<\u001b[39mlat_up_t)\n\u001b[0;32m      2\u001b[0m reduced_lon \u001b[39m=\u001b[39m (df[\u001b[39m'\u001b[39m\u001b[39mlat\u001b[39m\u001b[39m'\u001b[39m]\u001b[39m>\u001b[39mlat_lw_t) \u001b[39m&\u001b[39m (df[\u001b[39m'\u001b[39m\u001b[39mlat\u001b[39m\u001b[39m'\u001b[39m]\u001b[39m<\u001b[39mlat_up_t)\n\u001b[1;32m----> 3\u001b[0m \u001b[39massert\u001b[39;00m (\u001b[39mround\u001b[39m(reduced_lat\u001b[39m.\u001b[39mshape[\u001b[39m0\u001b[39m]\u001b[39m/\u001b[39mreduced_lat\u001b[39m.\u001b[39;49mvalue_counts()[\u001b[39mTrue\u001b[39;49;00m])) \u001b[39m==\u001b[39m \u001b[39m5\u001b[39m\n\u001b[0;32m      4\u001b[0m \u001b[39massert\u001b[39;00m (\u001b[39mround\u001b[39m(reduced_lon\u001b[39m.\u001b[39mshape[\u001b[39m0\u001b[39m]\u001b[39m/\u001b[39mreduced_lon\u001b[39m.\u001b[39mvalue_counts()[\u001b[39mTrue\u001b[39;00m])) \u001b[39m==\u001b[39m \u001b[39m5\u001b[39m\n",
      "File \u001b[1;32mc:\\Users\\thoma\\Documents\\RUC CS project\\venv\\lib\\site-packages\\pandas\\core\\series.py:981\u001b[0m, in \u001b[0;36mSeries.__getitem__\u001b[1;34m(self, key)\u001b[0m\n\u001b[0;32m    978\u001b[0m     \u001b[39mreturn\u001b[39;00m \u001b[39mself\u001b[39m\u001b[39m.\u001b[39m_values[key]\n\u001b[0;32m    980\u001b[0m \u001b[39melif\u001b[39;00m key_is_scalar:\n\u001b[1;32m--> 981\u001b[0m     \u001b[39mreturn\u001b[39;00m \u001b[39mself\u001b[39;49m\u001b[39m.\u001b[39;49m_get_value(key)\n\u001b[0;32m    983\u001b[0m \u001b[39mif\u001b[39;00m is_hashable(key):\n\u001b[0;32m    984\u001b[0m     \u001b[39m# Otherwise index.get_value will raise InvalidIndexError\u001b[39;00m\n\u001b[0;32m    985\u001b[0m     \u001b[39mtry\u001b[39;00m:\n\u001b[0;32m    986\u001b[0m         \u001b[39m# For labels that don't resolve as scalars like tuples and frozensets\u001b[39;00m\n",
      "File \u001b[1;32mc:\\Users\\thoma\\Documents\\RUC CS project\\venv\\lib\\site-packages\\pandas\\core\\series.py:1089\u001b[0m, in \u001b[0;36mSeries._get_value\u001b[1;34m(self, label, takeable)\u001b[0m\n\u001b[0;32m   1086\u001b[0m     \u001b[39mreturn\u001b[39;00m \u001b[39mself\u001b[39m\u001b[39m.\u001b[39m_values[label]\n\u001b[0;32m   1088\u001b[0m \u001b[39m# Similar to Index.get_value, but we do not fall back to positional\u001b[39;00m\n\u001b[1;32m-> 1089\u001b[0m loc \u001b[39m=\u001b[39m \u001b[39mself\u001b[39;49m\u001b[39m.\u001b[39;49mindex\u001b[39m.\u001b[39;49mget_loc(label)\n\u001b[0;32m   1090\u001b[0m \u001b[39mreturn\u001b[39;00m \u001b[39mself\u001b[39m\u001b[39m.\u001b[39mindex\u001b[39m.\u001b[39m_get_values_for_loc(\u001b[39mself\u001b[39m, loc, label)\n",
      "File \u001b[1;32mc:\\Users\\thoma\\Documents\\RUC CS project\\venv\\lib\\site-packages\\pandas\\core\\indexes\\base.py:3804\u001b[0m, in \u001b[0;36mIndex.get_loc\u001b[1;34m(self, key, method, tolerance)\u001b[0m\n\u001b[0;32m   3802\u001b[0m     \u001b[39mreturn\u001b[39;00m \u001b[39mself\u001b[39m\u001b[39m.\u001b[39m_engine\u001b[39m.\u001b[39mget_loc(casted_key)\n\u001b[0;32m   3803\u001b[0m \u001b[39mexcept\u001b[39;00m \u001b[39mKeyError\u001b[39;00m \u001b[39mas\u001b[39;00m err:\n\u001b[1;32m-> 3804\u001b[0m     \u001b[39mraise\u001b[39;00m \u001b[39mKeyError\u001b[39;00m(key) \u001b[39mfrom\u001b[39;00m \u001b[39merr\u001b[39;00m\n\u001b[0;32m   3805\u001b[0m \u001b[39mexcept\u001b[39;00m \u001b[39mTypeError\u001b[39;00m:\n\u001b[0;32m   3806\u001b[0m     \u001b[39m# If we have a listlike key, _check_indexing_error will raise\u001b[39;00m\n\u001b[0;32m   3807\u001b[0m     \u001b[39m#  InvalidIndexError. Otherwise we fall through and re-raise\u001b[39;00m\n\u001b[0;32m   3808\u001b[0m     \u001b[39m#  the TypeError.\u001b[39;00m\n\u001b[0;32m   3809\u001b[0m     \u001b[39mself\u001b[39m\u001b[39m.\u001b[39m_check_indexing_error(key)\n",
      "\u001b[1;31mKeyError\u001b[0m: True"
     ]
    }
   ],
   "source": [
    "reduced_lat = (df['lat']>lat_lw_t) & (df['lat']<lat_up_t)\n",
    "reduced_lon = (df['lat']>lat_lw_t) & (df['lat']<lat_up_t)\n",
    "assert (round(reduced_lat.shape[0]/reduced_lat.value_counts()[True])) == 5\n",
    "assert (round(reduced_lon.shape[0]/reduced_lon.value_counts()[True])) == 5"
   ]
  },
  {
   "cell_type": "code",
   "execution_count": null,
   "metadata": {},
   "outputs": [],
   "source": [
    "reduced_df = df[(reduced_lat & reduced_lon)]"
   ]
  },
  {
   "cell_type": "code",
   "execution_count": 17,
   "metadata": {},
   "outputs": [
    {
     "data": {
      "text/plain": [
       "(81600, 5)"
      ]
     },
     "execution_count": 17,
     "metadata": {},
     "output_type": "execute_result"
    }
   ],
   "source": [
    "reduced_df.shape"
   ]
  },
  {
   "cell_type": "code",
   "execution_count": 18,
   "metadata": {},
   "outputs": [],
   "source": [
    "reduced_df.to_csv('../csv_files/only_bm_seg.csv', sep=',',decimal='.')"
   ]
  }
 ],
 "metadata": {
  "kernelspec": {
   "display_name": "venv",
   "language": "python",
   "name": "python3"
  },
  "language_info": {
   "codemirror_mode": {
    "name": "ipython",
    "version": 3
   },
   "file_extension": ".py",
   "mimetype": "text/x-python",
   "name": "python",
   "nbconvert_exporter": "python",
   "pygments_lexer": "ipython3",
   "version": "3.10.10"
  },
  "orig_nbformat": 4
 },
 "nbformat": 4,
 "nbformat_minor": 2
}
