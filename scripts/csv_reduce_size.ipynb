{
 "cells": [
  {
   "cell_type": "code",
   "execution_count": 60,
   "metadata": {},
   "outputs": [],
   "source": [
    "import pandas as pd\n",
    "import matplotlib.pyplot as plt\n",
    "\n",
    "df = pd.read_csv(\"../only_bm.csv\", sep=\";\")"
   ]
  },
  {
   "cell_type": "code",
   "execution_count": 61,
   "metadata": {},
   "outputs": [
    {
     "name": "stdout",
     "output_type": "stream",
     "text": [
      "56.94309681 56.996942 8.943549 9.060036455\n"
     ]
    }
   ],
   "source": [
    "lat_min = df['lat'].min()\n",
    "lat_max = df['lat'].max()\n",
    "lon_min = df['long'].min()\n",
    "lon_max = df['long'].max()\n",
    "print(lat_min,lat_max,lon_min,lon_max)"
   ]
  },
  {
   "cell_type": "code",
   "execution_count": 62,
   "metadata": {},
   "outputs": [
    {
     "name": "stdout",
     "output_type": "stream",
     "text": [
      "0.05384518999999699 0.11648745499999968\n"
     ]
    }
   ],
   "source": [
    "lat_diff = lat_max-lat_min\n",
    "lon_diff = lon_max-lon_min\n",
    "print(lat_diff,lon_diff)"
   ]
  },
  {
   "cell_type": "code",
   "execution_count": 63,
   "metadata": {},
   "outputs": [
    {
     "name": "stdout",
     "output_type": "stream",
     "text": [
      "The map covers 5.98 km and 12.95 km\n"
     ]
    }
   ],
   "source": [
    "coor_to_km = 111.139\n",
    "print(f\"The map covers {round(coor_to_km*lat_diff,2)} km and {round(coor_to_km*lon_diff,2)} km\") # not accurate"
   ]
  },
  {
   "cell_type": "code",
   "execution_count": 64,
   "metadata": {},
   "outputs": [
    {
     "name": "stdout",
     "output_type": "stream",
     "text": [
      "56.94309681 56.953865848 8.943549 8.966846491\n"
     ]
    }
   ],
   "source": [
    "div = 5 # division factor\n",
    "seg = (0,0) # choose which segment. 0 =< seg < div\n",
    "assert ((seg[0]>=0) & (seg[0]<div)) & ((seg[1]>=0) & (seg[1]<div))\n",
    "lat_diff_div = lat_diff/div\n",
    "lon_diff_div = lon_diff/div\n",
    "lat_lw_t = lat_min + (lat_diff_div*(seg[0]))\n",
    "lat_up_t = lat_min + (lat_diff_div*(seg[0]+1))\n",
    "lon_lw_t = lon_min + (lon_diff_div*(seg[1]))\n",
    "lon_up_t = lon_min + (lon_diff_div*(seg[1]+1))\n",
    "print(lat_lw_t,lat_up_t,lon_lw_t,lon_up_t)"
   ]
  },
  {
   "cell_type": "code",
   "execution_count": 65,
   "metadata": {},
   "outputs": [],
   "source": [
    "reduced_lat = (df['lat']>lat_lw_t) & (df['lat']<lat_up_t)\n",
    "reduced_lon = (df['lat']>lat_lw_t) & (df['lat']<lat_up_t)\n",
    "assert (round(reduced_lat.shape[0]/reduced_lat.value_counts()[True])) == 5\n",
    "assert (round(reduced_lon.shape[0]/reduced_lon.value_counts()[True])) == 5"
   ]
  },
  {
   "cell_type": "code",
   "execution_count": 66,
   "metadata": {},
   "outputs": [],
   "source": [
    "reduced_df = df[(reduced_lat & reduced_lon)]"
   ]
  },
  {
   "cell_type": "code",
   "execution_count": 69,
   "metadata": {},
   "outputs": [],
   "source": [
    "reduced_df = df.to_csv('../only_bm_zero_zero.csv', sep=';',decimal='.')"
   ]
  }
 ],
 "metadata": {
  "kernelspec": {
   "display_name": "venv",
   "language": "python",
   "name": "python3"
  },
  "language_info": {
   "codemirror_mode": {
    "name": "ipython",
    "version": 3
   },
   "file_extension": ".py",
   "mimetype": "text/x-python",
   "name": "python",
   "nbconvert_exporter": "python",
   "pygments_lexer": "ipython3",
   "version": "3.10.10"
  },
  "orig_nbformat": 4
 },
 "nbformat": 4,
 "nbformat_minor": 2
}
