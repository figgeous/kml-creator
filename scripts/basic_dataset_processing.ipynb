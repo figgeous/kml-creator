{
 "cells": [
  {
   "cell_type": "code",
   "execution_count": 51,
   "metadata": {},
   "outputs": [
    {
     "name": "stdout",
     "output_type": "stream",
     "text": [
      "\n"
     ]
    }
   ],
   "source": [
    "import pandas as pd\n",
    "import matplotlib.pyplot as plt\n",
    "\n",
    "df = pd.read_csv(\"Rawdatav1.csv\", sep=\";\", decimal=',')\n",
    "\n",
    "old_columns = df.columns\n",
    "print()\n",
    "new_column_names = [x.lower().replace(\" \",\"_\") for x in df.columns]\n",
    "df.columns = ['time', 'lat', 'long', 'd_dist',\n",
    "       'temp', 'oxygen', 'pressure',\n",
    "       'saline', 'bm_dens', 'bm_size', 'bm_dead',\n",
    "       'hm_dens', 'hm_size', 'hm_dead',\n",
    "       'sf_dens', 'ag_dens']\n",
    "\n",
    "df['long'] = df['long'].str.replace(\",\",\".\").astype(float)\n",
    "\n"
   ]
  },
  {
   "cell_type": "code",
   "execution_count": 52,
   "metadata": {},
   "outputs": [],
   "source": [
    "df.to_csv('RawDatav2.csv', sep=\";\", decimal='.')"
   ]
  },
  {
   "cell_type": "code",
   "execution_count": 53,
   "metadata": {},
   "outputs": [
    {
     "name": "stdout",
     "output_type": "stream",
     "text": [
      "Index(['time', 'lat', 'long', 'd_dist', 'temp', 'oxygen', 'pressure', 'saline',\n",
      "       'bm_dens', 'bm_size', 'bm_dead', 'hm_dens', 'hm_size', 'hm_dead',\n",
      "       'sf_dens', 'ag_dens'],\n",
      "      dtype='object')\n"
     ]
    }
   ],
   "source": [
    "print(df.columns)\n",
    "df = df[['lat', 'long', 'bm_dens', 'bm_size','bm_dead']]"
   ]
  },
  {
   "cell_type": "code",
   "execution_count": 54,
   "metadata": {},
   "outputs": [],
   "source": [
    "df.to_csv('only_bm.csv', sep=\";\", decimal='.')"
   ]
  },
  {
   "cell_type": "code",
   "execution_count": null,
   "metadata": {},
   "outputs": [],
   "source": []
  }
 ],
 "metadata": {
  "kernelspec": {
   "display_name": "venv",
   "language": "python",
   "name": "python3"
  },
  "language_info": {
   "codemirror_mode": {
    "name": "ipython",
    "version": 3
   },
   "file_extension": ".py",
   "mimetype": "text/x-python",
   "name": "python",
   "nbconvert_exporter": "python",
   "pygments_lexer": "ipython3",
   "version": "3.10.10"
  },
  "orig_nbformat": 4
 },
 "nbformat": 4,
 "nbformat_minor": 2
}
