{
 "cells": [
  {
   "cell_type": "code",
   "execution_count": 1,
   "metadata": {},
   "outputs": [],
   "source": [
    "import np as np\n",
    "\n",
    "from constants import *\n",
    "from scripts.scripts import *\n",
    "from scripts.gdal_scripts import *\n",
    "import geopandas as gp"
   ]
  },
  {
   "cell_type": "code",
   "execution_count": 2,
   "metadata": {},
   "outputs": [
    {
     "name": "stdout",
     "output_type": "stream",
     "text": [
      "Driver: GTiff/GeoTIFF\n",
      "Files: tif_files/test_grid02.tif\n",
      "Size is 256, 256\n",
      "Origin = (9.065843041000001,56.834808879999997)\n",
      "Pixel Size = (0.000002829859375,0.000001506484375)\n",
      "Image Structure Metadata:\n",
      "  INTERLEAVE=BAND\n",
      "Corner Coordinates:\n",
      "Upper Left  (   9.0658430,  56.8348089) \n",
      "Lower Left  (   9.0658430,  56.8351945) \n",
      "Upper Right (   9.0665675,  56.8348089) \n",
      "Lower Right (   9.0665675,  56.8351945) \n",
      "Center      (   9.0662053,  56.8350017) \n",
      "Band 1 Block=256x16 Type=Int16, ColorInterp=Gray\n",
      "\n"
     ]
    }
   ],
   "source": [
    "main_name = \"test_grid02\"\n",
    "gdal_print_metadata(tif_name=main_name)"
   ]
  },
  {
   "cell_type": "code",
   "execution_count": 3,
   "metadata": {
    "collapsed": false
   },
   "outputs": [],
   "source": [
    "df = get_pandas_from_csv(csv_name=main_name+\"_coor\")"
   ]
  },
  {
   "cell_type": "code",
   "execution_count": 4,
   "metadata": {
    "collapsed": false
   },
   "outputs": [
    {
     "data": {
      "text/plain": "     Unnamed: 0        lat       lon  value  simp_value\n0             0  56.835195  9.065843    100          75\n1             1  56.835185  9.065843    100          75\n2             2  56.835176  9.065843     80          75\n3             3  56.835167  9.065843     80          75\n4             4  56.835158  9.065843     80          75\n..          ...        ...       ...    ...         ...\n425         425  56.834846  9.066567      0          25\n426         426  56.834836  9.066567      0          25\n427         427  56.834827  9.066567      0          25\n428         428  56.834818  9.066567      0          25\n429         429  56.834809  9.066567      0          25\n\n[430 rows x 5 columns]",
      "text/html": "<div>\n<style scoped>\n    .dataframe tbody tr th:only-of-type {\n        vertical-align: middle;\n    }\n\n    .dataframe tbody tr th {\n        vertical-align: top;\n    }\n\n    .dataframe thead th {\n        text-align: right;\n    }\n</style>\n<table border=\"1\" class=\"dataframe\">\n  <thead>\n    <tr style=\"text-align: right;\">\n      <th></th>\n      <th>Unnamed: 0</th>\n      <th>lat</th>\n      <th>lon</th>\n      <th>value</th>\n      <th>simp_value</th>\n    </tr>\n  </thead>\n  <tbody>\n    <tr>\n      <th>0</th>\n      <td>0</td>\n      <td>56.835195</td>\n      <td>9.065843</td>\n      <td>100</td>\n      <td>75</td>\n    </tr>\n    <tr>\n      <th>1</th>\n      <td>1</td>\n      <td>56.835185</td>\n      <td>9.065843</td>\n      <td>100</td>\n      <td>75</td>\n    </tr>\n    <tr>\n      <th>2</th>\n      <td>2</td>\n      <td>56.835176</td>\n      <td>9.065843</td>\n      <td>80</td>\n      <td>75</td>\n    </tr>\n    <tr>\n      <th>3</th>\n      <td>3</td>\n      <td>56.835167</td>\n      <td>9.065843</td>\n      <td>80</td>\n      <td>75</td>\n    </tr>\n    <tr>\n      <th>4</th>\n      <td>4</td>\n      <td>56.835158</td>\n      <td>9.065843</td>\n      <td>80</td>\n      <td>75</td>\n    </tr>\n    <tr>\n      <th>...</th>\n      <td>...</td>\n      <td>...</td>\n      <td>...</td>\n      <td>...</td>\n      <td>...</td>\n    </tr>\n    <tr>\n      <th>425</th>\n      <td>425</td>\n      <td>56.834846</td>\n      <td>9.066567</td>\n      <td>0</td>\n      <td>25</td>\n    </tr>\n    <tr>\n      <th>426</th>\n      <td>426</td>\n      <td>56.834836</td>\n      <td>9.066567</td>\n      <td>0</td>\n      <td>25</td>\n    </tr>\n    <tr>\n      <th>427</th>\n      <td>427</td>\n      <td>56.834827</td>\n      <td>9.066567</td>\n      <td>0</td>\n      <td>25</td>\n    </tr>\n    <tr>\n      <th>428</th>\n      <td>428</td>\n      <td>56.834818</td>\n      <td>9.066567</td>\n      <td>0</td>\n      <td>25</td>\n    </tr>\n    <tr>\n      <th>429</th>\n      <td>429</td>\n      <td>56.834809</td>\n      <td>9.066567</td>\n      <td>0</td>\n      <td>25</td>\n    </tr>\n  </tbody>\n</table>\n<p>430 rows × 5 columns</p>\n</div>"
     },
     "execution_count": 4,
     "metadata": {},
     "output_type": "execute_result"
    }
   ],
   "source": [
    "import numpy as np\n",
    "df[df[\"value\"] >= 50]\n",
    "\n",
    "PE_Conditions = [\n",
    "    (df['value'] < 50),\n",
    "    (df['value'] >= 50),]\n",
    "PE_Categories = [25, 75]\n",
    "df['simp_value'] = np.select(PE_Conditions, PE_Categories)\n",
    "df"
   ]
  },
  {
   "cell_type": "code",
   "execution_count": 5,
   "metadata": {
    "collapsed": false
   },
   "outputs": [],
   "source": [
    "geo_df = dataframe_to_shp(input_df=df)"
   ]
  },
  {
   "cell_type": "code",
   "execution_count": 6,
   "metadata": {
    "collapsed": false
   },
   "outputs": [
    {
     "data": {
      "text/plain": "     Unnamed: 0  value  simp_value                  geometry\n0             0    100          75  POINT (9.06584 56.83519)\n1             1    100          75  POINT (9.06584 56.83519)\n2             2     80          75  POINT (9.06584 56.83518)\n3             3     80          75  POINT (9.06584 56.83517)\n4             4     80          75  POINT (9.06584 56.83516)\n..          ...    ...         ...                       ...\n425         425      0          25  POINT (9.06657 56.83485)\n426         426      0          25  POINT (9.06657 56.83484)\n427         427      0          25  POINT (9.06657 56.83483)\n428         428      0          25  POINT (9.06657 56.83482)\n429         429      0          25  POINT (9.06657 56.83481)\n\n[430 rows x 4 columns]",
      "text/html": "<div>\n<style scoped>\n    .dataframe tbody tr th:only-of-type {\n        vertical-align: middle;\n    }\n\n    .dataframe tbody tr th {\n        vertical-align: top;\n    }\n\n    .dataframe thead th {\n        text-align: right;\n    }\n</style>\n<table border=\"1\" class=\"dataframe\">\n  <thead>\n    <tr style=\"text-align: right;\">\n      <th></th>\n      <th>Unnamed: 0</th>\n      <th>value</th>\n      <th>simp_value</th>\n      <th>geometry</th>\n    </tr>\n  </thead>\n  <tbody>\n    <tr>\n      <th>0</th>\n      <td>0</td>\n      <td>100</td>\n      <td>75</td>\n      <td>POINT (9.06584 56.83519)</td>\n    </tr>\n    <tr>\n      <th>1</th>\n      <td>1</td>\n      <td>100</td>\n      <td>75</td>\n      <td>POINT (9.06584 56.83519)</td>\n    </tr>\n    <tr>\n      <th>2</th>\n      <td>2</td>\n      <td>80</td>\n      <td>75</td>\n      <td>POINT (9.06584 56.83518)</td>\n    </tr>\n    <tr>\n      <th>3</th>\n      <td>3</td>\n      <td>80</td>\n      <td>75</td>\n      <td>POINT (9.06584 56.83517)</td>\n    </tr>\n    <tr>\n      <th>4</th>\n      <td>4</td>\n      <td>80</td>\n      <td>75</td>\n      <td>POINT (9.06584 56.83516)</td>\n    </tr>\n    <tr>\n      <th>...</th>\n      <td>...</td>\n      <td>...</td>\n      <td>...</td>\n      <td>...</td>\n    </tr>\n    <tr>\n      <th>425</th>\n      <td>425</td>\n      <td>0</td>\n      <td>25</td>\n      <td>POINT (9.06657 56.83485)</td>\n    </tr>\n    <tr>\n      <th>426</th>\n      <td>426</td>\n      <td>0</td>\n      <td>25</td>\n      <td>POINT (9.06657 56.83484)</td>\n    </tr>\n    <tr>\n      <th>427</th>\n      <td>427</td>\n      <td>0</td>\n      <td>25</td>\n      <td>POINT (9.06657 56.83483)</td>\n    </tr>\n    <tr>\n      <th>428</th>\n      <td>428</td>\n      <td>0</td>\n      <td>25</td>\n      <td>POINT (9.06657 56.83482)</td>\n    </tr>\n    <tr>\n      <th>429</th>\n      <td>429</td>\n      <td>0</td>\n      <td>25</td>\n      <td>POINT (9.06657 56.83481)</td>\n    </tr>\n  </tbody>\n</table>\n<p>430 rows × 4 columns</p>\n</div>"
     },
     "execution_count": 6,
     "metadata": {},
     "output_type": "execute_result"
    }
   ],
   "source": [
    "geo_df"
   ]
  },
  {
   "cell_type": "code",
   "execution_count": 9,
   "outputs": [],
   "source": [
    "geo_df = geo_df.drop(columns=['Unnamed: 0','value'])"
   ],
   "metadata": {
    "collapsed": false
   }
  },
  {
   "cell_type": "code",
   "execution_count": 10,
   "metadata": {
    "collapsed": false
   },
   "outputs": [
    {
     "data": {
      "text/plain": "     simp_value                  geometry\n0            75  POINT (9.06584 56.83519)\n1            75  POINT (9.06584 56.83519)\n2            75  POINT (9.06584 56.83518)\n3            75  POINT (9.06584 56.83517)\n4            75  POINT (9.06584 56.83516)\n..          ...                       ...\n425          25  POINT (9.06657 56.83485)\n426          25  POINT (9.06657 56.83484)\n427          25  POINT (9.06657 56.83483)\n428          25  POINT (9.06657 56.83482)\n429          25  POINT (9.06657 56.83481)\n\n[430 rows x 2 columns]",
      "text/html": "<div>\n<style scoped>\n    .dataframe tbody tr th:only-of-type {\n        vertical-align: middle;\n    }\n\n    .dataframe tbody tr th {\n        vertical-align: top;\n    }\n\n    .dataframe thead th {\n        text-align: right;\n    }\n</style>\n<table border=\"1\" class=\"dataframe\">\n  <thead>\n    <tr style=\"text-align: right;\">\n      <th></th>\n      <th>simp_value</th>\n      <th>geometry</th>\n    </tr>\n  </thead>\n  <tbody>\n    <tr>\n      <th>0</th>\n      <td>75</td>\n      <td>POINT (9.06584 56.83519)</td>\n    </tr>\n    <tr>\n      <th>1</th>\n      <td>75</td>\n      <td>POINT (9.06584 56.83519)</td>\n    </tr>\n    <tr>\n      <th>2</th>\n      <td>75</td>\n      <td>POINT (9.06584 56.83518)</td>\n    </tr>\n    <tr>\n      <th>3</th>\n      <td>75</td>\n      <td>POINT (9.06584 56.83517)</td>\n    </tr>\n    <tr>\n      <th>4</th>\n      <td>75</td>\n      <td>POINT (9.06584 56.83516)</td>\n    </tr>\n    <tr>\n      <th>...</th>\n      <td>...</td>\n      <td>...</td>\n    </tr>\n    <tr>\n      <th>425</th>\n      <td>25</td>\n      <td>POINT (9.06657 56.83485)</td>\n    </tr>\n    <tr>\n      <th>426</th>\n      <td>25</td>\n      <td>POINT (9.06657 56.83484)</td>\n    </tr>\n    <tr>\n      <th>427</th>\n      <td>25</td>\n      <td>POINT (9.06657 56.83483)</td>\n    </tr>\n    <tr>\n      <th>428</th>\n      <td>25</td>\n      <td>POINT (9.06657 56.83482)</td>\n    </tr>\n    <tr>\n      <th>429</th>\n      <td>25</td>\n      <td>POINT (9.06657 56.83481)</td>\n    </tr>\n  </tbody>\n</table>\n<p>430 rows × 2 columns</p>\n</div>"
     },
     "execution_count": 10,
     "metadata": {},
     "output_type": "execute_result"
    }
   ],
   "source": [
    "geo_df"
   ]
  },
  {
   "cell_type": "code",
   "execution_count": 12,
   "metadata": {
    "collapsed": false
   },
   "outputs": [],
   "source": [
    "tif_name = \"test_grid02_full_spread\"\n",
    "geo_df.to_file(filename=SHP_PATH+tif_name+'.shp.zip', driver='ESRI Shapefile', crs='EPSG:4326')"
   ]
  },
  {
   "cell_type": "code",
   "execution_count": 13,
   "metadata": {
    "collapsed": false
   },
   "outputs": [
    {
     "name": "stdout",
     "output_type": "stream",
     "text": [
      "Options:  ['-of', 'Gtiff', '-ot', 'Byte', '-outsize', '64', '64', '-a', 'nearest:power=1:radius1=6e-05:radius2=1e-05:', '-zfield', 'simp_value']\n",
      "Running interpolation on: shapefiles/test_grid02_full_spread.shp.zip\n",
      "Saving to: tif_files/test_grid02_full_spread-nearest-6e-05-1e-05.tif\n"
     ]
    }
   ],
   "source": [
    "tif_name_full = gdal_run_interpolation(\n",
    "    input_shp_name=tif_name,\n",
    "    target_column=\"simp_value\",\n",
    "    output_tif_name=tif_name,\n",
    "    algorithm=\"nearest\",\n",
    "    radius1=0.00006,\n",
    "    radius2=0.00001,\n",
    "    width=64,\n",
    "    height=64,\n",
    ")"
   ]
  },
  {
   "cell_type": "code",
   "execution_count": 51,
   "metadata": {
    "collapsed": false
   },
   "outputs": [
    {
     "name": "stdout",
     "output_type": "stream",
     "text": [
      "Driver: GTiff/GeoTIFF\n",
      "Files: tif_files/test_grid02_full_spread-nearest-1-None-6e-05-1e-05-None-0-0.tif\n",
      "Size is 64, 64\n",
      "Coordinate System is:\n",
      "GEOGCRS[\"WGS 84\",\n",
      "    DATUM[\"World Geodetic System 1984\",\n",
      "        ELLIPSOID[\"WGS 84\",6378137,298.257223563,\n",
      "            LENGTHUNIT[\"metre\",1]]],\n",
      "    PRIMEM[\"Greenwich\",0,\n",
      "        ANGLEUNIT[\"degree\",0.0174532925199433]],\n",
      "    CS[ellipsoidal,2],\n",
      "        AXIS[\"geodetic latitude (Lat)\",north,\n",
      "            ORDER[1],\n",
      "            ANGLEUNIT[\"degree\",0.0174532925199433]],\n",
      "        AXIS[\"geodetic longitude (Lon)\",east,\n",
      "            ORDER[2],\n",
      "            ANGLEUNIT[\"degree\",0.0174532925199433]],\n",
      "    ID[\"EPSG\",4326]]\n",
      "Data axis to CRS axis mapping: 2,1\n",
      "Origin = (9.065843041000001,56.834808879999997)\n",
      "Pixel Size = (0.000011319437500,0.000006025937500)\n",
      "Metadata:\n",
      "  AREA_OR_POINT=Area\n",
      "Image Structure Metadata:\n",
      "  INTERLEAVE=BAND\n",
      "Corner Coordinates:\n",
      "Upper Left  (   9.0658430,  56.8348089) (  9d 3'57.03\"E, 56d50' 5.31\"N)\n",
      "Lower Left  (   9.0658430,  56.8351945) (  9d 3'57.03\"E, 56d50' 6.70\"N)\n",
      "Upper Right (   9.0665675,  56.8348089) (  9d 3'59.64\"E, 56d50' 5.31\"N)\n",
      "Lower Right (   9.0665675,  56.8351945) (  9d 3'59.64\"E, 56d50' 6.70\"N)\n",
      "Center      (   9.0662053,  56.8350017) (  9d 3'58.34\"E, 56d50' 6.01\"N)\n",
      "Band 1 Block=64x64 Type=Byte, ColorInterp=Gray\n",
      "\n"
     ]
    }
   ],
   "source": [
    "gdal_print_metadata(tif_name=tif_name_full)"
   ]
  },
  {
   "cell_type": "code",
   "execution_count": 52,
   "metadata": {
    "collapsed": false
   },
   "outputs": [
    {
     "data": {
      "text/plain": "<Figure size 640x480 with 2 Axes>",
      "image/png": "[encoded data removed]"
     },
     "metadata": {},
     "output_type": "display_data"
    }
   ],
   "source": [
    "plot_raster(tif_name=tif_name_full)"
   ]
  },
  {
   "cell_type": "code",
   "execution_count": 104,
   "metadata": {
    "collapsed": false
   },
   "outputs": [
    {
     "name": "stdout",
     "output_type": "stream",
     "text": [
      "test_grid02_full_spread-nearest-1-None-6e-05-1e-05-None-0-0\n"
     ]
    }
   ],
   "source": [
    "print(tif_name_full)"
   ]
  },
  {
   "cell_type": "code",
   "execution_count": 54,
   "metadata": {
    "collapsed": false
   },
   "outputs": [
    {
     "name": "stdout",
     "output_type": "stream",
     "text": [
      "Creating output shapefiles/test_grid02_full_spread-nearest-1-None-6e-05-1e-05-None-0-0.shp.zip of format ESRI Shapefile.\n"
     ]
    }
   ],
   "source": [
    "make_polygons(\n",
    "    input_tif=tif_name_full,\n",
    "    mask='none',\n",
    "    options=[\"-mask\",tif_name_full]"
   ]
  },
  {
   "cell_type": "markdown",
   "source": [
    "Open shapefile of polygons"
   ],
   "metadata": {
    "collapsed": false
   }
  },
  {
   "cell_type": "code",
   "execution_count": 66,
   "metadata": {
    "collapsed": false
   },
   "outputs": [],
   "source": [
    "polygon_df = gp.read_file(SHP_PATH+tif_name_full+'.shp.zip')"
   ]
  },
  {
   "cell_type": "code",
   "execution_count": 78,
   "outputs": [],
   "source": [
    "bins = [25.0,75.0]\n",
    "polygon_dict = {}\n",
    "for bin in bins:\n",
    "    polygon_dict[bin] = polygon_df[polygon_df['DN'] == bin][\"geometry\"].to_dict()"
   ],
   "metadata": {
    "collapsed": false
   }
  },
  {
   "cell_type": "code",
   "execution_count": 102,
   "outputs": [],
   "source": [
    "a_polygon = polygon_dict[25.0][9]"
   ],
   "metadata": {
    "collapsed": false
   }
  },
  {
   "cell_type": "code",
   "execution_count": 103,
   "outputs": [
    {
     "ename": "AttributeError",
     "evalue": "'Polygon' object has no attribute 'plot'",
     "output_type": "error",
     "traceback": [
      "\u001B[1;31m---------------------------------------------------------------------------\u001B[0m",
      "\u001B[1;31mAttributeError\u001B[0m                            Traceback (most recent call last)",
      "Cell \u001B[1;32mIn[103], line 1\u001B[0m\n\u001B[1;32m----> 1\u001B[0m \u001B[43ma_polygon\u001B[49m\u001B[38;5;241;43m.\u001B[39;49m\u001B[43mplot\u001B[49m()\n",
      "\u001B[1;31mAttributeError\u001B[0m: 'Polygon' object has no attribute 'plot'"
     ]
    }
   ],
   "source": [
    "a_polygon.plot()"
   ],
   "metadata": {
    "collapsed": false
   }
  },
  {
   "cell_type": "code",
   "execution_count": 88,
   "outputs": [
    {
     "data": {
      "text/plain": "1.2051875003749046e-05"
     },
     "execution_count": 88,
     "metadata": {},
     "output_type": "execute_result"
    }
   ],
   "source": [
    "a_polygon.minimum_clearance"
   ],
   "metadata": {
    "collapsed": false
   }
  },
  {
   "cell_type": "code",
   "execution_count": 98,
   "outputs": [
    {
     "name": "stdout",
     "output_type": "stream",
     "text": [
      "[(9.0659675548125, 56.83480888), (9.0659675548125, 56.8348149059375), (9.066046790875001, 56.8348149059375), (9.066046790875001, 56.83480888), (9.0659675548125, 56.83480888)]\n",
      "[(9.0659675548125, 56.834820931875), (9.0659675548125, 56.83483298375), (9.066046790875001, 56.83483298375), (9.066046790875001, 56.834820931875), (9.0659675548125, 56.834820931875)]\n",
      "[(9.0659675548125, 56.8348390096875), (9.0659675548125, 56.834851061562496), (9.066046790875001, 56.834851061562496), (9.066046790875001, 56.8348390096875), (9.0659675548125, 56.8348390096875)]\n",
      "[(9.0661260269375, 56.83480888), (9.0661260269375, 56.8348149059375), (9.066046790875001, 56.8348149059375), (9.066046790875001, 56.834820931875), (9.0661260269375, 56.834820931875), (9.0661260269375, 56.83483298375), (9.066046790875001, 56.83483298375), (9.066046790875001, 56.8348390096875), (9.0661260269375, 56.8348390096875), (9.0661260269375, 56.834851061562496), (9.066046790875001, 56.834851061562496), (9.066046790875001, 56.8348570875), (9.0661260269375, 56.8348570875), (9.0661260269375, 56.834869139375), (9.06652220725, 56.834869139375), (9.06652220725, 56.834875165312496), (9.066567485, 56.834875165312496), (9.066567485, 56.83480888), (9.06652220725, 56.83480888), (9.06652220725, 56.83483298375), (9.066205263, 56.83483298375), (9.066205263, 56.83480888), (9.0661260269375, 56.83480888)]\n",
      "[(9.0659675548125, 56.8348570875), (9.0659675548125, 56.834869139375), (9.066046790875001, 56.834869139375), (9.066046790875001, 56.8348570875), (9.0659675548125, 56.8348570875)]\n",
      "[(9.066046790875001, 56.834869139375), (9.066046790875001, 56.834875165312496), (9.0661260269375, 56.834875165312496), (9.0661260269375, 56.834869139375), (9.066046790875001, 56.834869139375)]\n",
      "[(9.0664429711875, 56.834875165312496), (9.0664429711875, 56.8348872171875), (9.06652220725, 56.8348872171875), (9.06652220725, 56.834875165312496), (9.0664429711875, 56.834875165312496)]\n",
      "[(9.065843041, 56.834869139375), (9.065843041, 56.834917346875), (9.0659675548125, 56.834917346875), (9.0659675548125, 56.834869139375), (9.065843041, 56.834869139375)]\n",
      "[(9.066363735125, 56.8348872171875), (9.066363735125, 56.834893243124995), (9.0664429711875, 56.834893243124995), (9.0664429711875, 56.8348872171875), (9.066363735125, 56.8348872171875)]\n",
      "[(9.066284499062501, 56.834893243124995), (9.066284499062501, 56.834905295), (9.066363735125, 56.834905295), (9.066363735125, 56.834893243124995), (9.066284499062501, 56.834893243124995)]\n",
      "[(9.066205263, 56.834905295), (9.066205263, 56.834917346875), (9.066284499062501, 56.834917346875), (9.066284499062501, 56.834905295), (9.066205263, 56.834905295)]\n",
      "[(9.0661260269375, 56.834917346875), (9.0661260269375, 56.8349233728125), (9.066205263, 56.8349233728125), (9.066205263, 56.834917346875), (9.0661260269375, 56.834917346875)]\n",
      "[(9.06652220725, 56.8349233728125), (9.06652220725, 56.8349354246875), (9.066567485, 56.8349354246875), (9.066567485, 56.8349233728125), (9.06652220725, 56.8349233728125)]\n",
      "[(9.0664429711875, 56.8349354246875), (9.0664429711875, 56.834941450624996), (9.06652220725, 56.834941450624996), (9.06652220725, 56.8349354246875), (9.0664429711875, 56.8349354246875)]\n",
      "[(9.066363735125, 56.834941450624996), (9.066363735125, 56.8349535025), (9.0664429711875, 56.8349535025), (9.0664429711875, 56.834941450624996), (9.066363735125, 56.834941450624996)]\n",
      "[(9.066284499062501, 56.8349535025), (9.066284499062501, 56.8349595284375), (9.066363735125, 56.8349595284375), (9.066363735125, 56.8349535025), (9.066284499062501, 56.8349535025)]\n",
      "[(9.066205263, 56.8349595284375), (9.066205263, 56.8349715803125), (9.066284499062501, 56.8349715803125), (9.066284499062501, 56.8349595284375), (9.066205263, 56.8349595284375)]\n",
      "[(9.065843041, 56.8349595284375), (9.065843041, 56.8350077359375), (9.0659675548125, 56.8350077359375), (9.0659675548125, 56.8349595284375), (9.065843041, 56.8349595284375)]\n",
      "[(9.0661260269375, 56.8349715803125), (9.0661260269375, 56.8350800471875), (9.066205263, 56.8350800471875), (9.066205263, 56.8350679953125), (9.066284499062501, 56.8350679953125), (9.066284499062501, 56.835061969375005), (9.066363735125, 56.835061969375005), (9.066363735125, 56.8350499175), (9.0664429711875, 56.8350499175), (9.0664429711875, 56.8350438915625), (9.06652220725, 56.8350438915625), (9.06652220725, 56.8350318396875), (9.066567485, 56.8350318396875), (9.066567485, 56.83497760625), (9.066205263, 56.83497760625), (9.066205263, 56.8349715803125), (9.0661260269375, 56.8349715803125)]\n",
      "[(9.06652220725, 56.8350438915625), (9.06652220725, 56.8350499175), (9.0664429711875, 56.8350499175), (9.0664429711875, 56.835061969375005), (9.066363735125, 56.835061969375005), (9.066363735125, 56.8350679953125), (9.066284499062501, 56.8350679953125), (9.066284499062501, 56.8350800471875), (9.066205263, 56.8350800471875), (9.066205263, 56.835086073125), (9.0661260269375, 56.835086073125), (9.0661260269375, 56.8351885140625), (9.066205263, 56.8351885140625), (9.066205263, 56.835182488125), (9.066284499062501, 56.835182488125), (9.066284499062501, 56.83517043625), (9.066363735125, 56.83517043625), (9.066363735125, 56.8351644103125), (9.0664429711875, 56.8351644103125), (9.0664429711875, 56.835152358437504), (9.06652220725, 56.835152358437504), (9.06652220725, 56.8351463325), (9.066567485, 56.8351463325), (9.066567485, 56.8350438915625), (9.06652220725, 56.8350438915625)]\n",
      "[(9.06652220725, 56.835152358437504), (9.06652220725, 56.8351644103125), (9.0664429711875, 56.8351644103125), (9.0664429711875, 56.83517043625), (9.066363735125, 56.83517043625), (9.066363735125, 56.835182488125), (9.066284499062501, 56.835182488125), (9.066284499062501, 56.8351885140625), (9.066205263, 56.8351885140625), (9.066205263, 56.83519454), (9.066567485, 56.83519454), (9.066567485, 56.835152358437504), (9.06652220725, 56.835152358437504)]\n"
     ]
    }
   ],
   "source": [
    "for _, polygon in polygon_dict[25.0].items():\n",
    "    print(list(polygon.exterior.coords))"
   ],
   "metadata": {
    "collapsed": false
   }
  },
  {
   "cell_type": "code",
   "execution_count": 2,
   "metadata": {
    "collapsed": false
   },
   "outputs": [
    {
     "ename": "NameError",
     "evalue": "name 'tif_name_full' is not defined",
     "output_type": "error",
     "traceback": [
      "\u001B[1;31m---------------------------------------------------------------------------\u001B[0m",
      "\u001B[1;31mNameError\u001B[0m                                 Traceback (most recent call last)",
      "Cell \u001B[1;32mIn[2], line 1\u001B[0m\n\u001B[1;32m----> 1\u001B[0m file \u001B[38;5;241m=\u001B[39m gp\u001B[38;5;241m.\u001B[39mread_file(SHP_PATH\u001B[38;5;241m+\u001B[39m\u001B[43mtif_name_full\u001B[49m\u001B[38;5;241m+\u001B[39m\u001B[38;5;124m'\u001B[39m\u001B[38;5;124m.shp.zip\u001B[39m\u001B[38;5;124m'\u001B[39m)\n",
      "\u001B[1;31mNameError\u001B[0m: name 'tif_name_full' is not defined"
     ]
    }
   ],
   "source": [
    "file = gp.read_file(SHP_PATH+tif_name_full+'.shp.zip')"
   ]
  },
  {
   "cell_type": "code",
   "execution_count": 9,
   "metadata": {
    "collapsed": false
   },
   "outputs": [],
   "source": [
    "from osgeo_utils.samples import ogr2ogr\n",
    "def main():\n",
    "  ogr2ogr.main([\"\",\"-f\", \"KML\", \"out75.kml\", SHP_PATH+\"new75.shp.zip\",\"-simplify\", \"0.0001\"])\n",
    "main()"
   ]
  },
  {
   "cell_type": "code",
   "execution_count": 5,
   "outputs": [],
   "source": [],
   "metadata": {
    "collapsed": false
   }
  },
  {
   "cell_type": "code",
   "execution_count": 122,
   "outputs": [
    {
     "ename": "DriverError",
     "evalue": "unsupported driver: 'KML'",
     "output_type": "error",
     "traceback": [
      "\u001B[1;31m---------------------------------------------------------------------------\u001B[0m",
      "\u001B[1;31mDriverError\u001B[0m                               Traceback (most recent call last)",
      "Cell \u001B[1;32mIn[122], line 1\u001B[0m\n\u001B[1;32m----> 1\u001B[0m kml \u001B[38;5;241m=\u001B[39m \u001B[43mgp\u001B[49m\u001B[38;5;241;43m.\u001B[39;49m\u001B[43mread_file\u001B[49m\u001B[43m(\u001B[49m\u001B[38;5;124;43m\"\u001B[39;49m\u001B[38;5;124;43mout75.kml\u001B[39;49m\u001B[38;5;124;43m\"\u001B[39;49m\u001B[43m)\u001B[49m\n",
      "File \u001B[1;32mD:\\cs_proj\\venv\\lib\\site-packages\\geopandas\\io\\file.py:259\u001B[0m, in \u001B[0;36m_read_file\u001B[1;34m(filename, bbox, mask, rows, engine, **kwargs)\u001B[0m\n\u001B[0;32m    256\u001B[0m     path_or_bytes \u001B[38;5;241m=\u001B[39m filename\n\u001B[0;32m    258\u001B[0m \u001B[38;5;28;01mif\u001B[39;00m engine \u001B[38;5;241m==\u001B[39m \u001B[38;5;124m\"\u001B[39m\u001B[38;5;124mfiona\u001B[39m\u001B[38;5;124m\"\u001B[39m:\n\u001B[1;32m--> 259\u001B[0m     \u001B[38;5;28;01mreturn\u001B[39;00m _read_file_fiona(\n\u001B[0;32m    260\u001B[0m         path_or_bytes, from_bytes, bbox\u001B[38;5;241m=\u001B[39mbbox, mask\u001B[38;5;241m=\u001B[39mmask, rows\u001B[38;5;241m=\u001B[39mrows, \u001B[38;5;241m*\u001B[39m\u001B[38;5;241m*\u001B[39mkwargs\n\u001B[0;32m    261\u001B[0m     )\n\u001B[0;32m    262\u001B[0m \u001B[38;5;28;01melif\u001B[39;00m engine \u001B[38;5;241m==\u001B[39m \u001B[38;5;124m\"\u001B[39m\u001B[38;5;124mpyogrio\u001B[39m\u001B[38;5;124m\"\u001B[39m:\n\u001B[0;32m    263\u001B[0m     \u001B[38;5;28;01mreturn\u001B[39;00m _read_file_pyogrio(\n\u001B[0;32m    264\u001B[0m         path_or_bytes, bbox\u001B[38;5;241m=\u001B[39mbbox, mask\u001B[38;5;241m=\u001B[39mmask, rows\u001B[38;5;241m=\u001B[39mrows, \u001B[38;5;241m*\u001B[39m\u001B[38;5;241m*\u001B[39mkwargs\n\u001B[0;32m    265\u001B[0m     )\n",
      "File \u001B[1;32mD:\\cs_proj\\venv\\lib\\site-packages\\geopandas\\io\\file.py:303\u001B[0m, in \u001B[0;36m_read_file_fiona\u001B[1;34m(path_or_bytes, from_bytes, bbox, mask, rows, where, **kwargs)\u001B[0m\n\u001B[0;32m    300\u001B[0m     reader \u001B[38;5;241m=\u001B[39m fiona\u001B[38;5;241m.\u001B[39mopen\n\u001B[0;32m    302\u001B[0m \u001B[38;5;28;01mwith\u001B[39;00m fiona_env():\n\u001B[1;32m--> 303\u001B[0m     \u001B[38;5;28;01mwith\u001B[39;00m reader(path_or_bytes, \u001B[38;5;241m*\u001B[39m\u001B[38;5;241m*\u001B[39mkwargs) \u001B[38;5;28;01mas\u001B[39;00m features:\n\u001B[0;32m    304\u001B[0m         crs \u001B[38;5;241m=\u001B[39m features\u001B[38;5;241m.\u001B[39mcrs_wkt\n\u001B[0;32m    305\u001B[0m         \u001B[38;5;66;03m# attempt to get EPSG code\u001B[39;00m\n",
      "File \u001B[1;32mD:\\cs_proj\\venv\\lib\\site-packages\\fiona\\env.py:457\u001B[0m, in \u001B[0;36mensure_env_with_credentials.<locals>.wrapper\u001B[1;34m(*args, **kwds)\u001B[0m\n\u001B[0;32m    454\u001B[0m     session \u001B[38;5;241m=\u001B[39m DummySession()\n\u001B[0;32m    456\u001B[0m \u001B[38;5;28;01mwith\u001B[39;00m env_ctor(session\u001B[38;5;241m=\u001B[39msession):\n\u001B[1;32m--> 457\u001B[0m     \u001B[38;5;28;01mreturn\u001B[39;00m f(\u001B[38;5;241m*\u001B[39margs, \u001B[38;5;241m*\u001B[39m\u001B[38;5;241m*\u001B[39mkwds)\n",
      "File \u001B[1;32mD:\\cs_proj\\venv\\lib\\site-packages\\fiona\\__init__.py:352\u001B[0m, in \u001B[0;36mopen\u001B[1;34m(fp, mode, driver, schema, crs, encoding, layer, vfs, enabled_drivers, crs_wkt, allow_unsupported_drivers, **kwargs)\u001B[0m\n\u001B[0;32m    349\u001B[0m     path \u001B[38;5;241m=\u001B[39m parse_path(fp)\n\u001B[0;32m    351\u001B[0m \u001B[38;5;28;01mif\u001B[39;00m mode \u001B[38;5;129;01min\u001B[39;00m (\u001B[38;5;124m\"\u001B[39m\u001B[38;5;124ma\u001B[39m\u001B[38;5;124m\"\u001B[39m, \u001B[38;5;124m\"\u001B[39m\u001B[38;5;124mr\u001B[39m\u001B[38;5;124m\"\u001B[39m):\n\u001B[1;32m--> 352\u001B[0m     colxn \u001B[38;5;241m=\u001B[39m Collection(\n\u001B[0;32m    353\u001B[0m         path,\n\u001B[0;32m    354\u001B[0m         mode,\n\u001B[0;32m    355\u001B[0m         driver\u001B[38;5;241m=\u001B[39mdriver,\n\u001B[0;32m    356\u001B[0m         encoding\u001B[38;5;241m=\u001B[39mencoding,\n\u001B[0;32m    357\u001B[0m         layer\u001B[38;5;241m=\u001B[39mlayer,\n\u001B[0;32m    358\u001B[0m         enabled_drivers\u001B[38;5;241m=\u001B[39menabled_drivers,\n\u001B[0;32m    359\u001B[0m         allow_unsupported_drivers\u001B[38;5;241m=\u001B[39mallow_unsupported_drivers,\n\u001B[0;32m    360\u001B[0m         \u001B[38;5;241m*\u001B[39m\u001B[38;5;241m*\u001B[39mkwargs\n\u001B[0;32m    361\u001B[0m     )\n\u001B[0;32m    362\u001B[0m \u001B[38;5;28;01melif\u001B[39;00m mode \u001B[38;5;241m==\u001B[39m \u001B[38;5;124m\"\u001B[39m\u001B[38;5;124mw\u001B[39m\u001B[38;5;124m\"\u001B[39m:\n\u001B[0;32m    363\u001B[0m     colxn \u001B[38;5;241m=\u001B[39m Collection(\n\u001B[0;32m    364\u001B[0m         path,\n\u001B[0;32m    365\u001B[0m         mode,\n\u001B[1;32m   (...)\u001B[0m\n\u001B[0;32m    374\u001B[0m         \u001B[38;5;241m*\u001B[39m\u001B[38;5;241m*\u001B[39mkwargs\n\u001B[0;32m    375\u001B[0m     )\n",
      "File \u001B[1;32mD:\\cs_proj\\venv\\lib\\site-packages\\fiona\\collection.py:243\u001B[0m, in \u001B[0;36mCollection.__init__\u001B[1;34m(self, path, mode, driver, schema, crs, encoding, layer, vsi, archive, enabled_drivers, crs_wkt, ignore_fields, ignore_geometry, include_fields, wkt_version, allow_unsupported_drivers, **kwargs)\u001B[0m\n\u001B[0;32m    240\u001B[0m     \u001B[38;5;28;01mraise\u001B[39;00m\n\u001B[0;32m    242\u001B[0m \u001B[38;5;28;01mif\u001B[39;00m \u001B[38;5;28mself\u001B[39m\u001B[38;5;241m.\u001B[39msession \u001B[38;5;129;01mis\u001B[39;00m \u001B[38;5;129;01mnot\u001B[39;00m \u001B[38;5;28;01mNone\u001B[39;00m:\n\u001B[1;32m--> 243\u001B[0m     \u001B[38;5;28;43mself\u001B[39;49m\u001B[38;5;241;43m.\u001B[39;49m\u001B[43mguard_driver_mode\u001B[49m\u001B[43m(\u001B[49m\u001B[43m)\u001B[49m\n\u001B[0;32m    245\u001B[0m \u001B[38;5;28;01mif\u001B[39;00m \u001B[38;5;28mself\u001B[39m\u001B[38;5;241m.\u001B[39mmode \u001B[38;5;129;01min\u001B[39;00m (\u001B[38;5;124m\"\u001B[39m\u001B[38;5;124ma\u001B[39m\u001B[38;5;124m\"\u001B[39m, \u001B[38;5;124m\"\u001B[39m\u001B[38;5;124mw\u001B[39m\u001B[38;5;124m\"\u001B[39m):\n\u001B[0;32m    246\u001B[0m     \u001B[38;5;28mself\u001B[39m\u001B[38;5;241m.\u001B[39m_valid_geom_types \u001B[38;5;241m=\u001B[39m _get_valid_geom_types(\u001B[38;5;28mself\u001B[39m\u001B[38;5;241m.\u001B[39mschema, \u001B[38;5;28mself\u001B[39m\u001B[38;5;241m.\u001B[39mdriver)\n",
      "File \u001B[1;32mD:\\cs_proj\\venv\\lib\\site-packages\\fiona\\collection.py:264\u001B[0m, in \u001B[0;36mCollection.guard_driver_mode\u001B[1;34m(self)\u001B[0m\n\u001B[0;32m    262\u001B[0m driver \u001B[38;5;241m=\u001B[39m \u001B[38;5;28mself\u001B[39m\u001B[38;5;241m.\u001B[39msession\u001B[38;5;241m.\u001B[39mget_driver()\n\u001B[0;32m    263\u001B[0m \u001B[38;5;28;01mif\u001B[39;00m driver \u001B[38;5;129;01mnot\u001B[39;00m \u001B[38;5;129;01min\u001B[39;00m supported_drivers:\n\u001B[1;32m--> 264\u001B[0m     \u001B[38;5;28;01mraise\u001B[39;00m DriverError(\u001B[38;5;124m\"\u001B[39m\u001B[38;5;124munsupported driver: \u001B[39m\u001B[38;5;132;01m%r\u001B[39;00m\u001B[38;5;124m\"\u001B[39m \u001B[38;5;241m%\u001B[39m driver)\n\u001B[0;32m    265\u001B[0m \u001B[38;5;28;01mif\u001B[39;00m \u001B[38;5;28mself\u001B[39m\u001B[38;5;241m.\u001B[39mmode \u001B[38;5;129;01mnot\u001B[39;00m \u001B[38;5;129;01min\u001B[39;00m supported_drivers[driver]:\n\u001B[0;32m    266\u001B[0m     \u001B[38;5;28;01mraise\u001B[39;00m DriverError(\u001B[38;5;124m\"\u001B[39m\u001B[38;5;124munsupported mode: \u001B[39m\u001B[38;5;132;01m%r\u001B[39;00m\u001B[38;5;124m\"\u001B[39m \u001B[38;5;241m%\u001B[39m \u001B[38;5;28mself\u001B[39m\u001B[38;5;241m.\u001B[39mmode)\n",
      "\u001B[1;31mDriverError\u001B[0m: unsupported driver: 'KML'"
     ]
    }
   ],
   "source": [
    "kml = gp.read_file(\"out75.kml\")"
   ],
   "metadata": {
    "collapsed": false
   }
  }
 ],
 "metadata": {
  "kernelspec": {
   "display_name": "venv",
   "language": "python",
   "name": "python3"
  },
  "language_info": {
   "codemirror_mode": {
    "name": "ipython",
    "version": 3
   },
   "file_extension": ".py",
   "mimetype": "text/x-python",
   "name": "python",
   "nbconvert_exporter": "python",
   "pygments_lexer": "ipython3",
   "version": "3.10.10"
  },
  "orig_nbformat": 4
 },
 "nbformat": 4,
 "nbformat_minor": 2
}
