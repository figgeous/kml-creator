{
 "cells": [
  {
   "cell_type": "code",
   "execution_count": 1,
   "outputs": [],
   "source": [
    "import np as np\n",
    "from constants import *\n",
    "from scripts.scripts import *\n",
    "from scripts.gdal_scripts import *\n",
    "import geopandas as gp\n",
    "import geopandas as gp\n",
    "import simplekml"
   ],
   "metadata": {
    "collapsed": false
   }
  },
  {
   "cell_type": "code",
   "execution_count": 10,
   "outputs": [],
   "source": [
    "shp_file_name = \"test_grid02_full_spread-nearest-1-None-6e-05-1e-05-None-0-0\"\n",
    "polygon_df = gp.read_file(SHP_PATH+shp_file_name+'.shp.zip')"
   ],
   "metadata": {
    "collapsed": false
   }
  },
  {
   "cell_type": "code",
   "execution_count": 7,
   "outputs": [],
   "source": [
    "bins = [25.0,75.0]\n",
    "polygon_dict = {}\n",
    "for bin in bins:\n",
    "    polygon_dict[bin] = polygon_df[polygon_df['DN'] == bin][\"geometry\"].to_dict()"
   ],
   "metadata": {
    "collapsed": false
   }
  },
  {
   "cell_type": "code",
   "execution_count": 31,
   "outputs": [],
   "source": [
    "def make_kml(file_name:str, polygon_dict:dict, colour: str=simplekml.Color.tomato) -> None:\n",
    "    assert \".kml\" not in file_name\n",
    "    kml = simplekml.Kml()\n",
    "    multipolodd = kml.newmultigeometry(name=\"MultiPoly\")\n",
    "    for _, polygon in polygon_dict.items():\n",
    "        pol = multipolodd.newpolygon(\n",
    "            name=\"polygon\",\n",
    "            outerboundaryis=list(polygon.exterior.coords)\n",
    "        )\n",
    "        pol.style.polystyle.color = colour\n",
    "        pol.style.polystyle.outline = 0\n",
    "    kml.save(file_name+\".kml\")"
   ],
   "metadata": {
    "collapsed": false
   }
  },
  {
   "cell_type": "code",
   "execution_count": 34,
   "outputs": [],
   "source": [
    "make_kml(\n",
    "    file_name=\"kml_file_25\",\n",
    "    polygon_dict=polygon_dict[25.0],\n",
    "    colour='990000ff',\n",
    ")"
   ],
   "metadata": {
    "collapsed": false
   }
  }
 ],
 "metadata": {
  "kernelspec": {
   "display_name": "venv",
   "language": "python",
   "name": "python3"
  },
  "language_info": {
   "codemirror_mode": {
    "name": "ipython",
    "version": 3
   },
   "file_extension": ".py",
   "mimetype": "text/x-python",
   "name": "python",
   "nbconvert_exporter": "python",
   "pygments_lexer": "ipython3",
   "version": "3.10.10"
  },
  "orig_nbformat": 4
 },
 "nbformat": 4,
 "nbformat_minor": 2
}
