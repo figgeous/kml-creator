{
 "cells": [
  {
   "cell_type": "code",
   "execution_count": 3,
   "metadata": {},
   "outputs": [
    {
     "name": "stdout",
     "output_type": "stream",
     "text": [
      "<?xml version=\"1.0\" encoding=\"UTF-8\"?>\n",
      "<kml xmlns=\"http://www.opengis.net/kml/2.2\" xmlns:gx=\"http://www.google.com/kml/ext/2.2\">\n",
      "    <Document id=\"8\">\n",
      "        <Placemark id=\"10\">\n",
      "            <name>A Point</name>\n",
      "            <Point id=\"9\">\n",
      "                <coordinates>0.0, 0.0, 0.0</coordinates>\n",
      "            </Point>\n",
      "        </Placemark>\n",
      "    </Document>\n",
      "</kml>\n",
      "\n"
     ]
    }
   ],
   "source": [
    "import simplekml\n",
    "kml = simplekml.Kml()\n",
    "pnt = kml.newpoint(name=\"A Point\")\n",
    "print(kml.kml())"
   ]
  },
  {
   "cell_type": "code",
   "execution_count": 5,
   "metadata": {},
   "outputs": [
    {
     "name": "stdout",
     "output_type": "stream",
     "text": [
      "<?xml version=\"1.0\" encoding=\"UTF-8\"?>\n",
      "<kml xmlns=\"http://www.opengis.net/kml/2.2\" xmlns:gx=\"http://www.google.com/kml/ext/2.2\">\n",
      "    <Document id=\"21\">\n",
      "        <Placemark id=\"23\">\n",
      "            <Point id=\"22\">\n",
      "                <coordinates>18.432314,-33.988862,0.0</coordinates>\n",
      "            </Point>\n",
      "        </Placemark>\n",
      "    </Document>\n",
      "</kml>\n",
      "\n"
     ]
    }
   ],
   "source": [
    "import simplekml\n",
    "kml = simplekml.Kml()\n",
    "pnt = kml.newpoint(coords=[(18.432314,-33.988862)])\n",
    "# pnt.stylemap.normalstyle.labelstyle.color = simplekml.Color.blue\n",
    "# pnt.stylemap.highlightstyle.labelstyle.color = simplekml.Color.red\n",
    "print(kml.kml())"
   ]
  },
  {
   "cell_type": "code",
   "execution_count": 15,
   "metadata": {},
   "outputs": [
    {
     "name": "stdout",
     "output_type": "stream",
     "text": [
      "<?xml version=\"1.0\" encoding=\"UTF-8\"?>\n",
      "<kml xmlns=\"http://www.opengis.net/kml/2.2\" xmlns:gx=\"http://www.google.com/kml/ext/2.2\">\n",
      "    <Document id=\"95\">\n",
      "        <Style id=\"108\">\n",
      "            <PolyStyle id=\"109\">\n",
      "                <color>ff0000ff</color>\n",
      "                <colorMode>normal</colorMode>\n",
      "                <fill>1</fill>\n",
      "                <outline>0</outline>\n",
      "            </PolyStyle>\n",
      "        </Style>\n",
      "        <Placemark id=\"97\">\n",
      "            <name>Atrium Garden</name>\n",
      "            <description>TENTENTENT</description>\n",
      "            <styleUrl>#108</styleUrl>\n",
      "            <Polygon id=\"96\">\n",
      "                <outerBoundaryIs>\n",
      "                    <LinearRing id=\"98\">\n",
      "                        <coordinates>18.43348,-33.98985,0.0 18.43387,-33.99004,0.0 18.4341,-33.98972,0.0 18.43371,-33.98952,0.0 18.43348,-33.98985,0.0</coordinates>\n",
      "                    </LinearRing>\n",
      "                </outerBoundaryIs>\n",
      "                <innerBoundaryIs>\n",
      "                    <LinearRing id=\"100\">\n",
      "                        <coordinates>18.4336,-33.98982,0.0 18.43386,-33.98995,0.0 18.43401,-33.98974,0.0 18.43376,-33.98962,0.0 18.4336,-33.98982,0.0</coordinates>\n",
      "                    </LinearRing>\n",
      "                    <LinearRing id=\"104\">\n",
      "                        <coordinates>18.4336,-33.98982,0.0 18.43386,-33.98995,0.0 18.43401,-33.98974,0.0 18.43376,-33.98962,0.0 18.4336,-33.98982,0.0</coordinates>\n",
      "                    </LinearRing>\n",
      "                </innerBoundaryIs>\n",
      "            </Polygon>\n",
      "        </Placemark>\n",
      "    </Document>\n",
      "</kml>\n",
      "\n"
     ]
    }
   ],
   "source": [
    "import simplekml\n",
    "kml = simplekml.Kml()\n",
    "pol = kml.newpolygon(name=\"Atrium Garden\",\n",
    "             outerboundaryis=[(18.43348,-33.98985),(18.43387,-33.99004),(18.43410,-33.98972),\n",
    "                              (18.43371,-33.98952),(18.43348,-33.98985)],\n",
    "             innerboundaryis=[[(18.43360,-33.98982),(18.43386,-33.98995),(18.43401,-33.98974),\n",
    "                              (18.43376,-33.98962),(18.43360,-33.98982)],[(18.43360,-33.98982),(18.43386,-33.98995),(18.43401,-33.98974),\n",
    "                              (18.43376,-33.98962),(18.43360,-33.98982)]])\n",
    "pol.description = \"TENTENTENT\"\n",
    "pol.style.polystyle.color = simplekml.Color.red\n",
    "pol.style.polystyle.outline = 0\n",
    "print(kml.kml())\n",
    "kml.save(\"MultiGeometry.kml\")"
   ]
  }
 ],
 "metadata": {
  "kernelspec": {
   "display_name": "venv",
   "language": "python",
   "name": "python3"
  },
  "language_info": {
   "codemirror_mode": {
    "name": "ipython",
    "version": 3
   },
   "file_extension": ".py",
   "mimetype": "text/x-python",
   "name": "python",
   "nbconvert_exporter": "python",
   "pygments_lexer": "ipython3",
   "version": "3.10.10"
  },
  "orig_nbformat": 4
 },
 "nbformat": 4,
 "nbformat_minor": 2
}
