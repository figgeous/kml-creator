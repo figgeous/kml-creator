{
 "cells": [
  {
   "cell_type": "code",
   "execution_count": 1,
   "metadata": {},
   "outputs": [],
   "source": [
    "from constants import *\n",
    "from scripts.scripts import *\n",
    "from scripts.gdal_scripts import *"
   ]
  },
  {
   "cell_type": "code",
   "execution_count": 4,
   "metadata": {},
   "outputs": [
    {
     "name": "stdout",
     "output_type": "stream",
     "text": [
      "{\"type\": \"Feature\", \"geometry\": {\"type\": \"Point\", \"coordinates\": [9.065843041, 56.83518536]}, \"properties\": {\"lat\": 56.83518536, \"lon\": \"9.065843041\", \"value\": 100}, \"id\": 1}\n",
      "\n",
      "Driver: GTiff/GeoTIFF\n",
      "Files: tif_files/test_grid02.tif\n",
      "Size is 256, 256\n",
      "Origin = (9.065843041000001,56.834808879999997)\n",
      "Pixel Size = (0.000002829859375,0.000001506484375)\n",
      "Image Structure Metadata:\n",
      "  INTERLEAVE=BAND\n",
      "Corner Coordinates:\n",
      "Upper Left  (   9.0658430,  56.8348089) \n",
      "Lower Left  (   9.0658430,  56.8351945) \n",
      "Upper Right (   9.0665675,  56.8348089) \n",
      "Lower Right (   9.0665675,  56.8351945) \n",
      "Center      (   9.0662053,  56.8350017) \n",
      "Band 1 Block=256x16 Type=Int16, ColorInterp=Gray\n",
      "\n"
     ]
    }
   ],
   "source": [
    "main_name = \"test_grid02\" # name of csv file.\n",
    "file = gdal_open_shp(shp_name=main_name)\n",
    "gdal_print_first_feature(file=file)\n",
    "print(\"\")\n",
    "gdal_print_metadata(tif_name=\"test_grid02\")    "
   ]
  },
  {
   "cell_type": "code",
   "execution_count": 35,
   "metadata": {},
   "outputs": [
    {
     "name": "stdout",
     "output_type": "stream",
     "text": [
      "Running interpolation on: shapefiles/test_grid02.shp.zip\n",
      "Saving to: tif_files/test_grid02.tif\n"
     ]
    }
   ],
   "source": [
    "gdal_run_invdist(\n",
    "    input_shp_name=main_name,\n",
    "    target_column=\"value\",\n",
    "    output_tif_name=main_name,\n",
    ")"
   ]
  }
 ],
 "metadata": {
  "kernelspec": {
   "display_name": "venv",
   "language": "python",
   "name": "python3"
  },
  "language_info": {
   "codemirror_mode": {
    "name": "ipython",
    "version": 3
   },
   "file_extension": ".py",
   "mimetype": "text/x-python",
   "name": "python",
   "nbconvert_exporter": "python",
   "pygments_lexer": "ipython3",
   "version": "3.10.10"
  },
  "orig_nbformat": 4
 },
 "nbformat": 4,
 "nbformat_minor": 2
}
