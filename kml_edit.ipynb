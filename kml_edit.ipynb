{
 "cells": [
  {
   "cell_type": "code",
   "execution_count": 1,
   "metadata": {},
   "outputs": [
    {
     "name": "stderr",
     "output_type": "stream",
     "text": [
      "c:\\Users\\thoma\\Documents\\RUC CS project\\venv\\lib\\site-packages\\fastkml\\config.py:28: UserWarning: Package `lxml` missing. Pretty print will be disabled\n",
      "  warnings.warn(\"Package `lxml` missing. Pretty print will be disabled\")\n"
     ]
    }
   ],
   "source": [
    "from fastkml import kml"
   ]
  },
  {
   "cell_type": "code",
   "execution_count": 215,
   "metadata": {},
   "outputs": [],
   "source": [
    "def to_kmlcolor(color=\"#000000\", alpha = \"ff\"):\n",
    "    return alpha + color[5] + color[4] + color[3] + color[2] + color[1] + color[2]"
   ]
  },
  {
   "cell_type": "code",
   "execution_count": 216,
   "metadata": {},
   "outputs": [
    {
     "data": {
      "text/plain": [
       "'ff304beb'"
      ]
     },
     "execution_count": 216,
     "metadata": {},
     "output_type": "execute_result"
    }
   ],
   "source": [
    "to_kmlcolor(color=\"#eb4034\")"
   ]
  },
  {
   "cell_type": "code",
   "execution_count": 217,
   "metadata": {},
   "outputs": [
    {
     "data": {
      "text/plain": [
       "'ff0e5cfc'"
      ]
     },
     "execution_count": 217,
     "metadata": {},
     "output_type": "execute_result"
    }
   ],
   "source": [
    "to_kmlcolor(color=\"#fc5e03\")"
   ]
  },
  {
   "cell_type": "code",
   "execution_count": 71,
   "metadata": {},
   "outputs": [],
   "source": [
    "kml_file = \"out25.kml\"\n",
    "with open(kml_file, 'r+', encoding=\"utf-8\") as f:\n",
    "    old = f.read()\n",
    "    old = old.replace(\"<fill>0</fill>\",\"<fill>ffde8d4f</fill>\")\n",
    "    f.write(old)"
   ]
  },
  {
   "cell_type": "code",
   "execution_count": 83,
   "metadata": {},
   "outputs": [],
   "source": [
    "from fastkml import kml\n",
    "from lxml import etree\n",
    " \n",
    "k = kml.KML()\n",
    "doc = etree.parse(kml_file)\n",
    "#ValueError: can only parse strings\n",
    "# k.from_string(doc)"
   ]
  },
  {
   "cell_type": "code",
   "execution_count": 86,
   "metadata": {},
   "outputs": [],
   "source": [
    "import xml.etree.ElementTree as ET\n",
    "tree = ET.parse(kml_file)\n",
    "root = tree.getroot()"
   ]
  },
  {
   "cell_type": "code",
   "execution_count": 207,
   "metadata": {},
   "outputs": [
    {
     "name": "stdout",
     "output_type": "stream",
     "text": [
      "44\n"
     ]
    },
    {
     "ename": "TypeError",
     "evalue": "cannot serialize 5 (type int)",
     "output_type": "error",
     "traceback": [
      "\u001b[1;31m---------------------------------------------------------------------------\u001b[0m",
      "\u001b[1;31mTypeError\u001b[0m                                 Traceback (most recent call last)",
      "File \u001b[1;32mC:\\Program Files\\WindowsApps\\PythonSoftwareFoundation.Python.3.10_3.10.2800.0_x64__qbz5n2kfra8p0\\lib\\xml\\etree\\ElementTree.py:1045\u001b[0m, in \u001b[0;36m_escape_attrib\u001b[1;34m(text)\u001b[0m\n\u001b[0;32m   1044\u001b[0m \u001b[39mtry\u001b[39;00m:\n\u001b[1;32m-> 1045\u001b[0m     \u001b[39mif\u001b[39;00m \u001b[39m\"\u001b[39;49m\u001b[39m&\u001b[39;49m\u001b[39m\"\u001b[39;49m \u001b[39min\u001b[39;49;00m text:\n\u001b[0;32m   1046\u001b[0m         text \u001b[39m=\u001b[39m text\u001b[39m.\u001b[39mreplace(\u001b[39m\"\u001b[39m\u001b[39m&\u001b[39m\u001b[39m\"\u001b[39m, \u001b[39m\"\u001b[39m\u001b[39m&amp;\u001b[39m\u001b[39m\"\u001b[39m)\n",
      "\u001b[1;31mTypeError\u001b[0m: argument of type 'int' is not iterable",
      "\nDuring handling of the above exception, another exception occurred:\n",
      "\u001b[1;31mTypeError\u001b[0m                                 Traceback (most recent call last)",
      "Cell \u001b[1;32mIn[207], line 12\u001b[0m\n\u001b[0;32m     10\u001b[0m \u001b[39mprint\u001b[39m(fill_e\u001b[39m.\u001b[39mtext)\n\u001b[0;32m     11\u001b[0m \u001b[39m# print(ET.tostring(fill_e, encoding='utf8').decode('utf8'))\u001b[39;00m\n\u001b[1;32m---> 12\u001b[0m \u001b[39mprint\u001b[39m(ET\u001b[39m.\u001b[39;49mtostring(root))\n",
      "File \u001b[1;32mC:\\Program Files\\WindowsApps\\PythonSoftwareFoundation.Python.3.10_3.10.2800.0_x64__qbz5n2kfra8p0\\lib\\xml\\etree\\ElementTree.py:1102\u001b[0m, in \u001b[0;36mtostring\u001b[1;34m(element, encoding, method, xml_declaration, default_namespace, short_empty_elements)\u001b[0m\n\u001b[0;32m   1088\u001b[0m \u001b[39m\u001b[39m\u001b[39m\"\"\"Generate string representation of XML element.\u001b[39;00m\n\u001b[0;32m   1089\u001b[0m \n\u001b[0;32m   1090\u001b[0m \u001b[39mAll subelements are included.  If encoding is \"unicode\", a string\u001b[39;00m\n\u001b[1;32m   (...)\u001b[0m\n\u001b[0;32m   1099\u001b[0m \n\u001b[0;32m   1100\u001b[0m \u001b[39m\"\"\"\u001b[39;00m\n\u001b[0;32m   1101\u001b[0m stream \u001b[39m=\u001b[39m io\u001b[39m.\u001b[39mStringIO() \u001b[39mif\u001b[39;00m encoding \u001b[39m==\u001b[39m \u001b[39m'\u001b[39m\u001b[39municode\u001b[39m\u001b[39m'\u001b[39m \u001b[39melse\u001b[39;00m io\u001b[39m.\u001b[39mBytesIO()\n\u001b[1;32m-> 1102\u001b[0m ElementTree(element)\u001b[39m.\u001b[39;49mwrite(stream, encoding,\n\u001b[0;32m   1103\u001b[0m                            xml_declaration\u001b[39m=\u001b[39;49mxml_declaration,\n\u001b[0;32m   1104\u001b[0m                            default_namespace\u001b[39m=\u001b[39;49mdefault_namespace,\n\u001b[0;32m   1105\u001b[0m                            method\u001b[39m=\u001b[39;49mmethod,\n\u001b[0;32m   1106\u001b[0m                            short_empty_elements\u001b[39m=\u001b[39;49mshort_empty_elements)\n\u001b[0;32m   1107\u001b[0m \u001b[39mreturn\u001b[39;00m stream\u001b[39m.\u001b[39mgetvalue()\n",
      "File \u001b[1;32mC:\\Program Files\\WindowsApps\\PythonSoftwareFoundation.Python.3.10_3.10.2800.0_x64__qbz5n2kfra8p0\\lib\\xml\\etree\\ElementTree.py:743\u001b[0m, in \u001b[0;36mElementTree.write\u001b[1;34m(self, file_or_filename, encoding, xml_declaration, default_namespace, method, short_empty_elements)\u001b[0m\n\u001b[0;32m    741\u001b[0m qnames, namespaces \u001b[39m=\u001b[39m _namespaces(\u001b[39mself\u001b[39m\u001b[39m.\u001b[39m_root, default_namespace)\n\u001b[0;32m    742\u001b[0m serialize \u001b[39m=\u001b[39m _serialize[method]\n\u001b[1;32m--> 743\u001b[0m serialize(write, \u001b[39mself\u001b[39;49m\u001b[39m.\u001b[39;49m_root, qnames, namespaces,\n\u001b[0;32m    744\u001b[0m           short_empty_elements\u001b[39m=\u001b[39;49mshort_empty_elements)\n",
      "File \u001b[1;32mC:\\Program Files\\WindowsApps\\PythonSoftwareFoundation.Python.3.10_3.10.2800.0_x64__qbz5n2kfra8p0\\lib\\xml\\etree\\ElementTree.py:906\u001b[0m, in \u001b[0;36m_serialize_xml\u001b[1;34m(write, elem, qnames, namespaces, short_empty_elements, **kwargs)\u001b[0m\n\u001b[0;32m    904\u001b[0m         write(_escape_cdata(text))\n\u001b[0;32m    905\u001b[0m     \u001b[39mfor\u001b[39;00m e \u001b[39min\u001b[39;00m elem:\n\u001b[1;32m--> 906\u001b[0m         _serialize_xml(write, e, qnames, \u001b[39mNone\u001b[39;49;00m,\n\u001b[0;32m    907\u001b[0m                        short_empty_elements\u001b[39m=\u001b[39;49mshort_empty_elements)\n\u001b[0;32m    908\u001b[0m     write(\u001b[39m\"\u001b[39m\u001b[39m</\u001b[39m\u001b[39m\"\u001b[39m \u001b[39m+\u001b[39m tag \u001b[39m+\u001b[39m \u001b[39m\"\u001b[39m\u001b[39m>\u001b[39m\u001b[39m\"\u001b[39m)\n\u001b[0;32m    909\u001b[0m \u001b[39melse\u001b[39;00m:\n",
      "File \u001b[1;32mC:\\Program Files\\WindowsApps\\PythonSoftwareFoundation.Python.3.10_3.10.2800.0_x64__qbz5n2kfra8p0\\lib\\xml\\etree\\ElementTree.py:906\u001b[0m, in \u001b[0;36m_serialize_xml\u001b[1;34m(write, elem, qnames, namespaces, short_empty_elements, **kwargs)\u001b[0m\n\u001b[0;32m    904\u001b[0m         write(_escape_cdata(text))\n\u001b[0;32m    905\u001b[0m     \u001b[39mfor\u001b[39;00m e \u001b[39min\u001b[39;00m elem:\n\u001b[1;32m--> 906\u001b[0m         _serialize_xml(write, e, qnames, \u001b[39mNone\u001b[39;49;00m,\n\u001b[0;32m    907\u001b[0m                        short_empty_elements\u001b[39m=\u001b[39;49mshort_empty_elements)\n\u001b[0;32m    908\u001b[0m     write(\u001b[39m\"\u001b[39m\u001b[39m</\u001b[39m\u001b[39m\"\u001b[39m \u001b[39m+\u001b[39m tag \u001b[39m+\u001b[39m \u001b[39m\"\u001b[39m\u001b[39m>\u001b[39m\u001b[39m\"\u001b[39m)\n\u001b[0;32m    909\u001b[0m \u001b[39melse\u001b[39;00m:\n",
      "    \u001b[1;31m[... skipping similar frames: _serialize_xml at line 906 (2 times)]\u001b[0m\n",
      "File \u001b[1;32mC:\\Program Files\\WindowsApps\\PythonSoftwareFoundation.Python.3.10_3.10.2800.0_x64__qbz5n2kfra8p0\\lib\\xml\\etree\\ElementTree.py:906\u001b[0m, in \u001b[0;36m_serialize_xml\u001b[1;34m(write, elem, qnames, namespaces, short_empty_elements, **kwargs)\u001b[0m\n\u001b[0;32m    904\u001b[0m         write(_escape_cdata(text))\n\u001b[0;32m    905\u001b[0m     \u001b[39mfor\u001b[39;00m e \u001b[39min\u001b[39;00m elem:\n\u001b[1;32m--> 906\u001b[0m         _serialize_xml(write, e, qnames, \u001b[39mNone\u001b[39;49;00m,\n\u001b[0;32m    907\u001b[0m                        short_empty_elements\u001b[39m=\u001b[39;49mshort_empty_elements)\n\u001b[0;32m    908\u001b[0m     write(\u001b[39m\"\u001b[39m\u001b[39m</\u001b[39m\u001b[39m\"\u001b[39m \u001b[39m+\u001b[39m tag \u001b[39m+\u001b[39m \u001b[39m\"\u001b[39m\u001b[39m>\u001b[39m\u001b[39m\"\u001b[39m)\n\u001b[0;32m    909\u001b[0m \u001b[39melse\u001b[39;00m:\n",
      "File \u001b[1;32mC:\\Program Files\\WindowsApps\\PythonSoftwareFoundation.Python.3.10_3.10.2800.0_x64__qbz5n2kfra8p0\\lib\\xml\\etree\\ElementTree.py:899\u001b[0m, in \u001b[0;36m_serialize_xml\u001b[1;34m(write, elem, qnames, namespaces, short_empty_elements, **kwargs)\u001b[0m\n\u001b[0;32m    897\u001b[0m             v \u001b[39m=\u001b[39m qnames[v\u001b[39m.\u001b[39mtext]\n\u001b[0;32m    898\u001b[0m         \u001b[39melse\u001b[39;00m:\n\u001b[1;32m--> 899\u001b[0m             v \u001b[39m=\u001b[39m _escape_attrib(v)\n\u001b[0;32m    900\u001b[0m         write(\u001b[39m\"\u001b[39m\u001b[39m \u001b[39m\u001b[39m%s\u001b[39;00m\u001b[39m=\u001b[39m\u001b[39m\\\"\u001b[39;00m\u001b[39m%s\u001b[39;00m\u001b[39m\\\"\u001b[39;00m\u001b[39m\"\u001b[39m \u001b[39m%\u001b[39m (qnames[k], v))\n\u001b[0;32m    901\u001b[0m \u001b[39mif\u001b[39;00m text \u001b[39mor\u001b[39;00m \u001b[39mlen\u001b[39m(elem) \u001b[39mor\u001b[39;00m \u001b[39mnot\u001b[39;00m short_empty_elements:\n",
      "File \u001b[1;32mC:\\Program Files\\WindowsApps\\PythonSoftwareFoundation.Python.3.10_3.10.2800.0_x64__qbz5n2kfra8p0\\lib\\xml\\etree\\ElementTree.py:1068\u001b[0m, in \u001b[0;36m_escape_attrib\u001b[1;34m(text)\u001b[0m\n\u001b[0;32m   1066\u001b[0m     \u001b[39mreturn\u001b[39;00m text\n\u001b[0;32m   1067\u001b[0m \u001b[39mexcept\u001b[39;00m (\u001b[39mTypeError\u001b[39;00m, \u001b[39mAttributeError\u001b[39;00m):\n\u001b[1;32m-> 1068\u001b[0m     _raise_serialization_error(text)\n",
      "File \u001b[1;32mC:\\Program Files\\WindowsApps\\PythonSoftwareFoundation.Python.3.10_3.10.2800.0_x64__qbz5n2kfra8p0\\lib\\xml\\etree\\ElementTree.py:1022\u001b[0m, in \u001b[0;36m_raise_serialization_error\u001b[1;34m(text)\u001b[0m\n\u001b[0;32m   1021\u001b[0m \u001b[39mdef\u001b[39;00m \u001b[39m_raise_serialization_error\u001b[39m(text):\n\u001b[1;32m-> 1022\u001b[0m     \u001b[39mraise\u001b[39;00m \u001b[39mTypeError\u001b[39;00m(\n\u001b[0;32m   1023\u001b[0m         \u001b[39m\"\u001b[39m\u001b[39mcannot serialize \u001b[39m\u001b[39m%r\u001b[39;00m\u001b[39m (type \u001b[39m\u001b[39m%s\u001b[39;00m\u001b[39m)\u001b[39m\u001b[39m\"\u001b[39m \u001b[39m%\u001b[39m (text, \u001b[39mtype\u001b[39m(text)\u001b[39m.\u001b[39m\u001b[39m__name__\u001b[39m)\n\u001b[0;32m   1024\u001b[0m         )\n",
      "\u001b[1;31mTypeError\u001b[0m: cannot serialize 5 (type int)"
     ]
    }
   ],
   "source": [
    "# [elem.tag for elem in root.iter()]\n",
    "# print(ET.tostring(root, encoding='utf8').decode('utf8'))\n",
    "for e in root.iter('{http://www.opengis.net/kml/2.2}PolyStyle'):\n",
    "    # print(ET.tostring(poly_e, encoding='utf8').decode('utf8'))\n",
    "    # print(\" \")\n",
    "    # print([elem.tag for elem in e.iter()])\n",
    "    fill_e = e.find('{http://www.opengis.net/kml/2.2}fill')\n",
    "    # print(fill_e)\n",
    "    fill_e.text = \"44\"\n",
    "    print(fill_e.text)\n",
    "    # print(ET.tostring(fill_e, encoding='utf8').decode('utf8'))\n",
    "    print(ET.tostring(root))\n"
   ]
  },
  {
   "cell_type": "code",
   "execution_count": 114,
   "metadata": {},
   "outputs": [],
   "source": [
    "for movie in root.iter('Polyst'):\n",
    "    print(movie.attrib)"
   ]
  },
  {
   "cell_type": "code",
   "execution_count": 117,
   "metadata": {},
   "outputs": [
    {
     "data": {
      "text/plain": [
       "['{http://www.opengis.net/kml/2.2}kml',\n",
       " '{http://www.opengis.net/kml/2.2}Document',\n",
       " '{http://www.opengis.net/kml/2.2}Schema',\n",
       " '{http://www.opengis.net/kml/2.2}SimpleField',\n",
       " '{http://www.opengis.net/kml/2.2}Folder',\n",
       " '{http://www.opengis.net/kml/2.2}name',\n",
       " '{http://www.opengis.net/kml/2.2}Placemark',\n",
       " '{http://www.opengis.net/kml/2.2}Style',\n",
       " '{http://www.opengis.net/kml/2.2}LineStyle',\n",
       " '{http://www.opengis.net/kml/2.2}color',\n",
       " '{http://www.opengis.net/kml/2.2}PolyStyle',\n",
       " '{http://www.opengis.net/kml/2.2}fill',\n",
       " '{http://www.opengis.net/kml/2.2}ExtendedData',\n",
       " '{http://www.opengis.net/kml/2.2}SchemaData',\n",
       " '{http://www.opengis.net/kml/2.2}SimpleData',\n",
       " '{http://www.opengis.net/kml/2.2}MultiGeometry',\n",
       " '{http://www.opengis.net/kml/2.2}Polygon',\n",
       " '{http://www.opengis.net/kml/2.2}outerBoundaryIs',\n",
       " '{http://www.opengis.net/kml/2.2}LinearRing',\n",
       " '{http://www.opengis.net/kml/2.2}coordinates',\n",
       " '{http://www.opengis.net/kml/2.2}Placemark',\n",
       " '{http://www.opengis.net/kml/2.2}Style',\n",
       " '{http://www.opengis.net/kml/2.2}LineStyle',\n",
       " '{http://www.opengis.net/kml/2.2}color',\n",
       " '{http://www.opengis.net/kml/2.2}PolyStyle',\n",
       " '{http://www.opengis.net/kml/2.2}fill',\n",
       " '{http://www.opengis.net/kml/2.2}ExtendedData',\n",
       " '{http://www.opengis.net/kml/2.2}SchemaData',\n",
       " '{http://www.opengis.net/kml/2.2}SimpleData',\n",
       " '{http://www.opengis.net/kml/2.2}MultiGeometry',\n",
       " '{http://www.opengis.net/kml/2.2}Polygon',\n",
       " '{http://www.opengis.net/kml/2.2}outerBoundaryIs',\n",
       " '{http://www.opengis.net/kml/2.2}LinearRing',\n",
       " '{http://www.opengis.net/kml/2.2}coordinates',\n",
       " '{http://www.opengis.net/kml/2.2}Placemark',\n",
       " '{http://www.opengis.net/kml/2.2}Style',\n",
       " '{http://www.opengis.net/kml/2.2}LineStyle',\n",
       " '{http://www.opengis.net/kml/2.2}color',\n",
       " '{http://www.opengis.net/kml/2.2}PolyStyle',\n",
       " '{http://www.opengis.net/kml/2.2}fill',\n",
       " '{http://www.opengis.net/kml/2.2}ExtendedData',\n",
       " '{http://www.opengis.net/kml/2.2}SchemaData',\n",
       " '{http://www.opengis.net/kml/2.2}SimpleData',\n",
       " '{http://www.opengis.net/kml/2.2}MultiGeometry',\n",
       " '{http://www.opengis.net/kml/2.2}Polygon',\n",
       " '{http://www.opengis.net/kml/2.2}outerBoundaryIs',\n",
       " '{http://www.opengis.net/kml/2.2}LinearRing',\n",
       " '{http://www.opengis.net/kml/2.2}coordinates',\n",
       " '{http://www.opengis.net/kml/2.2}Placemark',\n",
       " '{http://www.opengis.net/kml/2.2}Style',\n",
       " '{http://www.opengis.net/kml/2.2}LineStyle',\n",
       " '{http://www.opengis.net/kml/2.2}color',\n",
       " '{http://www.opengis.net/kml/2.2}PolyStyle',\n",
       " '{http://www.opengis.net/kml/2.2}fill',\n",
       " '{http://www.opengis.net/kml/2.2}ExtendedData',\n",
       " '{http://www.opengis.net/kml/2.2}SchemaData',\n",
       " '{http://www.opengis.net/kml/2.2}SimpleData',\n",
       " '{http://www.opengis.net/kml/2.2}MultiGeometry',\n",
       " '{http://www.opengis.net/kml/2.2}Polygon',\n",
       " '{http://www.opengis.net/kml/2.2}outerBoundaryIs',\n",
       " '{http://www.opengis.net/kml/2.2}LinearRing',\n",
       " '{http://www.opengis.net/kml/2.2}coordinates',\n",
       " '{http://www.opengis.net/kml/2.2}Placemark',\n",
       " '{http://www.opengis.net/kml/2.2}Style',\n",
       " '{http://www.opengis.net/kml/2.2}LineStyle',\n",
       " '{http://www.opengis.net/kml/2.2}color',\n",
       " '{http://www.opengis.net/kml/2.2}PolyStyle',\n",
       " '{http://www.opengis.net/kml/2.2}fill',\n",
       " '{http://www.opengis.net/kml/2.2}ExtendedData',\n",
       " '{http://www.opengis.net/kml/2.2}SchemaData',\n",
       " '{http://www.opengis.net/kml/2.2}SimpleData',\n",
       " '{http://www.opengis.net/kml/2.2}MultiGeometry',\n",
       " '{http://www.opengis.net/kml/2.2}Polygon',\n",
       " '{http://www.opengis.net/kml/2.2}outerBoundaryIs',\n",
       " '{http://www.opengis.net/kml/2.2}LinearRing',\n",
       " '{http://www.opengis.net/kml/2.2}coordinates',\n",
       " '{http://www.opengis.net/kml/2.2}Placemark',\n",
       " '{http://www.opengis.net/kml/2.2}Style',\n",
       " '{http://www.opengis.net/kml/2.2}LineStyle',\n",
       " '{http://www.opengis.net/kml/2.2}color',\n",
       " '{http://www.opengis.net/kml/2.2}PolyStyle',\n",
       " '{http://www.opengis.net/kml/2.2}fill',\n",
       " '{http://www.opengis.net/kml/2.2}ExtendedData',\n",
       " '{http://www.opengis.net/kml/2.2}SchemaData',\n",
       " '{http://www.opengis.net/kml/2.2}SimpleData',\n",
       " '{http://www.opengis.net/kml/2.2}MultiGeometry',\n",
       " '{http://www.opengis.net/kml/2.2}Polygon',\n",
       " '{http://www.opengis.net/kml/2.2}outerBoundaryIs',\n",
       " '{http://www.opengis.net/kml/2.2}LinearRing',\n",
       " '{http://www.opengis.net/kml/2.2}coordinates',\n",
       " '{http://www.opengis.net/kml/2.2}Placemark',\n",
       " '{http://www.opengis.net/kml/2.2}Style',\n",
       " '{http://www.opengis.net/kml/2.2}LineStyle',\n",
       " '{http://www.opengis.net/kml/2.2}color',\n",
       " '{http://www.opengis.net/kml/2.2}PolyStyle',\n",
       " '{http://www.opengis.net/kml/2.2}fill',\n",
       " '{http://www.opengis.net/kml/2.2}ExtendedData',\n",
       " '{http://www.opengis.net/kml/2.2}SchemaData',\n",
       " '{http://www.opengis.net/kml/2.2}SimpleData',\n",
       " '{http://www.opengis.net/kml/2.2}MultiGeometry',\n",
       " '{http://www.opengis.net/kml/2.2}Polygon',\n",
       " '{http://www.opengis.net/kml/2.2}outerBoundaryIs',\n",
       " '{http://www.opengis.net/kml/2.2}LinearRing',\n",
       " '{http://www.opengis.net/kml/2.2}coordinates',\n",
       " '{http://www.opengis.net/kml/2.2}Placemark',\n",
       " '{http://www.opengis.net/kml/2.2}Style',\n",
       " '{http://www.opengis.net/kml/2.2}LineStyle',\n",
       " '{http://www.opengis.net/kml/2.2}color',\n",
       " '{http://www.opengis.net/kml/2.2}PolyStyle',\n",
       " '{http://www.opengis.net/kml/2.2}fill',\n",
       " '{http://www.opengis.net/kml/2.2}ExtendedData',\n",
       " '{http://www.opengis.net/kml/2.2}SchemaData',\n",
       " '{http://www.opengis.net/kml/2.2}SimpleData',\n",
       " '{http://www.opengis.net/kml/2.2}MultiGeometry',\n",
       " '{http://www.opengis.net/kml/2.2}Polygon',\n",
       " '{http://www.opengis.net/kml/2.2}outerBoundaryIs',\n",
       " '{http://www.opengis.net/kml/2.2}LinearRing',\n",
       " '{http://www.opengis.net/kml/2.2}coordinates',\n",
       " '{http://www.opengis.net/kml/2.2}Placemark',\n",
       " '{http://www.opengis.net/kml/2.2}Style',\n",
       " '{http://www.opengis.net/kml/2.2}LineStyle',\n",
       " '{http://www.opengis.net/kml/2.2}color',\n",
       " '{http://www.opengis.net/kml/2.2}PolyStyle',\n",
       " '{http://www.opengis.net/kml/2.2}fill',\n",
       " '{http://www.opengis.net/kml/2.2}ExtendedData',\n",
       " '{http://www.opengis.net/kml/2.2}SchemaData',\n",
       " '{http://www.opengis.net/kml/2.2}SimpleData',\n",
       " '{http://www.opengis.net/kml/2.2}MultiGeometry',\n",
       " '{http://www.opengis.net/kml/2.2}Polygon',\n",
       " '{http://www.opengis.net/kml/2.2}outerBoundaryIs',\n",
       " '{http://www.opengis.net/kml/2.2}LinearRing',\n",
       " '{http://www.opengis.net/kml/2.2}coordinates',\n",
       " '{http://www.opengis.net/kml/2.2}Placemark',\n",
       " '{http://www.opengis.net/kml/2.2}Style',\n",
       " '{http://www.opengis.net/kml/2.2}LineStyle',\n",
       " '{http://www.opengis.net/kml/2.2}color',\n",
       " '{http://www.opengis.net/kml/2.2}PolyStyle',\n",
       " '{http://www.opengis.net/kml/2.2}fill',\n",
       " '{http://www.opengis.net/kml/2.2}ExtendedData',\n",
       " '{http://www.opengis.net/kml/2.2}SchemaData',\n",
       " '{http://www.opengis.net/kml/2.2}SimpleData',\n",
       " '{http://www.opengis.net/kml/2.2}MultiGeometry',\n",
       " '{http://www.opengis.net/kml/2.2}Polygon',\n",
       " '{http://www.opengis.net/kml/2.2}outerBoundaryIs',\n",
       " '{http://www.opengis.net/kml/2.2}LinearRing',\n",
       " '{http://www.opengis.net/kml/2.2}coordinates',\n",
       " '{http://www.opengis.net/kml/2.2}Placemark',\n",
       " '{http://www.opengis.net/kml/2.2}Style',\n",
       " '{http://www.opengis.net/kml/2.2}LineStyle',\n",
       " '{http://www.opengis.net/kml/2.2}color',\n",
       " '{http://www.opengis.net/kml/2.2}PolyStyle',\n",
       " '{http://www.opengis.net/kml/2.2}fill',\n",
       " '{http://www.opengis.net/kml/2.2}ExtendedData',\n",
       " '{http://www.opengis.net/kml/2.2}SchemaData',\n",
       " '{http://www.opengis.net/kml/2.2}SimpleData',\n",
       " '{http://www.opengis.net/kml/2.2}MultiGeometry',\n",
       " '{http://www.opengis.net/kml/2.2}Polygon',\n",
       " '{http://www.opengis.net/kml/2.2}outerBoundaryIs',\n",
       " '{http://www.opengis.net/kml/2.2}LinearRing',\n",
       " '{http://www.opengis.net/kml/2.2}coordinates',\n",
       " '{http://www.opengis.net/kml/2.2}Placemark',\n",
       " '{http://www.opengis.net/kml/2.2}Style',\n",
       " '{http://www.opengis.net/kml/2.2}LineStyle',\n",
       " '{http://www.opengis.net/kml/2.2}color',\n",
       " '{http://www.opengis.net/kml/2.2}PolyStyle',\n",
       " '{http://www.opengis.net/kml/2.2}fill',\n",
       " '{http://www.opengis.net/kml/2.2}ExtendedData',\n",
       " '{http://www.opengis.net/kml/2.2}SchemaData',\n",
       " '{http://www.opengis.net/kml/2.2}SimpleData',\n",
       " '{http://www.opengis.net/kml/2.2}MultiGeometry',\n",
       " '{http://www.opengis.net/kml/2.2}Polygon',\n",
       " '{http://www.opengis.net/kml/2.2}outerBoundaryIs',\n",
       " '{http://www.opengis.net/kml/2.2}LinearRing',\n",
       " '{http://www.opengis.net/kml/2.2}coordinates',\n",
       " '{http://www.opengis.net/kml/2.2}Placemark',\n",
       " '{http://www.opengis.net/kml/2.2}Style',\n",
       " '{http://www.opengis.net/kml/2.2}LineStyle',\n",
       " '{http://www.opengis.net/kml/2.2}color',\n",
       " '{http://www.opengis.net/kml/2.2}PolyStyle',\n",
       " '{http://www.opengis.net/kml/2.2}fill',\n",
       " '{http://www.opengis.net/kml/2.2}ExtendedData',\n",
       " '{http://www.opengis.net/kml/2.2}SchemaData',\n",
       " '{http://www.opengis.net/kml/2.2}SimpleData',\n",
       " '{http://www.opengis.net/kml/2.2}MultiGeometry',\n",
       " '{http://www.opengis.net/kml/2.2}Polygon',\n",
       " '{http://www.opengis.net/kml/2.2}outerBoundaryIs',\n",
       " '{http://www.opengis.net/kml/2.2}LinearRing',\n",
       " '{http://www.opengis.net/kml/2.2}coordinates',\n",
       " '{http://www.opengis.net/kml/2.2}Placemark',\n",
       " '{http://www.opengis.net/kml/2.2}Style',\n",
       " '{http://www.opengis.net/kml/2.2}LineStyle',\n",
       " '{http://www.opengis.net/kml/2.2}color',\n",
       " '{http://www.opengis.net/kml/2.2}PolyStyle',\n",
       " '{http://www.opengis.net/kml/2.2}fill',\n",
       " '{http://www.opengis.net/kml/2.2}ExtendedData',\n",
       " '{http://www.opengis.net/kml/2.2}SchemaData',\n",
       " '{http://www.opengis.net/kml/2.2}SimpleData',\n",
       " '{http://www.opengis.net/kml/2.2}MultiGeometry',\n",
       " '{http://www.opengis.net/kml/2.2}Polygon',\n",
       " '{http://www.opengis.net/kml/2.2}outerBoundaryIs',\n",
       " '{http://www.opengis.net/kml/2.2}LinearRing',\n",
       " '{http://www.opengis.net/kml/2.2}coordinates',\n",
       " '{http://www.opengis.net/kml/2.2}Placemark',\n",
       " '{http://www.opengis.net/kml/2.2}Style',\n",
       " '{http://www.opengis.net/kml/2.2}LineStyle',\n",
       " '{http://www.opengis.net/kml/2.2}color',\n",
       " '{http://www.opengis.net/kml/2.2}PolyStyle',\n",
       " '{http://www.opengis.net/kml/2.2}fill',\n",
       " '{http://www.opengis.net/kml/2.2}ExtendedData',\n",
       " '{http://www.opengis.net/kml/2.2}SchemaData',\n",
       " '{http://www.opengis.net/kml/2.2}SimpleData',\n",
       " '{http://www.opengis.net/kml/2.2}MultiGeometry',\n",
       " '{http://www.opengis.net/kml/2.2}Polygon',\n",
       " '{http://www.opengis.net/kml/2.2}outerBoundaryIs',\n",
       " '{http://www.opengis.net/kml/2.2}LinearRing',\n",
       " '{http://www.opengis.net/kml/2.2}coordinates',\n",
       " '{http://www.opengis.net/kml/2.2}Placemark',\n",
       " '{http://www.opengis.net/kml/2.2}Style',\n",
       " '{http://www.opengis.net/kml/2.2}LineStyle',\n",
       " '{http://www.opengis.net/kml/2.2}color',\n",
       " '{http://www.opengis.net/kml/2.2}PolyStyle',\n",
       " '{http://www.opengis.net/kml/2.2}fill',\n",
       " '{http://www.opengis.net/kml/2.2}ExtendedData',\n",
       " '{http://www.opengis.net/kml/2.2}SchemaData',\n",
       " '{http://www.opengis.net/kml/2.2}SimpleData',\n",
       " '{http://www.opengis.net/kml/2.2}MultiGeometry',\n",
       " '{http://www.opengis.net/kml/2.2}Polygon',\n",
       " '{http://www.opengis.net/kml/2.2}outerBoundaryIs',\n",
       " '{http://www.opengis.net/kml/2.2}LinearRing',\n",
       " '{http://www.opengis.net/kml/2.2}coordinates',\n",
       " '{http://www.opengis.net/kml/2.2}Placemark',\n",
       " '{http://www.opengis.net/kml/2.2}Style',\n",
       " '{http://www.opengis.net/kml/2.2}LineStyle',\n",
       " '{http://www.opengis.net/kml/2.2}color',\n",
       " '{http://www.opengis.net/kml/2.2}PolyStyle',\n",
       " '{http://www.opengis.net/kml/2.2}fill',\n",
       " '{http://www.opengis.net/kml/2.2}ExtendedData',\n",
       " '{http://www.opengis.net/kml/2.2}SchemaData',\n",
       " '{http://www.opengis.net/kml/2.2}SimpleData',\n",
       " '{http://www.opengis.net/kml/2.2}MultiGeometry',\n",
       " '{http://www.opengis.net/kml/2.2}Polygon',\n",
       " '{http://www.opengis.net/kml/2.2}outerBoundaryIs',\n",
       " '{http://www.opengis.net/kml/2.2}LinearRing',\n",
       " '{http://www.opengis.net/kml/2.2}coordinates',\n",
       " '{http://www.opengis.net/kml/2.2}Placemark',\n",
       " '{http://www.opengis.net/kml/2.2}Style',\n",
       " '{http://www.opengis.net/kml/2.2}LineStyle',\n",
       " '{http://www.opengis.net/kml/2.2}color',\n",
       " '{http://www.opengis.net/kml/2.2}PolyStyle',\n",
       " '{http://www.opengis.net/kml/2.2}fill',\n",
       " '{http://www.opengis.net/kml/2.2}ExtendedData',\n",
       " '{http://www.opengis.net/kml/2.2}SchemaData',\n",
       " '{http://www.opengis.net/kml/2.2}SimpleData',\n",
       " '{http://www.opengis.net/kml/2.2}MultiGeometry',\n",
       " '{http://www.opengis.net/kml/2.2}Polygon',\n",
       " '{http://www.opengis.net/kml/2.2}outerBoundaryIs',\n",
       " '{http://www.opengis.net/kml/2.2}LinearRing',\n",
       " '{http://www.opengis.net/kml/2.2}coordinates',\n",
       " '{http://www.opengis.net/kml/2.2}Placemark',\n",
       " '{http://www.opengis.net/kml/2.2}Style',\n",
       " '{http://www.opengis.net/kml/2.2}LineStyle',\n",
       " '{http://www.opengis.net/kml/2.2}color',\n",
       " '{http://www.opengis.net/kml/2.2}PolyStyle',\n",
       " '{http://www.opengis.net/kml/2.2}fill',\n",
       " '{http://www.opengis.net/kml/2.2}ExtendedData',\n",
       " '{http://www.opengis.net/kml/2.2}SchemaData',\n",
       " '{http://www.opengis.net/kml/2.2}SimpleData',\n",
       " '{http://www.opengis.net/kml/2.2}MultiGeometry',\n",
       " '{http://www.opengis.net/kml/2.2}Polygon',\n",
       " '{http://www.opengis.net/kml/2.2}outerBoundaryIs',\n",
       " '{http://www.opengis.net/kml/2.2}LinearRing',\n",
       " '{http://www.opengis.net/kml/2.2}coordinates',\n",
       " '{http://www.opengis.net/kml/2.2}Placemark',\n",
       " '{http://www.opengis.net/kml/2.2}Style',\n",
       " '{http://www.opengis.net/kml/2.2}LineStyle',\n",
       " '{http://www.opengis.net/kml/2.2}color',\n",
       " '{http://www.opengis.net/kml/2.2}PolyStyle',\n",
       " '{http://www.opengis.net/kml/2.2}fill',\n",
       " '{http://www.opengis.net/kml/2.2}ExtendedData',\n",
       " '{http://www.opengis.net/kml/2.2}SchemaData',\n",
       " '{http://www.opengis.net/kml/2.2}SimpleData',\n",
       " '{http://www.opengis.net/kml/2.2}MultiGeometry',\n",
       " '{http://www.opengis.net/kml/2.2}Polygon',\n",
       " '{http://www.opengis.net/kml/2.2}outerBoundaryIs',\n",
       " '{http://www.opengis.net/kml/2.2}LinearRing',\n",
       " '{http://www.opengis.net/kml/2.2}coordinates',\n",
       " '{http://www.opengis.net/kml/2.2}Placemark',\n",
       " '{http://www.opengis.net/kml/2.2}Style',\n",
       " '{http://www.opengis.net/kml/2.2}LineStyle',\n",
       " '{http://www.opengis.net/kml/2.2}color',\n",
       " '{http://www.opengis.net/kml/2.2}PolyStyle',\n",
       " '{http://www.opengis.net/kml/2.2}fill',\n",
       " '{http://www.opengis.net/kml/2.2}ExtendedData',\n",
       " '{http://www.opengis.net/kml/2.2}SchemaData',\n",
       " '{http://www.opengis.net/kml/2.2}SimpleData',\n",
       " '{http://www.opengis.net/kml/2.2}MultiGeometry',\n",
       " '{http://www.opengis.net/kml/2.2}Polygon',\n",
       " '{http://www.opengis.net/kml/2.2}outerBoundaryIs',\n",
       " '{http://www.opengis.net/kml/2.2}LinearRing',\n",
       " '{http://www.opengis.net/kml/2.2}coordinates']"
      ]
     },
     "execution_count": 117,
     "metadata": {},
     "output_type": "execute_result"
    }
   ],
   "source": [
    "[elem.tag for elem in root.iter()]"
   ]
  },
  {
   "cell_type": "code",
   "execution_count": 115,
   "metadata": {},
   "outputs": [],
   "source": [
    "# with open(kml_file, 'rb') as myfile:\n",
    "with open(kml_file, 'rt') as myfile:\n",
    "    doc=myfile.read()\n",
    "k = kml.KML()\n",
    "k.from_string(doc)"
   ]
  },
  {
   "cell_type": "code",
   "execution_count": 116,
   "metadata": {},
   "outputs": [
    {
     "data": {
      "text/plain": [
       "<fastkml.kml.KML at 0x1a31a198940>"
      ]
     },
     "execution_count": 116,
     "metadata": {},
     "output_type": "execute_result"
    }
   ],
   "source": [
    "k"
   ]
  }
 ],
 "metadata": {
  "kernelspec": {
   "display_name": "venv",
   "language": "python",
   "name": "python3"
  },
  "language_info": {
   "codemirror_mode": {
    "name": "ipython",
    "version": 3
   },
   "file_extension": ".py",
   "mimetype": "text/x-python",
   "name": "python",
   "nbconvert_exporter": "python",
   "pygments_lexer": "ipython3",
   "version": "3.10.10"
  },
  "orig_nbformat": 4
 },
 "nbformat": 4,
 "nbformat_minor": 2
}
