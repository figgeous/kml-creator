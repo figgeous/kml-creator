{
 "cells": [
  {
   "cell_type": "code",
   "execution_count": 11,
   "metadata": {},
   "outputs": [],
   "source": [
    "from constants import *\n",
    "from scripts.scripts import *\n",
    "from scripts.gdal_scripts import *"
   ]
  },
  {
   "cell_type": "code",
   "execution_count": 12,
   "metadata": {},
   "outputs": [
    {
     "name": "stdout",
     "output_type": "stream",
     "text": [
      "Driver: GTiff/GeoTIFF\n",
      "Files: tif_files/test_grid02-nearest-None-None-6e-05-3e-05-None-0-0.tif\n",
      "Size is 64, 64\n",
      "Coordinate System is:\n",
      "GEOGCRS[\"WGS 84\",\n",
      "    DATUM[\"World Geodetic System 1984\",\n",
      "        ELLIPSOID[\"WGS 84\",6378137,298.257223563,\n",
      "            LENGTHUNIT[\"metre\",1]]],\n",
      "    PRIMEM[\"Greenwich\",0,\n",
      "        ANGLEUNIT[\"degree\",0.0174532925199433]],\n",
      "    CS[ellipsoidal,2],\n",
      "        AXIS[\"geodetic latitude (Lat)\",north,\n",
      "            ORDER[1],\n",
      "            ANGLEUNIT[\"degree\",0.0174532925199433]],\n",
      "        AXIS[\"geodetic longitude (Lon)\",east,\n",
      "            ORDER[2],\n",
      "            ANGLEUNIT[\"degree\",0.0174532925199433]],\n",
      "    ID[\"EPSG\",4326]]\n",
      "Data axis to CRS axis mapping: 2,1\n",
      "Origin = (9.065843041000001,56.834808879999997)\n",
      "Pixel Size = (0.000011319437500,0.000006025937500)\n",
      "Metadata:\n",
      "  AREA_OR_POINT=Area\n",
      "Image Structure Metadata:\n",
      "  INTERLEAVE=BAND\n",
      "Corner Coordinates:\n",
      "Upper Left  (   9.0658430,  56.8348089) (  9d 3'57.03\"E, 56d50' 5.31\"N)\n",
      "Lower Left  (   9.0658430,  56.8351945) (  9d 3'57.03\"E, 56d50' 6.70\"N)\n",
      "Upper Right (   9.0665675,  56.8348089) (  9d 3'59.64\"E, 56d50' 5.31\"N)\n",
      "Lower Right (   9.0665675,  56.8351945) (  9d 3'59.64\"E, 56d50' 6.70\"N)\n",
      "Center      (   9.0662053,  56.8350017) (  9d 3'58.34\"E, 56d50' 6.01\"N)\n",
      "Band 1 Block=64x64 Type=Byte, ColorInterp=Gray\n",
      "\n"
     ]
    }
   ],
   "source": [
    "main_name = \"test_grid02-nearest-None-None-6e-05-3e-05-None-0-0\"\n",
    "gdal_print_metadata(tif_name=main_name)    "
   ]
  },
  {
   "cell_type": "code",
   "execution_count": 1,
   "metadata": {},
   "outputs": [
    {
     "ename": "NameError",
     "evalue": "name 'main_name' is not defined",
     "output_type": "error",
     "traceback": [
      "\u001B[1;31m---------------------------------------------------------------------------\u001B[0m",
      "\u001B[1;31mNameError\u001B[0m                                 Traceback (most recent call last)",
      "Cell \u001B[1;32mIn[1], line 36\u001B[0m\n\u001B[0;32m     25\u001B[0m     dst_filename \u001B[38;5;241m=\u001B[39m SHP_PATH\u001B[38;5;241m+\u001B[39m\u001B[38;5;124m'\u001B[39m\u001B[38;5;124msample.shp.zip\u001B[39m\u001B[38;5;124m'\u001B[39m\n\u001B[0;32m     26\u001B[0m     gdal_polygonize(\n\u001B[0;32m     27\u001B[0m         src_filename\u001B[38;5;241m=\u001B[39minput_tif,\n\u001B[0;32m     28\u001B[0m         dst_filename\u001B[38;5;241m=\u001B[39moutput_shp,\n\u001B[1;32m   (...)\u001B[0m\n\u001B[0;32m     32\u001B[0m         connectedness8\u001B[38;5;241m=\u001B[39mconnectedness8,\n\u001B[0;32m     33\u001B[0m         options\u001B[38;5;241m=\u001B[39moptions)\n\u001B[0;32m     35\u001B[0m make_polygons(\n\u001B[1;32m---> 36\u001B[0m     input_tif\u001B[38;5;241m=\u001B[39m\u001B[43mmain_name\u001B[49m,\n\u001B[0;32m     37\u001B[0m     output_shp\u001B[38;5;241m=\u001B[39mmain_name,\n\u001B[0;32m     38\u001B[0m )\n",
      "\u001B[1;31mNameError\u001B[0m: name 'main_name' is not defined"
     ]
    }
   ],
   "source": [
    "# import osgeo_utils.gdal_polygonize\n",
    "from osgeo_utils.gdal_polygonize import gdal_polygonize\n",
    "# def gdal_polygonize(src_filename: Optional[str] = None, band_number: Union[int, str] = 1,\n",
    "#                     dst_filename: Optional[str] = None, driver_name: Optional[str] = None,\n",
    "#                     dst_layername: Optional[str] = None, dst_fieldname: Optional[str] = None,\n",
    "#                     quiet: bool = False, mask: str = 'default', options: Optional[list] = None,\n",
    "#                     connectedness8: bool = False):\n",
    "\n",
    "def make_polygons(\n",
    "        input_tif:str,\n",
    "        input_band:int=1,\n",
    "        output_shp:str=None,\n",
    "        output_layer:str=None,\n",
    "        output_field:str=None,\n",
    "        connectedness8:bool=False,\n",
    "        options:str=None,\n",
    "        ) -> None:\n",
    "    assert '.tif' not in input_tif\n",
    "    assert '.shp' not in output_shp\n",
    "\n",
    "    input_tif = TIF_PATH+input_tif+\".tif\" if input_tif else None\n",
    "    output_shp = SHP_PATH+output_shp+\".shp.zip\" if output_shp else None\n",
    "\n",
    "    src_ds = TIF_PATH+'sample.tif'\n",
    "    dst_filename = SHP_PATH+'sample.shp.zip'\n",
    "    gdal_polygonize(\n",
    "        src_filename=input_tif,\n",
    "        dst_filename=output_shp,\n",
    "        band_number=input_band,\n",
    "        dst_layername=output_layer,\n",
    "        dst_fieldname=output_field,\n",
    "        connectedness8=connectedness8,\n",
    "        options=options)\n",
    "\n",
    "make_polygons(\n",
    "    input_tif=main_name,\n",
    "    output_shp=main_name,\n",
    ")"
   ]
  },
  {
   "cell_type": "code",
   "execution_count": 17,
   "metadata": {},
   "outputs": [],
   "source": [
    "from osgeo import gdal\n",
    "from osgeo import ogr\n",
    "from osgeo import gdalconst\n",
    "\n",
    "ndsm = TIF_PATH+main_name+'.tif'\n",
    "# shp = 'polygon.shp'\n",
    "data = gdal.Open(ndsm, gdalconst.GA_ReadOnly)\n"
   ]
  },
  {
   "cell_type": "code",
   "execution_count": 73,
   "metadata": {},
   "outputs": [
    {
     "ename": "TypeError",
     "evalue": "in method 'wrapper_GDALRasterizeDestName', argument 2 of type 'GDALDatasetShadow *'",
     "output_type": "error",
     "traceback": [
      "\u001B[1;31m---------------------------------------------------------------------------\u001B[0m",
      "\u001B[1;31mTypeError\u001B[0m                                 Traceback (most recent call last)",
      "Cell \u001B[1;32mIn[73], line 5\u001B[0m\n\u001B[0;32m      3\u001B[0m \u001B[39m# from osgeo import RasterizeOptions\u001B[39;00m\n\u001B[0;32m      4\u001B[0m options \u001B[39m=\u001B[39m gdal\u001B[39m.\u001B[39mRasterizeOptions(attribute\u001B[39m=\u001B[39m\u001B[39m\"\u001B[39m\u001B[39mvalue\u001B[39m\u001B[39m\"\u001B[39m,outputType\u001B[39m=\u001B[39mgdalconst\u001B[39m.\u001B[39mGDT_Byte,width\u001B[39m=\u001B[39m\u001B[39m256\u001B[39m,height\u001B[39m=\u001B[39m\u001B[39m256\u001B[39m,noData\u001B[39m=\u001B[39m\u001B[39m0\u001B[39m)\n\u001B[1;32m----> 5\u001B[0m gdal\u001B[39m.\u001B[39;49mRasterize(\n\u001B[0;32m      6\u001B[0m     destNameOrDestDS\u001B[39m=\u001B[39;49mTIF_PATH\u001B[39m+\u001B[39;49msample\u001B[39m+\u001B[39;49m\u001B[39m\"\u001B[39;49m\u001B[39m.tif\u001B[39;49m\u001B[39m\"\u001B[39;49m,\n\u001B[0;32m      7\u001B[0m     srcDS\u001B[39m=\u001B[39;49mfile,\n\u001B[0;32m      8\u001B[0m     options\u001B[39m=\u001B[39;49moptions)\n",
      "File \u001B[1;32mc:\\Users\\thoma\\Documents\\RUC CS project\\venv\\lib\\site-packages\\osgeo\\gdal.py:1249\u001B[0m, in \u001B[0;36mRasterize\u001B[1;34m(destNameOrDestDS, srcDS, **kwargs)\u001B[0m\n\u001B[0;32m   1246\u001B[0m     srcDS \u001B[39m=\u001B[39m OpenEx(srcDS, gdalconst\u001B[39m.\u001B[39mOF_VECTOR)\n\u001B[0;32m   1248\u001B[0m \u001B[39mif\u001B[39;00m \u001B[39misinstance\u001B[39m(destNameOrDestDS, \u001B[39mstr\u001B[39m):\n\u001B[1;32m-> 1249\u001B[0m     \u001B[39mreturn\u001B[39;00m wrapper_GDALRasterizeDestName(destNameOrDestDS, srcDS, opts, callback, callback_data)\n\u001B[0;32m   1250\u001B[0m \u001B[39melse\u001B[39;00m:\n\u001B[0;32m   1251\u001B[0m     \u001B[39mreturn\u001B[39;00m wrapper_GDALRasterizeDestDS(destNameOrDestDS, srcDS, opts, callback, callback_data)\n",
      "File \u001B[1;32mc:\\Users\\thoma\\Documents\\RUC CS project\\venv\\lib\\site-packages\\osgeo\\gdal.py:4317\u001B[0m, in \u001B[0;36mwrapper_GDALRasterizeDestName\u001B[1;34m(*args)\u001B[0m\n\u001B[0;32m   4315\u001B[0m \u001B[39mdef\u001B[39;00m \u001B[39mwrapper_GDALRasterizeDestName\u001B[39m(\u001B[39m*\u001B[39margs):\n\u001B[0;32m   4316\u001B[0m \u001B[39m    \u001B[39m\u001B[39mr\u001B[39m\u001B[39m\"\"\"wrapper_GDALRasterizeDestName(char const * dest, Dataset srcDS, GDALRasterizeOptions options, GDALProgressFunc callback=0, void * callback_data=None) -> Dataset\"\"\"\u001B[39;00m\n\u001B[1;32m-> 4317\u001B[0m     \u001B[39mreturn\u001B[39;00m _gdal\u001B[39m.\u001B[39;49mwrapper_GDALRasterizeDestName(\u001B[39m*\u001B[39;49margs)\n",
      "\u001B[1;31mTypeError\u001B[0m: in method 'wrapper_GDALRasterizeDestName', argument 2 of type 'GDALDatasetShadow *'"
     ]
    }
   ],
   "source": [
    "sample = \"sample2\"\n",
    "shp_name = \"test_grid02\"\n",
    "# from osgeo import RasterizeOptions\n",
    "options = gdal.RasterizeOptions(attribute=\"value\",outputType=gdalconst.GDT_Byte,width=256,height=256,noData=0)\n",
    "gdal.Rasterize(\n",
    "    destNameOrDestDS=TIF_PATH+sample+\".tif\",\n",
    "    srcDS=SHP_PATH+shp_name+\".shp.zip\",\n",
    "    options=options)"
   ]
  },
  {
   "cell_type": "code",
   "execution_count": 74,
   "metadata": {},
   "outputs": [
    {
     "data": {
      "image/png": "[encoded data removed]",
      "text/plain": [
       "<Figure size 640x480 with 2 Axes>"
      ]
     },
     "metadata": {},
     "output_type": "display_data"
    }
   ],
   "source": [
    "plot_raster(tif_name=sample)"
   ]
  }
 ],
 "metadata": {
  "kernelspec": {
   "display_name": "venv",
   "language": "python",
   "name": "python3"
  },
  "language_info": {
   "codemirror_mode": {
    "name": "ipython",
    "version": 3
   },
   "file_extension": ".py",
   "mimetype": "text/x-python",
   "name": "python",
   "nbconvert_exporter": "python",
   "pygments_lexer": "ipython3",
   "version": "3.10.10"
  },
  "orig_nbformat": 4
 },
 "nbformat": 4,
 "nbformat_minor": 2
}
